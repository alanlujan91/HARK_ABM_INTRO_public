{
 "cells": [
  {
   "cell_type": "markdown",
   "metadata": {},
   "source": [
    "# MMMI Oversight Script\n"
   ]
  },
  {
   "cell_type": "markdown",
   "metadata": {},
   "source": [
    "**TODO**: Configure agents to truly trade.\n",
    "\n",
    "**TODO**: *Step C.* Quarterly HARK agent updates."
   ]
  },
  {
   "cell_type": "code",
   "execution_count": 1,
   "metadata": {},
   "outputs": [],
   "source": [
    "import HARK.ConsumptionSaving.ConsPortfolioModel as cpm\n",
    "import logging\n",
    "import matplotlib.pyplot as plt\n",
    "import numpy as np\n",
    "import pandas as pd"
   ]
  },
  {
   "cell_type": "code",
   "execution_count": 2,
   "metadata": {},
   "outputs": [],
   "source": [
    "import sys\n",
    "\n",
    "sys.path.append('.')\n",
    "\n",
    "import hark_portfolio_agents as hpa"
   ]
  },
  {
   "cell_type": "code",
   "execution_count": 3,
   "metadata": {
    "scrolled": false
   },
   "outputs": [],
   "source": [
    "sys.path.append('../PNL/py')\n",
    "\n",
    "import util as UTIL\n",
    "import pnl as pnl"
   ]
  },
  {
   "cell_type": "markdown",
   "metadata": {},
   "source": [
    "## Initialize the Simulation"
   ]
  },
  {
   "cell_type": "markdown",
   "metadata": {},
   "source": [
    "### Initialize market information"
   ]
  },
  {
   "cell_type": "markdown",
   "metadata": {},
   "source": [
    "Some initial values for the simulation.\n",
    "\n",
    "$RAP_0$ is the starting risky asset price. This is adjust after every trading day."
   ]
  },
  {
   "cell_type": "code",
   "execution_count": 4,
   "metadata": {},
   "outputs": [],
   "source": [
    "risky_asset_price = 100"
   ]
  },
  {
   "cell_type": "markdown",
   "metadata": {},
   "source": [
    "HARK uses numerical values for wealth. This variable converts \"HARK money\" to dollars."
   ]
  },
  {
   "cell_type": "code",
   "execution_count": 5,
   "metadata": {},
   "outputs": [],
   "source": [
    "dollars_per_hark_money_unit = 1000"
   ]
  },
  {
   "cell_type": "markdown",
   "metadata": {},
   "source": [
    "Expected rate of return and standard deviation of the market price process will be updated over time.\n",
    "\n",
    "These are the starting values, derived from the S&P 500.\n",
    "\n",
    "$\\bar{r}_0 = 0.000628$\n",
    "\n",
    "$sr_0 = 0.011988$"
   ]
  },
  {
   "cell_type": "code",
   "execution_count": 6,
   "metadata": {},
   "outputs": [],
   "source": [
    "sp500_ror = 0.000628\n",
    "sp500_std = 0.011988\n",
    "\n",
    "market_rate_of_return = sp500_ror\n",
    "market_standard_deviation = sp500_std"
   ]
  },
  {
   "cell_type": "markdown",
   "metadata": {},
   "source": [
    "Calendar variables. Will ultimately set to be realistic; for now set low for testing."
   ]
  },
  {
   "cell_type": "code",
   "execution_count": 7,
   "metadata": {},
   "outputs": [],
   "source": [
    "days_per_quarter = 6\n",
    "quarters_per_simulation = 4"
   ]
  },
  {
   "cell_type": "markdown",
   "metadata": {},
   "source": [
    "An attention rate: the chance on any day that an agent will pay attention to the market and trade.\n",
    "\n",
    "Later, this can be a more realistic function of agent circumstances."
   ]
  },
  {
   "cell_type": "code",
   "execution_count": 8,
   "metadata": {},
   "outputs": [],
   "source": [
    "attention_rate = 1 / days_per_quarter"
   ]
  },
  {
   "cell_type": "markdown",
   "metadata": {},
   "source": [
    "We will need to convert daily price statistics to quarterly price statistics. HARK agents use quarterly (?) statistics. [**Question**: Should HARK agents rebalance knowing how many days are left in the quarter? Or based on a mean number of days between rebalancing periods (based on the attention rate)?]"
   ]
  },
  {
   "cell_type": "code",
   "execution_count": 9,
   "metadata": {},
   "outputs": [],
   "source": [
    "import math\n",
    "\n",
    "def ror_quarterly(ror, n_q):\n",
    "    return pow(1 + ror, n_q) - 1\n",
    "\n",
    "def sig_quarterly(std, n_q):\n",
    "    \"\"\"\n",
    "     The second formula only holds for special cases (see the attached paper by Andrew Lo), \n",
    "     but since we are generating the data we meet this special case.\n",
    "    \"\"\"\n",
    "    return math.sqrt(n_q) * std"
   ]
  },
  {
   "cell_type": "markdown",
   "metadata": {},
   "source": [
    "### Initialize agents to start\n",
    "\n",
    "This is to set up the agent parameters and quantities used in the simulation.\n",
    "\n",
    "`CRRA` refers to the `\\rho` parameter in the constant relative risk aversion utility function used by the agents. Utility is over units of resources consumed.\n",
    "\n",
    "`aNrmInitStd` is normalized initial market assets, standard deviation. The agents' starting wealth is drawn from a lognormal distribution with this standard deviation.\n",
    "\n",
    "`pLvlInitMean` and `pLvlInitStd` are the mean and standard deviation of the initial level of permanent income of the agents."
   ]
  },
  {
   "cell_type": "code",
   "execution_count": 10,
   "metadata": {},
   "outputs": [],
   "source": [
    "## List of tuples: \n",
    "##  ( parameters, (i.e. coefficient of relative risk aversion CRRA)\n",
    "##    number of agents represented,\n",
    "##    ( initial risky percent, $$$ in risky asset, $$$ in riskless asset)\n",
    "agent_classes = [\n",
    "    {\n",
    "        'CRRA': .9,\n",
    "        'AgentCount' : 10,\n",
    "        'aNrmInitMean' : 10000\n",
    "    }] * 10 + \\\n",
    "    [{\n",
    "        'CRRA': .95, \n",
    "        'AgentCount' : 10,\n",
    "        'aNrmInitMean': 10000\n",
    "    }] * 10 + \\\n",
    "    [{\n",
    "        'CRRA': .99, \n",
    "        'AgentCount' : 10,\n",
    "        'aNrmInitMean' : 10000\n",
    "    }] * 10\n",
    "\n",
    "\n",
    "### parameters shared by all agents\n",
    "agent_parameters = {\n",
    "    'aNrmInitStd' : 0.0,\n",
    "    'pLvlInitMean' : 1.0, # initial distribution of permanent income\n",
    "    'pLvlInitStd' : 0.0,\n",
    "    'Rfree' : 0,\n",
    "    'RiskyAvg': market_rate_of_return,\n",
    "    'RiskyStd': market_standard_deviation,    \n",
    "}"
   ]
  },
  {
   "cell_type": "code",
   "execution_count": 11,
   "metadata": {},
   "outputs": [
    {
     "data": {
      "text/plain": [
       "30"
      ]
     },
     "execution_count": 11,
     "metadata": {},
     "output_type": "execute_result"
    }
   ],
   "source": [
    "len(agent_classes)"
   ]
  },
  {
   "cell_type": "markdown",
   "metadata": {},
   "source": [
    "Initialize the agents."
   ]
  },
  {
   "cell_type": "code",
   "execution_count": 12,
   "metadata": {},
   "outputs": [],
   "source": [
    "agents = hpa.create_agents(agent_classes, agent_parameters)"
   ]
  },
  {
   "cell_type": "markdown",
   "metadata": {},
   "source": [
    "## Get agent risky allocations"
   ]
  },
  {
   "cell_type": "markdown",
   "metadata": {},
   "source": [
    "Use this stock price to determine the initial number of shares of the risky asset held by each\n",
    "agent:\n",
    " - $RAS_{i0} = (HEC_{i0}.RAW)/ RAP_0$\n",
    " \n",
    " where RAW is Risky Asset Wealth, amount of resources allocated to the risky asset.\n",
    " \n",
    " RAS is Risky Asset Shares, number of shares the agent has."
   ]
  },
  {
   "cell_type": "code",
   "execution_count": 13,
   "metadata": {},
   "outputs": [],
   "source": [
    "def compute_share_demand(agent):\n",
    "    agent.solve()\n",
    "    market_resources = agent.state_now['mNrm']\n",
    "    permanent_income = agent.state_now['pLvl']\n",
    "\n",
    "    # ShareFunc takes normalized market resources as argument\n",
    "    risky_share = agent.solution[0].ShareFuncAdj(\n",
    "        market_resources\n",
    "    )\n",
    "    \n",
    "    # denormalize the risky share. See https://github.com/econ-ark/HARK/issues/986\n",
    "    risky_asset_wealth = risky_share \\\n",
    "                        * market_resources \\\n",
    "                        * permanent_income \\\n",
    "                        * dollars_per_hark_money_unit \n",
    "    \n",
    "    shares = risky_asset_wealth / risky_asset_price\n",
    "    \n",
    "    return shares"
   ]
  },
  {
   "cell_type": "code",
   "execution_count": 14,
   "metadata": {},
   "outputs": [],
   "source": [
    "for agent in agents:\n",
    "    agent.shares = compute_share_demand(agent)"
   ]
  },
  {
   "cell_type": "markdown",
   "metadata": {},
   "source": [
    "## Prepare the main loop\n",
    "\n",
    "Functions to automate aspects of the main loop.\n",
    "(Will move this to module code once finalized).\n",
    "\n",
    "### Data stores\n",
    "\n",
    "For prices, rates or return, and standard deviations over time.\n"
   ]
  },
  {
   "cell_type": "code",
   "execution_count": 15,
   "metadata": {},
   "outputs": [],
   "source": [
    "\n",
    "prices = []\n",
    "ror_list = []\n",
    "std_list = []\n",
    "\n",
    "expected_ror_list = []\n",
    "expected_std_list = []"
   ]
  },
  {
   "cell_type": "markdown",
   "metadata": {},
   "source": [
    "### Activating agents\n",
    "\n",
    "\"At the beginning of each trading day $t + 1$, select a random group of HARK agents with replacement.\"\n",
    "\n",
    "**TODO**: HARK AgentType classes represent multiple agents (as many as `AgentCount`). It is difficult to have the agents within the same AgentType act 'separately', though these agents will have _ex ante_ and _ex post_ heterogeneity of some variables. For the purpose of MMMI, we may need to scaffold the agent model to make it easier to have multiple independently acting agents."
   ]
  },
  {
   "cell_type": "code",
   "execution_count": 16,
   "metadata": {},
   "outputs": [],
   "source": [
    "import random\n",
    "\n",
    "def activate(agents, attention_rate):\n",
    "    for agent in agents:\n",
    "        agent.attentive = random.random() < attention_rate"
   ]
  },
  {
   "cell_type": "code",
   "execution_count": 17,
   "metadata": {},
   "outputs": [],
   "source": [
    "activate(agents, attention_rate)"
   ]
  },
  {
   "cell_type": "markdown",
   "metadata": {},
   "source": [
    "\"**First**, determine the expected return and standard deviation of the risky asset to be used for decision period $t + 1$.\""
   ]
  },
  {
   "cell_type": "markdown",
   "metadata": {},
   "source": [
    "A number of constants used in the calculation of risky expecations."
   ]
  },
  {
   "cell_type": "code",
   "execution_count": 18,
   "metadata": {},
   "outputs": [],
   "source": [
    "import math\n",
    "\n",
    "p1 = 0.1\n",
    "delta_t1 = 30\n",
    "\n",
    "a = - math.log(p1) / delta_t1\n",
    "\n",
    "p2 = 0.1\n",
    "delta_t2 = 60\n",
    "\n",
    "b = math.log(p2) / delta_t2"
   ]
  },
  {
   "cell_type": "code",
   "execution_count": 19,
   "metadata": {},
   "outputs": [],
   "source": [
    "def calculate_risky_expectations():\n",
    "    # note use of data store lists for time tracking here -- not ideal\n",
    "    D_t = sum([math.exp(a * l) for l in ror_list])\n",
    "    S_t = math.exp(b * len(prices))\n",
    "    \n",
    "    w_0 = S_t\n",
    "    w_t = [(1 - S_t) * math.exp(a * (t+1)) / D_t for t in range(len(ror_list))]\n",
    "    \n",
    "    expected_ror = w_0 * sp500_ror + sum(\n",
    "        [w_ror[0] * w_ror[1]\n",
    "         for w_ror\n",
    "         in zip(w_t, ror_list)])\n",
    "    expected_ror_list.append(expected_ror)\n",
    "    \n",
    "    expected_std = math.sqrt(\n",
    "        w_0 * pow(sp500_ror, 2) \\\n",
    "        +  sum([w_ror_er[0] * pow(w_ror_er[1] - w_ror_er[2], 2)\n",
    "                for w_ror_er\n",
    "                in zip(w_t, ror_list, expected_ror_list)]))\n",
    "    expected_std_list.append(expected_std)\n",
    "\n",
    "    # TODO: This should be an adaptive function of market prices\n",
    "    # as described in John's Experiment design.\n",
    "    # This is a stopgap for now.\n",
    "    market_risky_params = {\n",
    "        'RiskyAvg': ror_quarterly(expected_ror, days_per_quarter),\n",
    "        'RiskyStd': sig_quarterly(expected_std, days_per_quarter)\n",
    "    }\n",
    "    \n",
    "    return market_risky_params\n"
   ]
  },
  {
   "cell_type": "markdown",
   "metadata": {},
   "source": [
    "\"**Second**, using [these expectations] calculate the total number of shares of the risky asset that the selected agents want to buy and sell.\""
   ]
  },
  {
   "cell_type": "code",
   "execution_count": 20,
   "metadata": {},
   "outputs": [],
   "source": [
    "def compute_total_buy_sell(agents):\n",
    "    \"\"\"\n",
    "    TODO: Should this be done without making so many changes to the underlying\n",
    "    agent? Could be done using copies.\n",
    "    \"\"\"\n",
    "    risky_expectations = calculate_risky_expectations()\n",
    "    \n",
    "    buy_shares_total = 0\n",
    "    sell_shares_total = 0\n",
    "    \n",
    "    for agent in agents:\n",
    "        if agent.attentive:\n",
    "            # Note: this mutates the underlying agent\n",
    "            agent.assign_parameters(**risky_expectations)\n",
    "            \n",
    "            d_shares = compute_share_demand(agent)\n",
    "            \n",
    "            \n",
    "            delta_shares = d_shares - agent.shares\n",
    "            \n",
    "            # NOTE: This mutates the agent\n",
    "            agent.shares = d_shares\n",
    "            \n",
    "            buy_shares_total += delta_shares[delta_shares > 0].sum()\n",
    "            sell_shares_total += -delta_shares[delta_shares < 0].sum()\n",
    "            \n",
    "    return (round(buy_shares_total), round(sell_shares_total))"
   ]
  },
  {
   "cell_type": "code",
   "execution_count": 21,
   "metadata": {},
   "outputs": [
    {
     "data": {
      "text/plain": [
       "(0, 0)"
      ]
     },
     "execution_count": 21,
     "metadata": {},
     "output_type": "execute_result"
    }
   ],
   "source": [
    "compute_total_buy_sell(agents)"
   ]
  },
  {
   "cell_type": "markdown",
   "metadata": {},
   "source": [
    "\"**Third**, using [total buy and sell shares] as input to the Buy Broker and Sell Broker, run a day of NetLogo trading and determine the end of day price of the risky asset.\""
   ]
  },
  {
   "cell_type": "code",
   "execution_count": 22,
   "metadata": {},
   "outputs": [],
   "source": [
    "import os\n",
    "\n",
    "def run_market(config, buy_sell, seed = None):    \n",
    "    pnl.run_NLsims(\n",
    "        config,\n",
    "        broker_buy_limit = buy_sell[0],\n",
    "        broker_sell_limit = buy_sell[1],\n",
    "        SEED = seed,\n",
    "        use_cache = True\n",
    "    )"
   ]
  },
  {
   "cell_type": "markdown",
   "metadata": {},
   "source": [
    "\"**Fourth**, use the final price to calculate the amount of wealth each (all) HARK agent has allocated to the risky asset.\""
   ]
  },
  {
   "cell_type": "code",
   "execution_count": 23,
   "metadata": {},
   "outputs": [],
   "source": [
    "def get_transactions(config, seed = 0, buy_sell = (0,0)):\n",
    "    logfile = pnl.transaction_file_name(config, seed, buy_sell[0], buy_sell[1])\n",
    "    \n",
    "    # use run_market() first to create logs\n",
    "    transactions = pd.read_csv(\n",
    "        logfile,\n",
    "        delimiter='\\t'\n",
    "    )\n",
    "    return transactions\n",
    "\n",
    "def get_last_simulation_price(config, seed = 0, buy_sell = (0,0)):\n",
    "    \"\"\"\n",
    "    Dividing the output of this by 4\n",
    "    \"\"\"\n",
    "    \n",
    "    transactions = get_transactions(config, seed=seed, buy_sell = buy_sell)\n",
    "    prices = transactions['TrdPrice']\n",
    "    \n",
    "    return prices[prices.index.values[-1]]"
   ]
  },
  {
   "cell_type": "code",
   "execution_count": 24,
   "metadata": {},
   "outputs": [],
   "source": [
    "netlogo_ror = -0.00052125\n",
    "netlogo_std =  0.0068\n",
    "simulation_price_scale = 0.25\n",
    "\n",
    "def daily_rate_of_return(config = None, seed = 0, buy_sell = (0, 0)):\n",
    "    \n",
    "    last_sim_price = get_last_simulation_price(config, seed=seed, buy_sell = buy_sell)\n",
    "    \n",
    "    ror = (last_sim_price * simulation_price_scale - 100) / 100\n",
    "    \n",
    "    # adjust to calibrated NetLogo to S&P500\n",
    "    ror = sp500_std * (ror - netlogo_ror) / netlogo_std + sp500_ror\n",
    "    \n",
    "    return ror"
   ]
  },
  {
   "cell_type": "code",
   "execution_count": 25,
   "metadata": {},
   "outputs": [],
   "source": [
    "def update_agent_wealth(old_share_price, ror):\n",
    "\n",
    "    new_share_price = old_share_price * (1 + ror)\n",
    "\n",
    "    for agent in agents:\n",
    "        market_resources = agent.state_now['mNrm'] * agent.state_now['pLvl']\n",
    "    \n",
    "        old_raw = agent.shares * old_share_price\n",
    "        new_raw = agent.shares * new_share_price\n",
    "    \n",
    "        delta_mNrm = (new_raw - old_raw) / \\\n",
    "            (dollars_per_hark_money_unit * agent.state_now['pLvl'])\n",
    "    \n",
    "        agent.state_now['mNrm'] = agent.state_now['mNrm'] + delta_mNrm"
   ]
  },
  {
   "cell_type": "markdown",
   "metadata": {},
   "source": [
    "\"Repeat each trading day until the end of the quarter. Then update the economic conditions for each HARK agent (e.g., permanent income level), and repeat [daily loop].\""
   ]
  },
  {
   "cell_type": "markdown",
   "metadata": {},
   "source": [
    "## Run the main loop\n",
    "\n"
   ]
  },
  {
   "cell_type": "code",
   "execution_count": 26,
   "metadata": {
    "code_folding": [],
    "scrolled": false
   },
   "outputs": [
    {
     "name": "stdout",
     "output_type": "stream",
     "text": [
      "config_file: ../PNL/macroliquidity.ini\n",
      "config_local_file: ../PNL/macroliquidity_local.ini\n",
      "Q-0:D-0\n",
      "Buy/Sell Limit: (0, 0)\n",
      "Output for S:0,BL:0,SL:0 already exists.\n",
      "Will use cache.\n",
      "ror: 0.005954286029411765\n",
      "Q-0:D-1\n",
      "Buy/Sell Limit: (0, 0)\n",
      "Output for S:1,BL:0,SL:0 already exists.\n",
      "Will use cache.\n",
      "ror: 0.0015469330882352942\n",
      "Q-0:D-2\n",
      "Buy/Sell Limit: (0, 0)\n",
      "Output for S:2,BL:0,SL:0 already exists.\n",
      "Will use cache.\n",
      "ror: 0.005954286029411765\n",
      "Q-0:D-3\n",
      "Buy/Sell Limit: (0, 0)\n",
      "Output for S:3,BL:0,SL:0 already exists.\n",
      "Will use cache.\n",
      "ror: 0.0015469330882352942\n",
      "Q-0:D-4\n",
      "Buy/Sell Limit: (0, 0)\n",
      "Output for S:4,BL:0,SL:0 already exists.\n",
      "Will use cache.\n",
      "ror: 0.005954286029411765\n",
      "Q-0:D-5\n",
      "Buy/Sell Limit: (0, 0)\n",
      "Output for S:0,BL:0,SL:0 already exists.\n",
      "Will use cache.\n",
      "ror: 0.005954286029411765\n",
      "Q-1:D-0\n",
      "Buy/Sell Limit: (0, 0)\n",
      "Output for S:1,BL:0,SL:0 already exists.\n",
      "Will use cache.\n",
      "ror: 0.0015469330882352942\n",
      "Q-1:D-1\n",
      "Buy/Sell Limit: (0, 0)\n",
      "Output for S:2,BL:0,SL:0 already exists.\n",
      "Will use cache.\n",
      "ror: 0.005954286029411765\n",
      "Q-1:D-2\n",
      "Buy/Sell Limit: (0, 0)\n",
      "Output for S:3,BL:0,SL:0 already exists.\n",
      "Will use cache.\n",
      "ror: 0.0015469330882352942\n",
      "Q-1:D-3\n",
      "Buy/Sell Limit: (0, 0)\n",
      "Output for S:4,BL:0,SL:0 already exists.\n",
      "Will use cache.\n",
      "ror: 0.005954286029411765\n",
      "Q-1:D-4\n",
      "Buy/Sell Limit: (0, 0)\n",
      "Output for S:0,BL:0,SL:0 already exists.\n",
      "Will use cache.\n",
      "ror: 0.005954286029411765\n",
      "Q-1:D-5\n",
      "Buy/Sell Limit: (0, 0)\n",
      "Output for S:1,BL:0,SL:0 already exists.\n",
      "Will use cache.\n",
      "ror: 0.0015469330882352942\n",
      "Q-2:D-0\n",
      "Buy/Sell Limit: (0, 0)\n",
      "Output for S:2,BL:0,SL:0 already exists.\n",
      "Will use cache.\n",
      "ror: 0.005954286029411765\n",
      "Q-2:D-1\n",
      "Buy/Sell Limit: (0, 0)\n",
      "Output for S:3,BL:0,SL:0 already exists.\n",
      "Will use cache.\n",
      "ror: 0.0015469330882352942\n",
      "Q-2:D-2\n",
      "Buy/Sell Limit: (0, 0)\n",
      "Output for S:4,BL:0,SL:0 already exists.\n",
      "Will use cache.\n",
      "ror: 0.005954286029411765\n",
      "Q-2:D-3\n",
      "Buy/Sell Limit: (0, 0)\n",
      "Output for S:0,BL:0,SL:0 already exists.\n",
      "Will use cache.\n",
      "ror: 0.005954286029411765\n",
      "Q-2:D-4\n",
      "Buy/Sell Limit: (0, 0)\n",
      "Output for S:1,BL:0,SL:0 already exists.\n",
      "Will use cache.\n",
      "ror: 0.0015469330882352942\n",
      "Q-2:D-5\n",
      "Buy/Sell Limit: (0, 0)\n",
      "Output for S:2,BL:0,SL:0 already exists.\n",
      "Will use cache.\n",
      "ror: 0.005954286029411765\n",
      "Q-3:D-0\n",
      "Buy/Sell Limit: (0, 0)\n",
      "Output for S:3,BL:0,SL:0 already exists.\n",
      "Will use cache.\n",
      "ror: 0.0015469330882352942\n",
      "Q-3:D-1\n",
      "Buy/Sell Limit: (0, 0)\n",
      "Output for S:4,BL:0,SL:0 already exists.\n",
      "Will use cache.\n",
      "ror: 0.005954286029411765\n",
      "Q-3:D-2\n",
      "Buy/Sell Limit: (0, 0)\n",
      "Output for S:0,BL:0,SL:0 already exists.\n",
      "Will use cache.\n",
      "ror: 0.005954286029411765\n",
      "Q-3:D-3\n",
      "Buy/Sell Limit: (0, 0)\n",
      "Output for S:1,BL:0,SL:0 already exists.\n",
      "Will use cache.\n",
      "ror: 0.0015469330882352942\n",
      "Q-3:D-4\n",
      "Buy/Sell Limit: (0, 0)\n",
      "Output for S:2,BL:0,SL:0 already exists.\n",
      "Will use cache.\n",
      "ror: 0.005954286029411765\n",
      "Q-3:D-5\n",
      "Buy/Sell Limit: (0, 0)\n",
      "Output for S:3,BL:0,SL:0 already exists.\n",
      "Will use cache.\n",
      "ror: 0.0015469330882352942\n"
     ]
    }
   ],
   "source": [
    "import itertools\n",
    "\n",
    "seeds = itertools.cycle([0,1,2,3,4])\n",
    "\n",
    "config = UTIL.read_config(\n",
    "    config_file = \"../PNL/macroliquidity.ini\",\n",
    "    config_local_file = \"../PNL/macroliquidity_local.ini\"\n",
    ")\n",
    "\n",
    "# Main loop\n",
    "for quarter in range(quarters_per_simulation):\n",
    "    for day in range(days_per_quarter):\n",
    "        print(f\"Q-{quarter}:D-{day}\")\n",
    "        \n",
    "        # Set to a number for a fixed seed, or None to rotate\n",
    "        seed = next(seeds)\n",
    "\n",
    "        prices.append(risky_asset_price)\n",
    "        \n",
    "        activate(agents, attention_rate)\n",
    "        buy_sell = compute_total_buy_sell(agents)\n",
    "        print(\"Buy/Sell Limit: \" + str(buy_sell))\n",
    "        run_market(config, buy_sell, seed = seed)\n",
    "        \n",
    "        ror =  daily_rate_of_return(config = config, seed = seed, buy_sell = buy_sell)\n",
    "        print(\"ror: \" + str(ror))\n",
    "        ror_list.append(ror)\n",
    "        \n",
    "        update_agent_wealth(risky_asset_price, ror)\n",
    "        \n",
    "        risky_asset_price = risky_asset_price * (1 + ror)"
   ]
  },
  {
   "cell_type": "code",
   "execution_count": 27,
   "metadata": {},
   "outputs": [
    {
     "data": {
      "text/plain": [
       "24"
      ]
     },
     "execution_count": 27,
     "metadata": {},
     "output_type": "execute_result"
    }
   ],
   "source": [
    "len(ror_list)"
   ]
  },
  {
   "cell_type": "code",
   "execution_count": 28,
   "metadata": {},
   "outputs": [
    {
     "data": {
      "text/html": [
       "<div>\n",
       "<style scoped>\n",
       "    .dataframe tbody tr th:only-of-type {\n",
       "        vertical-align: middle;\n",
       "    }\n",
       "\n",
       "    .dataframe tbody tr th {\n",
       "        vertical-align: top;\n",
       "    }\n",
       "\n",
       "    .dataframe thead th {\n",
       "        text-align: right;\n",
       "    }\n",
       "</style>\n",
       "<table border=\"1\" class=\"dataframe\">\n",
       "  <thead>\n",
       "    <tr style=\"text-align: right;\">\n",
       "      <th></th>\n",
       "      <th>prices</th>\n",
       "      <th>ror_list</th>\n",
       "      <th>expected_ror</th>\n",
       "      <th>expected_std</th>\n",
       "    </tr>\n",
       "  </thead>\n",
       "  <tbody>\n",
       "    <tr>\n",
       "      <th>0</th>\n",
       "      <td>100.000000</td>\n",
       "      <td>NaN</td>\n",
       "      <td>0.000628</td>\n",
       "      <td>0.000628</td>\n",
       "    </tr>\n",
       "    <tr>\n",
       "      <th>1</th>\n",
       "      <td>100.000000</td>\n",
       "      <td>0.005954</td>\n",
       "      <td>0.000604</td>\n",
       "      <td>0.000616</td>\n",
       "    </tr>\n",
       "    <tr>\n",
       "      <th>2</th>\n",
       "      <td>100.595429</td>\n",
       "      <td>0.001547</td>\n",
       "      <td>0.001056</td>\n",
       "      <td>0.001621</td>\n",
       "    </tr>\n",
       "    <tr>\n",
       "      <th>3</th>\n",
       "      <td>100.751043</td>\n",
       "      <td>0.005954</td>\n",
       "      <td>0.001007</td>\n",
       "      <td>0.001440</td>\n",
       "    </tr>\n",
       "    <tr>\n",
       "      <th>4</th>\n",
       "      <td>101.350944</td>\n",
       "      <td>0.001547</td>\n",
       "      <td>0.001284</td>\n",
       "      <td>0.001809</td>\n",
       "    </tr>\n",
       "    <tr>\n",
       "      <th>5</th>\n",
       "      <td>101.507727</td>\n",
       "      <td>0.005954</td>\n",
       "      <td>0.001296</td>\n",
       "      <td>0.001744</td>\n",
       "    </tr>\n",
       "    <tr>\n",
       "      <th>6</th>\n",
       "      <td>102.112133</td>\n",
       "      <td>0.005954</td>\n",
       "      <td>0.001591</td>\n",
       "      <td>0.002047</td>\n",
       "    </tr>\n",
       "    <tr>\n",
       "      <th>7</th>\n",
       "      <td>102.720138</td>\n",
       "      <td>0.001547</td>\n",
       "      <td>0.001893</td>\n",
       "      <td>0.002313</td>\n",
       "    </tr>\n",
       "    <tr>\n",
       "      <th>8</th>\n",
       "      <td>102.879039</td>\n",
       "      <td>0.005954</td>\n",
       "      <td>0.001921</td>\n",
       "      <td>0.002269</td>\n",
       "    </tr>\n",
       "    <tr>\n",
       "      <th>9</th>\n",
       "      <td>103.491610</td>\n",
       "      <td>0.001547</td>\n",
       "      <td>0.002257</td>\n",
       "      <td>0.002467</td>\n",
       "    </tr>\n",
       "    <tr>\n",
       "      <th>10</th>\n",
       "      <td>103.651705</td>\n",
       "      <td>0.005954</td>\n",
       "      <td>0.002295</td>\n",
       "      <td>0.002431</td>\n",
       "    </tr>\n",
       "    <tr>\n",
       "      <th>11</th>\n",
       "      <td>104.268876</td>\n",
       "      <td>0.005954</td>\n",
       "      <td>0.002669</td>\n",
       "      <td>0.002600</td>\n",
       "    </tr>\n",
       "    <tr>\n",
       "      <th>12</th>\n",
       "      <td>104.889723</td>\n",
       "      <td>0.001547</td>\n",
       "      <td>0.003060</td>\n",
       "      <td>0.002762</td>\n",
       "    </tr>\n",
       "    <tr>\n",
       "      <th>13</th>\n",
       "      <td>105.051981</td>\n",
       "      <td>0.005954</td>\n",
       "      <td>0.003107</td>\n",
       "      <td>0.002746</td>\n",
       "    </tr>\n",
       "    <tr>\n",
       "      <th>14</th>\n",
       "      <td>105.677490</td>\n",
       "      <td>0.001547</td>\n",
       "      <td>0.003546</td>\n",
       "      <td>0.002844</td>\n",
       "    </tr>\n",
       "    <tr>\n",
       "      <th>15</th>\n",
       "      <td>105.840966</td>\n",
       "      <td>0.005954</td>\n",
       "      <td>0.003603</td>\n",
       "      <td>0.002851</td>\n",
       "    </tr>\n",
       "    <tr>\n",
       "      <th>16</th>\n",
       "      <td>106.471173</td>\n",
       "      <td>0.005954</td>\n",
       "      <td>0.004096</td>\n",
       "      <td>0.002917</td>\n",
       "    </tr>\n",
       "    <tr>\n",
       "      <th>17</th>\n",
       "      <td>107.105133</td>\n",
       "      <td>0.001547</td>\n",
       "      <td>0.004613</td>\n",
       "      <td>0.002983</td>\n",
       "    </tr>\n",
       "    <tr>\n",
       "      <th>18</th>\n",
       "      <td>107.270818</td>\n",
       "      <td>0.005954</td>\n",
       "      <td>0.004681</td>\n",
       "      <td>0.003068</td>\n",
       "    </tr>\n",
       "    <tr>\n",
       "      <th>19</th>\n",
       "      <td>107.909539</td>\n",
       "      <td>0.001547</td>\n",
       "      <td>0.005264</td>\n",
       "      <td>0.003071</td>\n",
       "    </tr>\n",
       "    <tr>\n",
       "      <th>20</th>\n",
       "      <td>108.076468</td>\n",
       "      <td>0.005954</td>\n",
       "      <td>0.005344</td>\n",
       "      <td>0.003230</td>\n",
       "    </tr>\n",
       "    <tr>\n",
       "      <th>21</th>\n",
       "      <td>108.719986</td>\n",
       "      <td>0.005954</td>\n",
       "      <td>0.006001</td>\n",
       "      <td>0.003208</td>\n",
       "    </tr>\n",
       "    <tr>\n",
       "      <th>22</th>\n",
       "      <td>109.367336</td>\n",
       "      <td>0.001547</td>\n",
       "      <td>0.006694</td>\n",
       "      <td>0.003186</td>\n",
       "    </tr>\n",
       "    <tr>\n",
       "      <th>23</th>\n",
       "      <td>109.536520</td>\n",
       "      <td>0.005954</td>\n",
       "      <td>0.006789</td>\n",
       "      <td>0.003580</td>\n",
       "    </tr>\n",
       "    <tr>\n",
       "      <th>24</th>\n",
       "      <td>110.188732</td>\n",
       "      <td>0.001547</td>\n",
       "      <td>0.007571</td>\n",
       "      <td>0.003559</td>\n",
       "    </tr>\n",
       "  </tbody>\n",
       "</table>\n",
       "</div>"
      ],
      "text/plain": [
       "        prices  ror_list  expected_ror  expected_std\n",
       "0   100.000000       NaN      0.000628      0.000628\n",
       "1   100.000000  0.005954      0.000604      0.000616\n",
       "2   100.595429  0.001547      0.001056      0.001621\n",
       "3   100.751043  0.005954      0.001007      0.001440\n",
       "4   101.350944  0.001547      0.001284      0.001809\n",
       "5   101.507727  0.005954      0.001296      0.001744\n",
       "6   102.112133  0.005954      0.001591      0.002047\n",
       "7   102.720138  0.001547      0.001893      0.002313\n",
       "8   102.879039  0.005954      0.001921      0.002269\n",
       "9   103.491610  0.001547      0.002257      0.002467\n",
       "10  103.651705  0.005954      0.002295      0.002431\n",
       "11  104.268876  0.005954      0.002669      0.002600\n",
       "12  104.889723  0.001547      0.003060      0.002762\n",
       "13  105.051981  0.005954      0.003107      0.002746\n",
       "14  105.677490  0.001547      0.003546      0.002844\n",
       "15  105.840966  0.005954      0.003603      0.002851\n",
       "16  106.471173  0.005954      0.004096      0.002917\n",
       "17  107.105133  0.001547      0.004613      0.002983\n",
       "18  107.270818  0.005954      0.004681      0.003068\n",
       "19  107.909539  0.001547      0.005264      0.003071\n",
       "20  108.076468  0.005954      0.005344      0.003230\n",
       "21  108.719986  0.005954      0.006001      0.003208\n",
       "22  109.367336  0.001547      0.006694      0.003186\n",
       "23  109.536520  0.005954      0.006789      0.003580\n",
       "24  110.188732  0.001547      0.007571      0.003559"
      ]
     },
     "execution_count": 28,
     "metadata": {},
     "output_type": "execute_result"
    }
   ],
   "source": [
    "pd.DataFrame.from_dict({\n",
    "    'prices' : [100] + prices,\n",
    "    'ror_list' : [None] + ror_list,\n",
    "    'expected_ror' : expected_ror_list,\n",
    "    'expected_std' : expected_std_list\n",
    "})"
   ]
  },
  {
   "cell_type": "code",
   "execution_count": null,
   "metadata": {},
   "outputs": [],
   "source": []
  }
 ],
 "metadata": {
  "kernelspec": {
   "display_name": "econ-ark-3.8",
   "language": "python",
   "name": "econ-ark-3.8"
  },
  "language_info": {
   "codemirror_mode": {
    "name": "ipython",
    "version": 3
   },
   "file_extension": ".py",
   "mimetype": "text/x-python",
   "name": "python",
   "nbconvert_exporter": "python",
   "pygments_lexer": "ipython3",
   "version": "3.8.8"
  },
  "latex_envs": {
   "LaTeX_envs_menu_present": true,
   "autoclose": false,
   "autocomplete": true,
   "bibliofile": "biblio.bib",
   "cite_by": "apalike",
   "current_citInitial": 1,
   "eqLabelWithNumbers": true,
   "eqNumInitial": 1,
   "hotkeys": {
    "equation": "Ctrl-E",
    "itemize": "Ctrl-I"
   },
   "labels_anchors": false,
   "latex_user_defs": false,
   "report_style_numbering": false,
   "user_envs_cfg": false
  },
  "toc": {
   "base_numbering": 1,
   "nav_menu": {},
   "number_sections": true,
   "sideBar": true,
   "skip_h1_title": false,
   "title_cell": "Table of Contents",
   "title_sidebar": "Contents",
   "toc_cell": false,
   "toc_position": {},
   "toc_section_display": true,
   "toc_window_display": false
  }
 },
 "nbformat": 4,
 "nbformat_minor": 2
}
