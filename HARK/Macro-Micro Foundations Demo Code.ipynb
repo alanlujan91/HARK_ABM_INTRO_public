{
 "cells": [
  {
   "cell_type": "markdown",
   "metadata": {},
   "source": [
    "# MMMI Oversight Script\n"
   ]
  },
  {
   "cell_type": "markdown",
   "metadata": {},
   "source": [
    "**TODO**: *Step B.1.* Computation of risky expectations based on historic return information.\n",
    "\n",
    "**TODO**: *Step C.* Quarterly HARK agent updates."
   ]
  },
  {
   "cell_type": "code",
   "execution_count": 1,
   "metadata": {},
   "outputs": [],
   "source": [
    "import HARK.ConsumptionSaving.ConsPortfolioModel as cpm\n",
    "import logging\n",
    "import matplotlib.pyplot as plt\n",
    "import numpy as np\n",
    "import pandas as pd"
   ]
  },
  {
   "cell_type": "code",
   "execution_count": 2,
   "metadata": {},
   "outputs": [],
   "source": [
    "import sys\n",
    "\n",
    "sys.path.append('.')\n",
    "\n",
    "import hark_portfolio_agents as hpa"
   ]
  },
  {
   "cell_type": "code",
   "execution_count": 3,
   "metadata": {},
   "outputs": [],
   "source": [
    "sys.path.append('../PNL/py')\n",
    "\n",
    "import util as UTIL\n",
    "import pnl as pnl"
   ]
  },
  {
   "cell_type": "markdown",
   "metadata": {},
   "source": [
    "## Initialize the Simulation"
   ]
  },
  {
   "cell_type": "markdown",
   "metadata": {},
   "source": [
    "### Initialize market information"
   ]
  },
  {
   "cell_type": "markdown",
   "metadata": {},
   "source": [
    "Some initial values for the simulation.\n",
    "\n",
    "$RAP_0$ is the starting risky asset price. This is adjust after every trading day."
   ]
  },
  {
   "cell_type": "code",
   "execution_count": 4,
   "metadata": {},
   "outputs": [],
   "source": [
    "risky_asset_price = 100"
   ]
  },
  {
   "cell_type": "markdown",
   "metadata": {},
   "source": [
    "HARK uses numerical values for wealth. This variable converts \"HARK money\" to dollars."
   ]
  },
  {
   "cell_type": "code",
   "execution_count": 5,
   "metadata": {},
   "outputs": [],
   "source": [
    "dollars_per_hark_money_unit = 1000"
   ]
  },
  {
   "cell_type": "markdown",
   "metadata": {},
   "source": [
    "Expected rate of return and standard deviation of the market price process will be updated over time.\n",
    "\n",
    "These are the starting values, derived from the S&P 500.\n",
    "\n",
    "$\\bar{r}_0 = 0.000628$\n",
    "\n",
    "$sr_0 = 0.011988$"
   ]
  },
  {
   "cell_type": "code",
   "execution_count": 6,
   "metadata": {},
   "outputs": [],
   "source": [
    "sp500_ror = 0.000628\n",
    "sp500_std = 0.011988\n",
    "\n",
    "market_rate_of_return = sp500_ror\n",
    "market_standard_deviation = sp500_std\n",
    "\n",
    "market_risky_params = {\n",
    "    'RiskyAvg': market_rate_of_return,\n",
    "    'RiskyStd': market_standard_deviation,\n",
    "}\n"
   ]
  },
  {
   "cell_type": "markdown",
   "metadata": {},
   "source": [
    "Calendar variables. Will ultimately set to be realistic; for now set low for testing."
   ]
  },
  {
   "cell_type": "code",
   "execution_count": 7,
   "metadata": {},
   "outputs": [],
   "source": [
    "days_per_quarter = 6\n",
    "quarters_per_simulation = 4"
   ]
  },
  {
   "cell_type": "markdown",
   "metadata": {},
   "source": [
    "An attention rate: the chance on any day that an agent will pay attention to the market and trade.\n",
    "\n",
    "Later, this can be a more realistic function of agent circumstances."
   ]
  },
  {
   "cell_type": "code",
   "execution_count": 8,
   "metadata": {},
   "outputs": [],
   "source": [
    "attention_rate = 1 / days_per_quarter"
   ]
  },
  {
   "cell_type": "markdown",
   "metadata": {},
   "source": [
    "### Initialize agents to start\n",
    "\n",
    "This is to set up the agent parameters and quantities used in the simulation.\n",
    "\n",
    "`CRRA` refers to the `\\rho` parameter in the constant relative risk aversion utility function used by the agents. Utility is over units of resources consumed.\n",
    "\n",
    "`aNrmInitStd` is normalized initial market assets, standard deviation. The agents' starting wealth is drawn from a lognormal distribution with this standard deviation.\n",
    "\n",
    "`pLvlInitMean` and `pLvlInitStd` are the mean and standard deviation of the initial level of permanent income of the agents."
   ]
  },
  {
   "cell_type": "code",
   "execution_count": 9,
   "metadata": {},
   "outputs": [],
   "source": [
    "## List of tuples: \n",
    "##  ( parameters, (i.e. coefficient of relative risk aversion CRRA)\n",
    "##    number of agents represented,\n",
    "##    ( initial risky percent, $$$ in risky asset, $$$ in riskless asset)\n",
    "agent_classes = [\n",
    "    {\n",
    "        'CRRA': .9,\n",
    "        'AgentCount' : 10,\n",
    "        'aNrmInitMean' : 10\n",
    "    }] * 10 + \\\n",
    "    [{\n",
    "        'CRRA': .95, \n",
    "        'AgentCount' : 10,\n",
    "        'aNrmInitMean': 10\n",
    "    }] * 10 + \\\n",
    "    [{\n",
    "        'CRRA': .99, \n",
    "        'AgentCount' : 10,\n",
    "        'aNrmInitMean' : 10\n",
    "    }] * 10\n",
    "\n",
    "\n",
    "### parameters shared by all agents\n",
    "agent_parameters = {\n",
    "    'aNrmInitStd' : 0.0,\n",
    "    'pLvlInitMean' : 1.0, # initial distribution of permanent income\n",
    "    'pLvlInitStd' : 0.0,\n",
    "    'RiskyAvg': market_rate_of_return,\n",
    "    'RiskyStd': market_standard_deviation,    \n",
    "}"
   ]
  },
  {
   "cell_type": "code",
   "execution_count": 10,
   "metadata": {},
   "outputs": [
    {
     "data": {
      "text/plain": [
       "30"
      ]
     },
     "execution_count": 10,
     "metadata": {},
     "output_type": "execute_result"
    }
   ],
   "source": [
    "len(agent_classes)"
   ]
  },
  {
   "cell_type": "markdown",
   "metadata": {},
   "source": [
    "Initialize the agents."
   ]
  },
  {
   "cell_type": "code",
   "execution_count": 11,
   "metadata": {},
   "outputs": [],
   "source": [
    "agents = hpa.create_agents(agent_classes, agent_parameters)"
   ]
  },
  {
   "cell_type": "markdown",
   "metadata": {},
   "source": [
    "## Get agent risky allocations"
   ]
  },
  {
   "cell_type": "markdown",
   "metadata": {},
   "source": [
    "Use this stock price to determine the initial number of shares of the risky asset held by each\n",
    "agent:\n",
    " - $RAS_{i0} = (HEC_{i0}.RAW)/ RAP_0$\n",
    " \n",
    " where RAW is Risky Asset Wealth, amount of resources allocated to the risky asset.\n",
    " \n",
    " RAS is Risky Asset Shares, number of shares the agent has."
   ]
  },
  {
   "cell_type": "code",
   "execution_count": 12,
   "metadata": {},
   "outputs": [],
   "source": [
    "def compute_share_demand(agent):\n",
    "    agent.solve()\n",
    "    market_resources = agent.state_now['mNrm']\n",
    "    permanent_income = agent.state_now['pLvl']\n",
    "\n",
    "    # ShareFunc takes normalized market resources as argument\n",
    "    risky_share = agent.solution[0].ShareFuncAdj(\n",
    "        market_resources\n",
    "    )\n",
    "    \n",
    "    # denormalize the risky share. See https://github.com/econ-ark/HARK/issues/986\n",
    "    risky_asset_wealth = risky_share \\\n",
    "                        * market_resources \\\n",
    "                        * permanent_income \\\n",
    "                        * dollars_per_hark_money_unit \n",
    "    \n",
    "    shares = risky_asset_wealth / risky_asset_price\n",
    "    \n",
    "    return shares"
   ]
  },
  {
   "cell_type": "code",
   "execution_count": 13,
   "metadata": {},
   "outputs": [],
   "source": [
    "for agent in agents:\n",
    "    agent.shares = compute_share_demand(agent)"
   ]
  },
  {
   "cell_type": "markdown",
   "metadata": {},
   "source": [
    "## Prepare the main loop\n",
    "\n",
    "Functions to automate aspects of the main loop.\n",
    "(Will move this to module code once finalized).\n",
    "\n",
    "### Activating agents\n",
    "\n",
    "\"At the beginning of each trading day $t + 1$, select a random group of HARK agents with replacement.\"\n",
    "\n",
    "**TODO**: HARK AgentType classes represent multiple agents (as many as `AgentCount`). It is difficult to have the agents within the same AgentType act 'separately', though these agents will have _ex ante_ and _ex post_ heterogeneity of some variables. For the purpose of MMMI, we may need to scaffold the agent model to make it easier to have multiple independently acting agents."
   ]
  },
  {
   "cell_type": "code",
   "execution_count": 14,
   "metadata": {},
   "outputs": [],
   "source": [
    "import random\n",
    "\n",
    "def activate(agents, attention_rate):\n",
    "    for agent in agents:\n",
    "        agent.attentive = random.random() < attention_rate"
   ]
  },
  {
   "cell_type": "code",
   "execution_count": 15,
   "metadata": {},
   "outputs": [],
   "source": [
    "activate(agents, attention_rate)"
   ]
  },
  {
   "cell_type": "markdown",
   "metadata": {},
   "source": [
    "\"**First**, determine the expected return and standard deviation of the risky asset to be used for decision period $t + 1$.\""
   ]
  },
  {
   "cell_type": "code",
   "execution_count": 16,
   "metadata": {},
   "outputs": [],
   "source": [
    "def calculate_risky_expectations():\n",
    "    # TODO: This should be an adaptive function of market prices\n",
    "    # as described in John's Experiment design.\n",
    "    # This is a stopgap for now.\n",
    "    \n",
    "    return {\n",
    "        'RiskyAvg': market_rate_of_return,\n",
    "        'RiskyStd': market_standard_deviation\n",
    "    }\n",
    "    "
   ]
  },
  {
   "cell_type": "markdown",
   "metadata": {},
   "source": [
    "\"**Second**, using [these expectations] calculate the total number of shares of the risky asset that the selected agents want to buy and sell.\""
   ]
  },
  {
   "cell_type": "code",
   "execution_count": 17,
   "metadata": {},
   "outputs": [],
   "source": [
    "def compute_total_buy_sell(agents):\n",
    "    \"\"\"\n",
    "    TODO: Should this be done without making so many changes to the underlying\n",
    "    agent? Could be done using copies.\n",
    "    \"\"\"\n",
    "    risky_expectations = calculate_risky_expectations()\n",
    "    \n",
    "    buy_shares_total = 0\n",
    "    sell_shares_total = 0\n",
    "    \n",
    "    for agent in agents:\n",
    "        if agent.attentive:\n",
    "            # Note: this mutates the underlying agent\n",
    "            agent.assign_parameters(**risky_expectations)\n",
    "            \n",
    "            d_shares = compute_share_demand(agent)\n",
    "            \n",
    "            \n",
    "            delta_shares = d_shares - agent.shares\n",
    "            \n",
    "            # NOTE: This mutates the agent\n",
    "            agent.shares = d_shares\n",
    "            \n",
    "            buy_shares_total += delta_shares[delta_shares > 0].sum()\n",
    "            sell_shares_total += -delta_shares[delta_shares < 0].sum()\n",
    "            \n",
    "    return (round(buy_shares_total), round(sell_shares_total))"
   ]
  },
  {
   "cell_type": "code",
   "execution_count": 18,
   "metadata": {},
   "outputs": [
    {
     "data": {
      "text/plain": [
       "(0, 0)"
      ]
     },
     "execution_count": 18,
     "metadata": {},
     "output_type": "execute_result"
    }
   ],
   "source": [
    "compute_total_buy_sell(agents)"
   ]
  },
  {
   "cell_type": "markdown",
   "metadata": {},
   "source": [
    "\"**Third**, using [total buy and sell shares] as input to the Buy Broker and Sell Broker, run a day of NetLogo trading and determine the end of day price of the risky asset.\""
   ]
  },
  {
   "cell_type": "code",
   "execution_count": 28,
   "metadata": {},
   "outputs": [],
   "source": [
    "import os\n",
    "\n",
    "def run_market(buy_sell, seed = None):\n",
    "    output_path = f\"../PNL/out/logs/LMtransactions_{seed}.csv\"\n",
    "    if os.path.exists(output_path):\n",
    "        print(f\"Transaction output for {seed} already exists. Will use cache.\")\n",
    "        return\n",
    "    \n",
    "    \n",
    "    config = UTIL.read_config(\n",
    "        config_file = \"../PNL/macroliquidity.ini\",\n",
    "        config_local_file = \"../PNL/macroliquidity_local.ini\"\n",
    "    )\n",
    "    pnl.run_NLsims(\n",
    "        config,\n",
    "        broker_buy_limit = buy_sell[0],\n",
    "        broker_sell_limit = buy_sell[1],\n",
    "        SEED = seed\n",
    "    )"
   ]
  },
  {
   "cell_type": "code",
   "execution_count": 30,
   "metadata": {},
   "outputs": [
    {
     "name": "stdout",
     "output_type": "stream",
     "text": [
      "Transaction output for 1 already exists. Will use cache.\n"
     ]
    }
   ],
   "source": [
    "run_market((0,0),seed=1)"
   ]
  },
  {
   "cell_type": "markdown",
   "metadata": {},
   "source": [
    "\"**Fourth**, use the final price to calculate the amount of wealth each (all) HARK agent has allocated to the risky asset.\""
   ]
  },
  {
   "cell_type": "code",
   "execution_count": 31,
   "metadata": {},
   "outputs": [],
   "source": [
    "def get_transactions(seed=0):\n",
    "    # use run_market() first to create logs\n",
    "    transactions = pd.read_csv(\n",
    "        f\"../PNL/out/logs/LMtransactions_{seed}.csv\",\n",
    "        delimiter='\\t'\n",
    "    )\n",
    "    return transactions\n",
    "\n",
    "def get_last_simulation_price(seed=0):\n",
    "    \"\"\"\n",
    "    Dividing the output of this by 4\n",
    "    \"\"\"\n",
    "    \n",
    "    transactions = get_transactions(seed=seed)\n",
    "    prices = transactions['TrdPrice']\n",
    "    \n",
    "    return prices[prices.index.values[-1]]"
   ]
  },
  {
   "cell_type": "code",
   "execution_count": 32,
   "metadata": {},
   "outputs": [],
   "source": [
    "netlogo_ror = -0.00052125\n",
    "netlogo_std =  0.0068\n",
    "simulation_price_scale = 0.25\n",
    "\n",
    "def daily_rate_of_return(seed = 0):\n",
    "    \n",
    "    last_sim_price = get_last_simulation_price(seed=seed)\n",
    "    \n",
    "    ror = (last_sim_price * simulation_price_scale - 100) / 100\n",
    "    \n",
    "    # adjust to calibrated NetLogo to S&P500\n",
    "    ror = sp500_std * (ror - netlogo_ror) / netlogo_std + sp500_ror\n",
    "    \n",
    "    return ror"
   ]
  },
  {
   "cell_type": "code",
   "execution_count": 33,
   "metadata": {},
   "outputs": [],
   "source": [
    "def update_agent_wealth(old_share_price, ror):\n",
    "\n",
    "    new_share_price = old_share_price * (1 + ror)\n",
    "\n",
    "    for agent in agents:\n",
    "        market_resources = agent.state_now['mNrm'] * agent.state_now['pLvl']\n",
    "    \n",
    "        old_raw = agent.shares * old_share_price\n",
    "        new_raw = agent.shares * new_share_price\n",
    "    \n",
    "        delta_mNrm = (new_raw - old_raw) / \\\n",
    "            (dollars_per_hark_money_unit * agent.state_now['pLvl'])\n",
    "    \n",
    "        agent.state_now['mNrm'] = agent.state_now['mNrm'] + delta_mNrm"
   ]
  },
  {
   "cell_type": "markdown",
   "metadata": {},
   "source": [
    "\"Repeat each trading day until the end of the quarter. Then update the economic conditions for each HARK agent (e.g., permanent income level), and repeat [daily loop].\""
   ]
  },
  {
   "cell_type": "markdown",
   "metadata": {},
   "source": [
    "## Run the main loop\n",
    "\n"
   ]
  },
  {
   "cell_type": "code",
   "execution_count": 34,
   "metadata": {
    "code_folding": [],
    "scrolled": false
   },
   "outputs": [
    {
     "name": "stdout",
     "output_type": "stream",
     "text": [
      "Q-0:D-0\n",
      "Transaction output for 0 already exists. Will use cache.\n",
      "ror: 0.005954286029411765\n",
      "Q-0:D-1\n",
      "Transaction output for 0 already exists. Will use cache.\n",
      "ror: 0.005954286029411765\n",
      "Q-0:D-2\n",
      "Transaction output for 0 already exists. Will use cache.\n",
      "ror: 0.005954286029411765\n",
      "Q-0:D-3\n",
      "Transaction output for 0 already exists. Will use cache.\n",
      "ror: 0.005954286029411765\n",
      "Q-0:D-4\n",
      "Transaction output for 0 already exists. Will use cache.\n",
      "ror: 0.005954286029411765\n",
      "Q-0:D-5\n",
      "Transaction output for 0 already exists. Will use cache.\n",
      "ror: 0.005954286029411765\n",
      "Q-1:D-0\n",
      "Transaction output for 0 already exists. Will use cache.\n",
      "ror: 0.005954286029411765\n",
      "Q-1:D-1\n",
      "Transaction output for 0 already exists. Will use cache.\n",
      "ror: 0.005954286029411765\n",
      "Q-1:D-2\n",
      "Transaction output for 0 already exists. Will use cache.\n",
      "ror: 0.005954286029411765\n",
      "Q-1:D-3\n",
      "Transaction output for 0 already exists. Will use cache.\n",
      "ror: 0.005954286029411765\n",
      "Q-1:D-4\n",
      "Transaction output for 0 already exists. Will use cache.\n",
      "ror: 0.005954286029411765\n",
      "Q-1:D-5\n",
      "Transaction output for 0 already exists. Will use cache.\n",
      "ror: 0.005954286029411765\n",
      "Q-2:D-0\n",
      "Transaction output for 0 already exists. Will use cache.\n",
      "ror: 0.005954286029411765\n",
      "Q-2:D-1\n",
      "Transaction output for 0 already exists. Will use cache.\n",
      "ror: 0.005954286029411765\n",
      "Q-2:D-2\n",
      "Transaction output for 0 already exists. Will use cache.\n",
      "ror: 0.005954286029411765\n",
      "Q-2:D-3\n",
      "Transaction output for 0 already exists. Will use cache.\n",
      "ror: 0.005954286029411765\n",
      "Q-2:D-4\n",
      "Transaction output for 0 already exists. Will use cache.\n",
      "ror: 0.005954286029411765\n",
      "Q-2:D-5\n",
      "Transaction output for 0 already exists. Will use cache.\n",
      "ror: 0.005954286029411765\n",
      "Q-3:D-0\n",
      "Transaction output for 0 already exists. Will use cache.\n",
      "ror: 0.005954286029411765\n",
      "Q-3:D-1\n",
      "Transaction output for 0 already exists. Will use cache.\n",
      "ror: 0.005954286029411765\n",
      "Q-3:D-2\n",
      "Transaction output for 0 already exists. Will use cache.\n",
      "ror: 0.005954286029411765\n",
      "Q-3:D-3\n",
      "Transaction output for 0 already exists. Will use cache.\n",
      "ror: 0.005954286029411765\n",
      "Q-3:D-4\n",
      "Transaction output for 0 already exists. Will use cache.\n",
      "ror: 0.005954286029411765\n",
      "Q-3:D-5\n",
      "Transaction output for 0 already exists. Will use cache.\n",
      "ror: 0.005954286029411765\n"
     ]
    }
   ],
   "source": [
    "prices = []\n",
    "ror_list = [sp500_ror]\n",
    "std_list = [sp500_std]\n",
    "\n",
    "\n",
    "# Main loop\n",
    "for quarter in range(quarters_per_simulation):\n",
    "    for day in range(days_per_quarter):\n",
    "        print(f\"Q-{quarter}:D-{day}\")\n",
    "        \n",
    "        seed = 0\n",
    "        prices.append(risky_asset_price)\n",
    "        \n",
    "        activate(agents, attention_rate)\n",
    "        buy_sell = compute_total_buy_sell(agents)\n",
    "        run_market(buy_sell, seed = seed)\n",
    "        \n",
    "        ror =  daily_rate_of_return(seed = seed)\n",
    "        print(\"ror: \" + str(ror))\n",
    "        ror_list.append(ror)\n",
    "        \n",
    "        update_agent_wealth(risky_asset_price, ror)\n",
    "        \n",
    "        risky_asset_price = risky_asset_price * (1 + ror)"
   ]
  },
  {
   "cell_type": "code",
   "execution_count": 35,
   "metadata": {},
   "outputs": [
    {
     "data": {
      "text/plain": [
       "[103.62617599157338,\n",
       " 104.24319588356136,\n",
       " 104.86388968847207,\n",
       " 105.48827928183391,\n",
       " 106.11638666942842,\n",
       " 106.74823398806585,\n",
       " 107.38384350636537,\n",
       " 108.02323762553985,\n",
       " 108.66643888018542,\n",
       " 109.31346993907563,\n",
       " 109.96435360596038,\n",
       " 110.61911282036965,\n",
       " 111.2777706584219,\n",
       " 111.94035033363743,\n",
       " 112.60687519775645,\n",
       " 113.27736874156216,\n",
       " 113.95185459570857,\n",
       " 114.63035653155335,\n",
       " 115.31289846199566,\n",
       " 115.9995044423189,\n",
       " 116.69019867103847,\n",
       " 117.38500549075472,\n",
       " 118.08394938901074,\n",
       " 118.78705499915549]"
      ]
     },
     "execution_count": 35,
     "metadata": {},
     "output_type": "execute_result"
    }
   ],
   "source": [
    "prices"
   ]
  },
  {
   "cell_type": "code",
   "execution_count": 36,
   "metadata": {},
   "outputs": [
    {
     "data": {
      "text/plain": [
       "[0.000628,\n",
       " 0.005954286029411765,\n",
       " 0.005954286029411765,\n",
       " 0.005954286029411765,\n",
       " 0.005954286029411765,\n",
       " 0.005954286029411765,\n",
       " 0.005954286029411765,\n",
       " 0.005954286029411765,\n",
       " 0.005954286029411765,\n",
       " 0.005954286029411765,\n",
       " 0.005954286029411765,\n",
       " 0.005954286029411765,\n",
       " 0.005954286029411765,\n",
       " 0.005954286029411765,\n",
       " 0.005954286029411765,\n",
       " 0.005954286029411765,\n",
       " 0.005954286029411765,\n",
       " 0.005954286029411765,\n",
       " 0.005954286029411765,\n",
       " 0.005954286029411765,\n",
       " 0.005954286029411765,\n",
       " 0.005954286029411765,\n",
       " 0.005954286029411765,\n",
       " 0.005954286029411765,\n",
       " 0.005954286029411765]"
      ]
     },
     "execution_count": 36,
     "metadata": {},
     "output_type": "execute_result"
    }
   ],
   "source": [
    "ror_list"
   ]
  },
  {
   "cell_type": "markdown",
   "metadata": {},
   "source": [
    "# Old Code below : to update "
   ]
  },
  {
   "cell_type": "code",
   "execution_count": null,
   "metadata": {},
   "outputs": [],
   "source": [
    "# STEP 2. Create starting demand for the market.\n",
    "#         Burn in the new prices.\n",
    "\n",
    "\n",
    "buy_sell = hpa.aggregate_buy_and_sell(\n",
    "    hpa.no_demand(agents), # zero allocated to risky asset\n",
    "    init_demands\n",
    ")\n"
   ]
  },
  {
   "cell_type": "markdown",
   "metadata": {},
   "source": [
    "### Agents estimate return rate and volatility from historical data\n",
    "\n",
    "The agents look at the most recent historical price data to form their expectations of the future.\n",
    "\n",
    "This is a very simplified version of what could later be better specified in line with _adaptive expectations_:\n",
    "\n",
    "https://en.wikipedia.org/wiki/Adaptive_expectations"
   ]
  },
  {
   "cell_type": "markdown",
   "metadata": {},
   "source": [
    "### Demand function for the intermittent demand problem\n",
    "\n",
    "In the intermittent demand problem, consumers take their current state and determine risky porfolio share of their assets to invest.\n",
    "\n",
    "The agent responds to the price history by:\n",
    " - updating their current assets\n",
    " - updating their expectations of the risky asset\n",
    " - returning their risky share allocation.\n",
    "\n",
    "Other aspects of the problem are fixed for now."
   ]
  },
  {
   "cell_type": "markdown",
   "metadata": {},
   "source": [
    "### Putting it all together\n",
    "\n",
    "Each agent knows their old risky allocation, old risk free allocation, and the prices of the last quarter.\n",
    "\n",
    "They computer their new market assets and then their new demand."
   ]
  },
  {
   "cell_type": "code",
   "execution_count": null,
   "metadata": {},
   "outputs": [],
   "source": [
    "# STEP 3: Create the starting asset price. This will be used\n",
    "#         to translate $$$ values to asset quantities\n",
    "#         and adjust each period.\n",
    "\n",
    "asset_price = 100\n",
    "\n",
    "print(f\"Initial Buy/Sell: {buy_sell}\")\n",
    "\n",
    "## TODO: ABM Group reimplement the run_market method\n",
    "transactions = get_transactions()\n",
    "print(hpa.risky_expectations(transactions))"
   ]
  },
  {
   "cell_type": "code",
   "execution_count": null,
   "metadata": {},
   "outputs": [],
   "source": [
    "plt.plot(transactions['TrdPrice'])\n",
    "plt.title(\"Transaction price over time\")\n",
    "plt.show()\n",
    "\n",
    "\n",
    "old_demands = init_demands"
   ]
  },
  {
   "cell_type": "code",
   "execution_count": null,
   "metadata": {
    "scrolled": false
   },
   "outputs": [],
   "source": [
    "# STEP 4. Run simulation for N rebalances\n",
    "\n",
    "N = 10\n",
    "\n",
    "for i in range(N):\n",
    "    \n",
    "    print(f\"Asset price: {asset_price}\")\n",
    "\n",
    "    # simulate one period on the macro side\n",
    "    hpa.simulate(agents, 1)\n",
    "    \n",
    "    hpa.update_agents(agents, transactions)\n",
    "    print(hpa.risky_expectations(transactions))\n",
    "    new_demands = hpa.demands(agents, transactions)\n",
    "    \n",
    "    buy_sell = hpa.aggregate_buy_and_sell(\n",
    "        old_demands,\n",
    "        new_demands\n",
    "    )\n",
    "    print(f\"Round {i} Buy/Sell: {buy_sell}\")\n",
    "\n",
    "    #run_market(buy_sell, asset_price)\n",
    "    transactions = get_transactions()\n",
    "    print(hpa.risky_expectations(transactions))\n",
    "    \n",
    "    plt.plot(transactions['TrdPrice'])\n",
    "    plt.show()\n",
    "    \n",
    "    old_demands = new_demands\n",
    "    \n",
    "    risky_return = hpa.risky_actual_return(transactions)\n",
    "    asset_price = asset_price * risky_return[0]"
   ]
  },
  {
   "cell_type": "code",
   "execution_count": null,
   "metadata": {},
   "outputs": [],
   "source": [
    "agents[0].history['Risky'][:,0]"
   ]
  },
  {
   "cell_type": "code",
   "execution_count": null,
   "metadata": {},
   "outputs": [],
   "source": [
    "plt.plot(transactions[transactions['OrderQuantity'] > 0]['OrderPrice'])"
   ]
  },
  {
   "cell_type": "code",
   "execution_count": null,
   "metadata": {},
   "outputs": [],
   "source": [
    "transactions['OrderQuantity'] > 0"
   ]
  },
  {
   "cell_type": "code",
   "execution_count": null,
   "metadata": {
    "scrolled": true
   },
   "outputs": [],
   "source": [
    "transactions"
   ]
  },
  {
   "cell_type": "code",
   "execution_count": null,
   "metadata": {
    "scrolled": true
   },
   "outputs": [],
   "source": [
    "buys = transactions[(transactions['OrderBA'] == \"Buy\") & (transactions['OrderQuantity'] > 0)]\n",
    "sells = transactions[(transactions['OrderBA'] == \"Sell\") & (transactions['OrderQuantity'] > 0)]\n",
    "\n",
    "\n",
    "plt.plot(buys['Tick'], buys['OrderPrice'])\n",
    "plt.plot(sells['Tick'], sells['OrderPrice'])\n"
   ]
  },
  {
   "cell_type": "code",
   "execution_count": null,
   "metadata": {},
   "outputs": [],
   "source": [
    "sells"
   ]
  },
  {
   "cell_type": "code",
   "execution_count": null,
   "metadata": {},
   "outputs": [],
   "source": [
    "(transactions['OrderPrice'] * transactions['OrderQuantity']).sum() / transactions['OrderQuantity'].sum()"
   ]
  },
  {
   "cell_type": "code",
   "execution_count": null,
   "metadata": {},
   "outputs": [],
   "source": [
    "hpa.risky_expectations(transactions)"
   ]
  },
  {
   "cell_type": "code",
   "execution_count": null,
   "metadata": {},
   "outputs": [],
   "source": [
    "transactions[(transactions['OrderBA'] == \"Buy\") & (transactions['OrderQuantity'] > 0)]"
   ]
  },
  {
   "cell_type": "code",
   "execution_count": null,
   "metadata": {},
   "outputs": [],
   "source": [
    "agents[0].solution[0].ShareFuncAdj(0)"
   ]
  },
  {
   "cell_type": "code",
   "execution_count": null,
   "metadata": {},
   "outputs": [],
   "source": [
    "agents[0].state_now['mNrm']"
   ]
  },
  {
   "cell_type": "code",
   "execution_count": null,
   "metadata": {
    "scrolled": true
   },
   "outputs": [],
   "source": [
    "agents[0].state_now['pLvl']"
   ]
  },
  {
   "cell_type": "code",
   "execution_count": null,
   "metadata": {},
   "outputs": [],
   "source": [
    "new_assets(agent, hpa.risky_share, prices)"
   ]
  },
  {
   "cell_type": "code",
   "execution_count": null,
   "metadata": {},
   "outputs": [],
   "source": [
    "transactions = pd.read_csv(\"../PNL/out/logs/LMalltransactions_90_5.csv\", delimiter='\\t')"
   ]
  },
  {
   "cell_type": "code",
   "execution_count": null,
   "metadata": {},
   "outputs": [],
   "source": [
    "transactions"
   ]
  },
  {
   "cell_type": "code",
   "execution_count": null,
   "metadata": {},
   "outputs": [],
   "source": [
    "plt.plot(transactions['OrderPrice'])"
   ]
  },
  {
   "cell_type": "code",
   "execution_count": null,
   "metadata": {},
   "outputs": [],
   "source": [
    "transactions['TraderWhoType'].unique()"
   ]
  },
  {
   "cell_type": "code",
   "execution_count": null,
   "metadata": {},
   "outputs": [],
   "source": [
    "sales = transactions[transactions['TraderWhoType'] == 'LiqSellBkr']\n",
    "avg_sale_price = sales['OrderQuantity'] * sales['OrderPrice'] / sales['OrderPrice'].sum()"
   ]
  },
  {
   "cell_type": "code",
   "execution_count": null,
   "metadata": {},
   "outputs": [],
   "source": [
    "transactions[transactions['TraderWhoType'] == 'LiqBuyBkr']"
   ]
  },
  {
   "cell_type": "code",
   "execution_count": null,
   "metadata": {},
   "outputs": [],
   "source": [
    "buys = transactions[transactions['TraderWhoType'] == 'LiqBuyBkr]\n",
    "avg_buy_price = buys['OrderQuantity'] * buys['OrderPrice'] / buys['OrderPrice'].sum()"
   ]
  },
  {
   "cell_type": "code",
   "execution_count": null,
   "metadata": {},
   "outputs": [],
   "source": [
    "agents[0].history['mNrm'][0][-1] - agents[0].history['mNrm'][0][0]"
   ]
  },
  {
   "cell_type": "code",
   "execution_count": null,
   "metadata": {},
   "outputs": [],
   "source": [
    "agents[2].controls['Share']"
   ]
  },
  {
   "cell_type": "code",
   "execution_count": null,
   "metadata": {},
   "outputs": [],
   "source": []
  },
  {
   "cell_type": "code",
   "execution_count": null,
   "metadata": {},
   "outputs": [],
   "source": [
    "transactions"
   ]
  },
  {
   "cell_type": "code",
   "execution_count": null,
   "metadata": {},
   "outputs": [],
   "source": [
    "transactions[transactions['OrderQuantity'] == 0].groupby('Tick').size()"
   ]
  },
  {
   "cell_type": "code",
   "execution_count": null,
   "metadata": {},
   "outputs": [],
   "source": []
  }
 ],
 "metadata": {
  "kernelspec": {
   "display_name": "econ-ark-3.8",
   "language": "python",
   "name": "econ-ark-3.8"
  },
  "language_info": {
   "codemirror_mode": {
    "name": "ipython",
    "version": 3
   },
   "file_extension": ".py",
   "mimetype": "text/x-python",
   "name": "python",
   "nbconvert_exporter": "python",
   "pygments_lexer": "ipython3",
   "version": "3.8.8"
  },
  "latex_envs": {
   "LaTeX_envs_menu_present": true,
   "autoclose": false,
   "autocomplete": true,
   "bibliofile": "biblio.bib",
   "cite_by": "apalike",
   "current_citInitial": 1,
   "eqLabelWithNumbers": true,
   "eqNumInitial": 1,
   "hotkeys": {
    "equation": "Ctrl-E",
    "itemize": "Ctrl-I"
   },
   "labels_anchors": false,
   "latex_user_defs": false,
   "report_style_numbering": false,
   "user_envs_cfg": false
  },
  "toc": {
   "base_numbering": 1,
   "nav_menu": {},
   "number_sections": true,
   "sideBar": true,
   "skip_h1_title": false,
   "title_cell": "Table of Contents",
   "title_sidebar": "Contents",
   "toc_cell": false,
   "toc_position": {},
   "toc_section_display": true,
   "toc_window_display": false
  }
 },
 "nbformat": 4,
 "nbformat_minor": 2
}
