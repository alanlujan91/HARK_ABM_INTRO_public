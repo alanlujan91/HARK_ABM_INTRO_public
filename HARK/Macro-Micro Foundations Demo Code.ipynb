{
 "cells": [
  {
   "cell_type": "code",
   "execution_count": 1,
   "metadata": {},
   "outputs": [],
   "source": [
    "import HARK.ConsumptionSaving.ConsPortfolioModel as cpm\n",
    "import matplotlib.pyplot as plt\n",
    "import numpy as np\n",
    "import pandas as pd"
   ]
  },
  {
   "cell_type": "code",
   "execution_count": 2,
   "metadata": {},
   "outputs": [],
   "source": [
    "import sys\n",
    "\n",
    "sys.path.append('.')\n",
    "\n",
    "import hark_portfolio_agents as hpa"
   ]
  },
  {
   "cell_type": "code",
   "execution_count": 3,
   "metadata": {},
   "outputs": [],
   "source": [
    "sys.path.append('../PNL/py')\n",
    "\n",
    "import util as UTIL\n",
    "import pnl as pnl"
   ]
  },
  {
   "cell_type": "markdown",
   "metadata": {},
   "source": [
    "## How to use this code\n"
   ]
  },
  {
   "cell_type": "markdown",
   "metadata": {},
   "source": [
    "### Initialize the agents to start\n",
    "\n",
    "This is to set up the agent parameters and quantities used in the simulation."
   ]
  },
  {
   "cell_type": "code",
   "execution_count": 11,
   "metadata": {},
   "outputs": [],
   "source": [
    "## List of tuples: \n",
    "##  ( parameters, (i.e. coefficient of relative risk aversion CRRA)\n",
    "##    number of agents represented,\n",
    "##    ( initial risky percent, $$$ in risky asset, $$$ in riskless asset)\n",
    "agent_classes = [\n",
    "    ({'CRRA': 5.0}, 100, 10), # Normal consumers\n",
    "    ({'CRRA': 6.0}, 50,  10),  # More risk-averse consumers\n",
    "    ({'CRRA': 4.0}, 50,  10)  #  Less risk-averse consumers\n",
    "]\n",
    "\n",
    "\n",
    "### parameters shared by all agents\n",
    "ap = {\n",
    "    'AdjustPrb' : 1.0, # probabability of rebalancing during simulation\n",
    "    'aNrmInitStd' : 0.0,\n",
    "    'pLvlInitMean' : 1.0, # initial distribution of permanent income\n",
    "    'pLvlInitStd' : 0.0\n",
    "}"
   ]
  },
  {
   "cell_type": "code",
   "execution_count": 12,
   "metadata": {},
   "outputs": [],
   "source": [
    "agents = hpa.create_agents(agent_classes, ap)"
   ]
  },
  {
   "cell_type": "code",
   "execution_count": 13,
   "metadata": {},
   "outputs": [
    {
     "data": {
      "text/plain": [
       "array([21758.4000674 , 21758.4000674 , 22575.01392839, 24453.49999542,\n",
       "       20838.78035494, 21758.4000674 , 24453.49999542, 21758.4000674 ,\n",
       "       20838.78035494, 23421.90672017, 23421.90672017, 22575.01392839,\n",
       "       20838.78035494, 22575.01392839, 20838.78035494, 23421.90672017,\n",
       "       22575.01392839, 24453.49999542, 26414.26059461, 23421.90672017,\n",
       "       26414.26059461, 24453.49999542, 23421.90672017, 20838.78035494,\n",
       "       26414.26059461, 19258.98586554, 19258.98586554, 19258.98586554,\n",
       "       24453.49999542, 22575.01392839, 19258.98586554, 24453.49999542,\n",
       "       19258.98586554, 21758.4000674 , 21758.4000674 , 23421.90672017,\n",
       "       23421.90672017, 23421.90672017, 20838.78035494, 21758.4000674 ,\n",
       "       24453.49999542, 26414.26059461, 20838.78035494, 21758.4000674 ,\n",
       "       23421.90672017, 21758.4000674 , 19258.98586554, 23421.90672017,\n",
       "       22575.01392839, 20838.78035494, 21758.4000674 , 26414.26059461,\n",
       "       21758.4000674 , 24453.49999542, 19258.98586554, 19258.98586554,\n",
       "       22575.01392839, 21758.4000674 , 22575.01392839, 26414.26059461,\n",
       "       23421.90672017, 24453.49999542, 22575.01392839, 21758.4000674 ,\n",
       "       26414.26059461, 21758.4000674 , 21758.4000674 , 23421.90672017,\n",
       "       21758.4000674 , 24453.49999542, 24453.49999542, 23421.90672017,\n",
       "       26414.26059461, 22575.01392839, 26414.26059461, 21758.4000674 ,\n",
       "       20838.78035494, 19258.98586554, 22575.01392839, 21758.4000674 ,\n",
       "       26414.26059461, 24453.49999542, 22575.01392839, 24453.49999542,\n",
       "       20838.78035494, 23421.90672017, 26414.26059461, 20838.78035494,\n",
       "       22575.01392839, 19258.98586554, 22575.01392839, 20838.78035494,\n",
       "       22575.01392839, 24453.49999542, 22575.01392839, 21758.4000674 ,\n",
       "       24453.49999542, 23421.90672017, 23421.90672017, 20838.78035494])"
      ]
     },
     "execution_count": 13,
     "metadata": {},
     "output_type": "execute_result"
    }
   ],
   "source": [
    "agents[0].state_now[\"mNrmNow\"]"
   ]
  },
  {
   "cell_type": "code",
   "execution_count": 14,
   "metadata": {},
   "outputs": [
    {
     "data": {
      "text/plain": [
       "array([2.83445475, 2.83445475, 2.73191849, 2.52204748, 2.95954583,\n",
       "       2.83445475, 2.52204748, 2.83445475, 2.95954583, 2.63313315,\n",
       "       2.63313315, 2.73191849, 2.95954583, 2.73191849, 2.95954583,\n",
       "       2.63313315, 2.73191849, 2.52204748, 2.33482594, 2.63313315,\n",
       "       2.33482594, 2.52204748, 2.63313315, 2.95954583, 2.33482594,\n",
       "       3.20232689, 3.20232689, 3.20232689, 2.52204748, 2.73191849,\n",
       "       3.20232689, 2.52204748, 3.20232689, 2.83445475, 2.83445475,\n",
       "       2.63313315, 2.63313315, 2.63313315, 2.95954583, 2.83445475,\n",
       "       2.52204748, 2.33482594, 2.95954583, 2.83445475, 2.63313315,\n",
       "       2.83445475, 3.20232689, 2.63313315, 2.73191849, 2.95954583,\n",
       "       2.83445475, 2.33482594, 2.83445475, 2.52204748, 3.20232689,\n",
       "       3.20232689, 2.73191849, 2.83445475, 2.73191849, 2.33482594,\n",
       "       2.63313315, 2.52204748, 2.73191849, 2.83445475, 2.33482594,\n",
       "       2.83445475, 2.83445475, 2.63313315, 2.83445475, 2.52204748,\n",
       "       2.52204748, 2.63313315, 2.33482594, 2.73191849, 2.33482594,\n",
       "       2.83445475, 2.95954583, 3.20232689, 2.73191849, 2.83445475,\n",
       "       2.33482594, 2.52204748, 2.73191849, 2.52204748, 2.95954583,\n",
       "       2.63313315, 2.33482594, 2.95954583, 2.73191849, 3.20232689,\n",
       "       2.73191849, 2.95954583, 2.73191849, 2.52204748, 2.73191849,\n",
       "       2.83445475, 2.52204748, 2.63313315, 2.63313315, 2.95954583])"
      ]
     },
     "execution_count": 14,
     "metadata": {},
     "output_type": "execute_result"
    }
   ],
   "source": [
    "agents[0].state_now[\"pLvlNow\"]"
   ]
  },
  {
   "cell_type": "markdown",
   "metadata": {},
   "source": [
    "#### Test agent\n",
    "\n",
    "This is a test agent used to test and demonstrate the functions below."
   ]
  },
  {
   "cell_type": "code",
   "execution_count": null,
   "metadata": {
    "code_folding": []
   },
   "outputs": [],
   "source": [
    "# test agent\n",
    "agent = cpm.PortfolioConsumerType(\n",
    "    AgentCount = 3,\n",
    "    **ap\n",
    ")\n",
    "agent.solve()\n",
    "agent.T_sim = 100\n",
    "agent.track_vars += ['pLvlNow','mNrmNow','ShareNow','RiskyNow']\n",
    "agent.initializeSim()\n",
    "agent.simulate()"
   ]
  },
  {
   "cell_type": "code",
   "execution_count": null,
   "metadata": {},
   "outputs": [],
   "source": [
    "### This is not working for some reason!\n",
    "\n",
    "plt.plot(agent.history['mNrmNow'] * agent.history['pLvlNow'])"
   ]
  },
  {
   "cell_type": "code",
   "execution_count": null,
   "metadata": {},
   "outputs": [],
   "source": [
    "plt.plot(agent.history['RiskyNow'])"
   ]
  },
  {
   "cell_type": "markdown",
   "metadata": {},
   "source": [
    "The normalize market assets of each agent at the current (final) stage of the simulation."
   ]
  },
  {
   "cell_type": "markdown",
   "metadata": {},
   "source": [
    "The function from normalized market assets to the proportion of assets allocated to the risky share."
   ]
  },
  {
   "cell_type": "markdown",
   "metadata": {},
   "source": [
    "### Synthetic price data\n",
    "\n",
    "In the future, get this from the LiquidityModel.\n",
    "\n",
    "For now, just use any array of prices with noise and drift."
   ]
  },
  {
   "cell_type": "code",
   "execution_count": 19,
   "metadata": {
    "code_folding": []
   },
   "outputs": [],
   "source": [
    "## This is a dummy method that the ABM group\n",
    "## needs to write to connect to the NetLogo\n",
    "## model.\n",
    "\n",
    "def run_market(buy_sell, asset_price):\n",
    "    config = UTIL.read_config(config_file=\"../PNL/macroliquidity.ini\")\n",
    "    pnl.run_NLsims(\n",
    "        config,\n",
    "        # just simply rounding here to get number of shares from dollar buy/sell amounts\n",
    "        broker_buy_limit = round(buy_sell[0] / asset_price),\n",
    "        broker_sell_limit = round(buy_sell[1] / asset_price))\n",
    "    \n",
    "def get_orders():\n",
    "    # use run_market() first to create logs\n",
    "    orders = pd.read_csv(\"../PNL/out/logs/LMallorders_90_5.csv\", delimiter='\\t')\n",
    "    return orders"
   ]
  },
  {
   "cell_type": "markdown",
   "metadata": {},
   "source": [
    "### Agents estimate return rate and volatility from historical data\n",
    "\n",
    "The agents look at the most recent historical price data to form their expectations of the future.\n",
    "\n",
    "This is a very simplified version of what could later be better specified in line with _adaptive expectations_:\n",
    "\n",
    "https://en.wikipedia.org/wiki/Adaptive_expectations"
   ]
  },
  {
   "cell_type": "markdown",
   "metadata": {},
   "source": [
    "### Demand function for the intermittent demand problem\n",
    "\n",
    "In the intermittent demand problem, consumers take their current state and determine risky porfolio share of their assets to invest.\n",
    "\n",
    "The agent responds to the price history by:\n",
    " - updating their current assets\n",
    " - updating their expectations of the risky asset\n",
    " - returning their risky share allocation.\n",
    "\n",
    "Other aspects of the problem are fixed for now."
   ]
  },
  {
   "cell_type": "markdown",
   "metadata": {},
   "source": [
    "### Putting it all together\n",
    "\n",
    "Each agent knows their old risky allocation, old risk free allocation, and the prices of the last quarter.\n",
    "\n",
    "They computer their new market assets and then their new demand."
   ]
  },
  {
   "cell_type": "code",
   "execution_count": 20,
   "metadata": {},
   "outputs": [],
   "source": [
    "# STEP 1. Initialize the agents. (and the market?)\n",
    "\n",
    "## List of tuples: \n",
    "##  ( parameters, (i.e. coefficient of relative risk aversion CRRA)\n",
    "##    number of agents represented,\n",
    "##    initial assets\n",
    "agent_classes = [\n",
    "    ({'CRRA': 5.0}, 100, 10), # Normal consumers\n",
    "    ({'CRRA': 6.0}, 50,  10),  # More risk-averse consumers\n",
    "    ({'CRRA': 4.0}, 50,  10)  #  Less risk-averse consumers\n",
    "]\n",
    "\n",
    "\n",
    "### parameters shared by all agents\n",
    "ap = {\n",
    "    'aNrmInitStd' : 0.0,\n",
    "    'pLvlInitMean' : 1.0, # initial distribution of permanent income\n",
    "    'pLvlInitStd' : 0.0\n",
    "}\n",
    "\n",
    "\n",
    "agents = hpa.create_agents(agent_classes, ap)"
   ]
  },
  {
   "cell_type": "code",
   "execution_count": 21,
   "metadata": {},
   "outputs": [
    {
     "name": "stdout",
     "output_type": "stream",
     "text": [
      "Getting risky asset demand for all agents\n",
      "computing aggregate buy/sell orders\n"
     ]
    }
   ],
   "source": [
    "# STEP 2. Create starting demand for the market.\n",
    "#         Burn in the new prices.\n",
    "\n",
    "# The initial demands for each agent\n",
    "# hpa.init_prices is used to set the agent's starting\n",
    "# beliefs about the price process.\n",
    "init_demands = hpa.demands(agents, hpa.init_prices)\n",
    "\n",
    "buy_sell = hpa.aggregate_buy_and_sell(\n",
    "    hpa.no_demand(agents), # zero allocated to risky asset\n",
    "    init_demands\n",
    ")\n"
   ]
  },
  {
   "cell_type": "code",
   "execution_count": 22,
   "metadata": {},
   "outputs": [
    {
     "name": "stdout",
     "output_type": "stream",
     "text": [
      "Initial Buy/Sell: (69354.0650814572, 0)\n",
      "{'RiskyAvg': 0.8070698855709107, 'RiskyStd': 85.4947533263044}\n"
     ]
    },
    {
     "data": {
      "image/png": "[encoded data removed]",
      "text/plain": [
       "<Figure size 432x288 with 1 Axes>"
      ]
     },
     "metadata": {
      "needs_background": "light"
     },
     "output_type": "display_data"
    }
   ],
   "source": [
    "# STEP 3: Create the starting asset price. This will be used\n",
    "#         to translate $$$ values to asset quantities\n",
    "#         and adjust each period.\n",
    "\n",
    "asset_price = 100\n",
    "\n",
    "print(f\"Initial Buy/Sell: {buy_sell}\")\n",
    "\n",
    "## TODO: ABM Group reimplement the run_market method\n",
    "orders = get_orders()\n",
    "print(hpa.risky_expectations(orders))\n",
    "    \n",
    "plt.plot(orders['OrderPrice'])\n",
    "plt.title(\"Order price over time\")\n",
    "plt.show()\n",
    "\n",
    "\n",
    "old_demands = init_demands"
   ]
  },
  {
   "cell_type": "code",
   "execution_count": 23,
   "metadata": {
    "scrolled": false
   },
   "outputs": [
    {
     "name": "stdout",
     "output_type": "stream",
     "text": [
      "Asset price: 100\n",
      "simulating macro agents\n",
      "{'RiskyAvg': 0.8070698855709107, 'RiskyStd': 85.4947533263044}\n",
      "Getting risky asset demand for all agents\n",
      "computing aggregate buy/sell orders\n",
      "Round 0 Buy/Sell: (0, 0.0)\n",
      "{'RiskyAvg': 0.8070698855709107, 'RiskyStd': 85.4947533263044}\n"
     ]
    },
    {
     "data": {
      "image/png": "[encoded data removed]",
      "text/plain": [
       "<Figure size 432x288 with 1 Axes>"
      ]
     },
     "metadata": {
      "needs_background": "light"
     },
     "output_type": "display_data"
    },
    {
     "name": "stdout",
     "output_type": "stream",
     "text": [
      "Asset price: 83.35946989608803\n",
      "simulating macro agents\n",
      "{'RiskyAvg': 0.8070698855709107, 'RiskyStd': 85.4947533263044}\n",
      "Getting risky asset demand for all agents\n",
      "computing aggregate buy/sell orders\n",
      "Round 1 Buy/Sell: (0, 0.0)\n",
      "{'RiskyAvg': 0.8070698855709107, 'RiskyStd': 85.4947533263044}\n"
     ]
    },
    {
     "data": {
      "image/png": "[encoded data removed]",
      "text/plain": [
       "<Figure size 432x288 with 1 Axes>"
      ]
     },
     "metadata": {
      "needs_background": "light"
     },
     "output_type": "display_data"
    },
    {
     "name": "stdout",
     "output_type": "stream",
     "text": [
      "Asset price: 69.48801221356806\n",
      "simulating macro agents\n",
      "{'RiskyAvg': 0.8070698855709107, 'RiskyStd': 85.4947533263044}\n",
      "Getting risky asset demand for all agents\n",
      "computing aggregate buy/sell orders\n",
      "Round 2 Buy/Sell: (0, 0.0)\n",
      "{'RiskyAvg': 0.8070698855709107, 'RiskyStd': 85.4947533263044}\n"
     ]
    },
    {
     "data": {
      "image/png": "[encoded data removed]",
      "text/plain": [
       "<Figure size 432x288 with 1 Axes>"
      ]
     },
     "metadata": {
      "needs_background": "light"
     },
     "output_type": "display_data"
    },
    {
     "name": "stdout",
     "output_type": "stream",
     "text": [
      "Asset price: 57.92483862255923\n",
      "simulating macro agents\n",
      "{'RiskyAvg': 0.8070698855709107, 'RiskyStd': 85.4947533263044}\n",
      "Getting risky asset demand for all agents\n",
      "computing aggregate buy/sell orders\n",
      "Round 3 Buy/Sell: (0, 0.0)\n",
      "{'RiskyAvg': 0.8070698855709107, 'RiskyStd': 85.4947533263044}\n"
     ]
    },
    {
     "data": {
      "image/png": "[encoded data removed]",
      "text/plain": [
       "<Figure size 432x288 with 1 Axes>"
      ]
     },
     "metadata": {
      "needs_background": "light"
     },
     "output_type": "display_data"
    },
    {
     "name": "stdout",
     "output_type": "stream",
     "text": [
      "Asset price: 48.28583841392983\n",
      "simulating macro agents\n",
      "{'RiskyAvg': 0.8070698855709107, 'RiskyStd': 85.4947533263044}\n",
      "Getting risky asset demand for all agents\n",
      "computing aggregate buy/sell orders\n",
      "Round 4 Buy/Sell: (0, 0.0)\n",
      "{'RiskyAvg': 0.8070698855709107, 'RiskyStd': 85.4947533263044}\n"
     ]
    },
    {
     "data": {
      "image/png": "[encoded data removed]",
      "text/plain": [
       "<Figure size 432x288 with 1 Axes>"
      ]
     },
     "metadata": {
      "needs_background": "light"
     },
     "output_type": "display_data"
    },
    {
     "name": "stdout",
     "output_type": "stream",
     "text": [
      "Asset price: 40.250818936733545\n",
      "simulating macro agents\n",
      "{'RiskyAvg': 0.8070698855709107, 'RiskyStd': 85.4947533263044}\n",
      "Getting risky asset demand for all agents\n",
      "computing aggregate buy/sell orders\n",
      "Round 5 Buy/Sell: (0, 0.0)\n",
      "{'RiskyAvg': 0.8070698855709107, 'RiskyStd': 85.4947533263044}\n"
     ]
    },
    {
     "data": {
      "image/png": "[encoded data removed]",
      "text/plain": [
       "<Figure size 432x288 with 1 Axes>"
      ]
     },
     "metadata": {
      "needs_background": "light"
     },
     "output_type": "display_data"
    },
    {
     "name": "stdout",
     "output_type": "stream",
     "text": [
      "Asset price: 33.552869294495295\n",
      "simulating macro agents\n",
      "{'RiskyAvg': 0.8070698855709107, 'RiskyStd': 85.4947533263044}\n",
      "Getting risky asset demand for all agents\n",
      "computing aggregate buy/sell orders\n",
      "Round 6 Buy/Sell: (0, 0.0)\n",
      "{'RiskyAvg': 0.8070698855709107, 'RiskyStd': 85.4947533263044}\n"
     ]
    },
    {
     "data": {
      "image/png": "[encoded data removed]",
      "text/plain": [
       "<Figure size 432x288 with 1 Axes>"
      ]
     },
     "metadata": {
      "needs_background": "light"
     },
     "output_type": "display_data"
    },
    {
     "name": "stdout",
     "output_type": "stream",
     "text": [
      "Asset price: 27.969493978818566\n",
      "simulating macro agents\n",
      "{'RiskyAvg': 0.8070698855709107, 'RiskyStd': 85.4947533263044}\n",
      "Getting risky asset demand for all agents\n",
      "computing aggregate buy/sell orders\n",
      "Round 7 Buy/Sell: (0, 0.0)\n",
      "{'RiskyAvg': 0.8070698855709107, 'RiskyStd': 85.4947533263044}\n"
     ]
    },
    {
     "data": {
      "image/png": "[encoded data removed]",
      "text/plain": [
       "<Figure size 432x288 with 1 Axes>"
      ]
     },
     "metadata": {
      "needs_background": "light"
     },
     "output_type": "display_data"
    },
    {
     "name": "stdout",
     "output_type": "stream",
     "text": [
      "Asset price: 23.315221913361416\n",
      "simulating macro agents\n",
      "{'RiskyAvg': 0.8070698855709107, 'RiskyStd': 85.4947533263044}\n",
      "Getting risky asset demand for all agents\n",
      "computing aggregate buy/sell orders\n",
      "Round 8 Buy/Sell: (0, 0.0)\n",
      "{'RiskyAvg': 0.8070698855709107, 'RiskyStd': 85.4947533263044}\n"
     ]
    },
    {
     "data": {
      "image/png": "[encoded data removed]",
      "text/plain": [
       "<Figure size 432x288 with 1 Axes>"
      ]
     },
     "metadata": {
      "needs_background": "light"
     },
     "output_type": "display_data"
    },
    {
     "name": "stdout",
     "output_type": "stream",
     "text": [
      "Asset price: 19.435445392074627\n",
      "simulating macro agents\n",
      "{'RiskyAvg': 0.8070698855709107, 'RiskyStd': 85.4947533263044}\n",
      "Getting risky asset demand for all agents\n",
      "computing aggregate buy/sell orders\n",
      "Round 9 Buy/Sell: (0, 0.0)\n",
      "{'RiskyAvg': 0.8070698855709107, 'RiskyStd': 85.4947533263044}\n"
     ]
    },
    {
     "data": {
      "image/png": "[encoded data removed]",
      "text/plain": [
       "<Figure size 432x288 with 1 Axes>"
      ]
     },
     "metadata": {
      "needs_background": "light"
     },
     "output_type": "display_data"
    }
   ],
   "source": [
    "# STEP 4. Run simulation for N rebalances\n",
    "\n",
    "N = 10\n",
    "\n",
    "for i in range(N):\n",
    "    \n",
    "    print(f\"Asset price: {asset_price}\")\n",
    "\n",
    "    # simulate one period on the macro side\n",
    "    hpa.simulate(agents, 1)\n",
    "    \n",
    "    hpa.update_agents(agents, orders)\n",
    "    print(hpa.risky_expectations(orders))\n",
    "    new_demands = hpa.demands(agents, orders)\n",
    "    \n",
    "    buy_sell = hpa.aggregate_buy_and_sell(\n",
    "        old_demands,\n",
    "        new_demands\n",
    "    )\n",
    "    print(f\"Round {i} Buy/Sell: {buy_sell}\")\n",
    "\n",
    "    #run_market(buy_sell, asset_price)\n",
    "    orders = get_orders()\n",
    "    print(hpa.risky_expectations(orders))\n",
    "    \n",
    "    plt.plot(orders['OrderPrice'])\n",
    "    plt.show()\n",
    "    \n",
    "    old_demands = new_demands\n",
    "    \n",
    "    risky_return = hpa.risky_actual_return(orders)\n",
    "    asset_price = asset_price * risky_return[0]"
   ]
  },
  {
   "cell_type": "code",
   "execution_count": 24,
   "metadata": {},
   "outputs": [
    {
     "data": {
      "text/plain": [
       "array([0.80706989])"
      ]
     },
     "execution_count": 24,
     "metadata": {},
     "output_type": "execute_result"
    }
   ],
   "source": [
    "agents[0].history['RiskyNow'][:,0]"
   ]
  },
  {
   "cell_type": "code",
   "execution_count": 25,
   "metadata": {},
   "outputs": [
    {
     "data": {
      "text/plain": [
       "[<matplotlib.lines.Line2D at 0x7fc52e96a520>]"
      ]
     },
     "execution_count": 25,
     "metadata": {},
     "output_type": "execute_result"
    },
    {
     "data": {
      "image/png": "[encoded data removed]",
      "text/plain": [
       "<Figure size 432x288 with 1 Axes>"
      ]
     },
     "metadata": {
      "needs_background": "light"
     },
     "output_type": "display_data"
    }
   ],
   "source": [
    "plt.plot(orders[orders['OrderQuantity'] > 0]['OrderPrice'])"
   ]
  },
  {
   "cell_type": "code",
   "execution_count": 26,
   "metadata": {},
   "outputs": [
    {
     "data": {
      "text/plain": [
       "0        True\n",
       "1        True\n",
       "2        True\n",
       "3        True\n",
       "4        True\n",
       "        ...  \n",
       "2502    False\n",
       "2503    False\n",
       "2504    False\n",
       "2505    False\n",
       "2506    False\n",
       "Name: OrderQuantity, Length: 2507, dtype: bool"
      ]
     },
     "execution_count": 26,
     "metadata": {},
     "output_type": "execute_result"
    }
   ],
   "source": [
    "orders['OrderQuantity'] > 0"
   ]
  },
  {
   "cell_type": "code",
   "execution_count": 27,
   "metadata": {
    "scrolled": true
   },
   "outputs": [
    {
     "data": {
      "text/html": [
       "<div>\n",
       "<style scoped>\n",
       "    .dataframe tbody tr th:only-of-type {\n",
       "        vertical-align: middle;\n",
       "    }\n",
       "\n",
       "    .dataframe tbody tr th {\n",
       "        vertical-align: top;\n",
       "    }\n",
       "\n",
       "    .dataframe thead th {\n",
       "        text-align: right;\n",
       "    }\n",
       "</style>\n",
       "<table border=\"1\" class=\"dataframe\">\n",
       "  <thead>\n",
       "    <tr style=\"text-align: right;\">\n",
       "      <th></th>\n",
       "      <th>Tick</th>\n",
       "      <th>OrderID</th>\n",
       "      <th>OrderTime</th>\n",
       "      <th>OrderPrice</th>\n",
       "      <th>OrderTraderID</th>\n",
       "      <th>OrderQuantity</th>\n",
       "      <th>OrderBA</th>\n",
       "      <th>TraderWhoType</th>\n",
       "    </tr>\n",
       "  </thead>\n",
       "  <tbody>\n",
       "    <tr>\n",
       "      <th>0</th>\n",
       "      <td>5003</td>\n",
       "      <td>3644</td>\n",
       "      <td>5002.0</td>\n",
       "      <td>409.0</td>\n",
       "      <td>8377</td>\n",
       "      <td>4.0</td>\n",
       "      <td>Sell</td>\n",
       "      <td>LiquiditySupplier</td>\n",
       "    </tr>\n",
       "    <tr>\n",
       "      <th>1</th>\n",
       "      <td>5005</td>\n",
       "      <td>3647</td>\n",
       "      <td>5004.0</td>\n",
       "      <td>395.0</td>\n",
       "      <td>5273</td>\n",
       "      <td>30.0</td>\n",
       "      <td>Buy</td>\n",
       "      <td>LiquidityDemander</td>\n",
       "    </tr>\n",
       "    <tr>\n",
       "      <th>2</th>\n",
       "      <td>5007</td>\n",
       "      <td>3649</td>\n",
       "      <td>5006.0</td>\n",
       "      <td>408.0</td>\n",
       "      <td>3490</td>\n",
       "      <td>5.0</td>\n",
       "      <td>Sell</td>\n",
       "      <td>MarketMakers</td>\n",
       "    </tr>\n",
       "    <tr>\n",
       "      <th>3</th>\n",
       "      <td>5007</td>\n",
       "      <td>3650</td>\n",
       "      <td>5006.0</td>\n",
       "      <td>400.0</td>\n",
       "      <td>3490</td>\n",
       "      <td>5.0</td>\n",
       "      <td>Buy</td>\n",
       "      <td>MarketMakers</td>\n",
       "    </tr>\n",
       "    <tr>\n",
       "      <th>4</th>\n",
       "      <td>5009</td>\n",
       "      <td>3651</td>\n",
       "      <td>5008.0</td>\n",
       "      <td>399.0</td>\n",
       "      <td>8225</td>\n",
       "      <td>35.0</td>\n",
       "      <td>Buy</td>\n",
       "      <td>LiquidityDemander</td>\n",
       "    </tr>\n",
       "    <tr>\n",
       "      <th>...</th>\n",
       "      <td>...</td>\n",
       "      <td>...</td>\n",
       "      <td>...</td>\n",
       "      <td>...</td>\n",
       "      <td>...</td>\n",
       "      <td>...</td>\n",
       "      <td>...</td>\n",
       "      <td>...</td>\n",
       "    </tr>\n",
       "    <tr>\n",
       "      <th>2502</th>\n",
       "      <td>6000</td>\n",
       "      <td>6886</td>\n",
       "      <td>5999.0</td>\n",
       "      <td>118.0</td>\n",
       "      <td>2138</td>\n",
       "      <td>0.0</td>\n",
       "      <td>Buy</td>\n",
       "      <td>MarketMakers</td>\n",
       "    </tr>\n",
       "    <tr>\n",
       "      <th>2503</th>\n",
       "      <td>6000</td>\n",
       "      <td>6887</td>\n",
       "      <td>5999.0</td>\n",
       "      <td>117.0</td>\n",
       "      <td>2138</td>\n",
       "      <td>0.0</td>\n",
       "      <td>Buy</td>\n",
       "      <td>MarketMakers</td>\n",
       "    </tr>\n",
       "    <tr>\n",
       "      <th>2504</th>\n",
       "      <td>6000</td>\n",
       "      <td>6888</td>\n",
       "      <td>5999.0</td>\n",
       "      <td>116.0</td>\n",
       "      <td>2138</td>\n",
       "      <td>0.0</td>\n",
       "      <td>Buy</td>\n",
       "      <td>MarketMakers</td>\n",
       "    </tr>\n",
       "    <tr>\n",
       "      <th>2505</th>\n",
       "      <td>6000</td>\n",
       "      <td>6889</td>\n",
       "      <td>5999.0</td>\n",
       "      <td>115.0</td>\n",
       "      <td>2138</td>\n",
       "      <td>0.0</td>\n",
       "      <td>Buy</td>\n",
       "      <td>MarketMakers</td>\n",
       "    </tr>\n",
       "    <tr>\n",
       "      <th>2506</th>\n",
       "      <td>6000</td>\n",
       "      <td>6890</td>\n",
       "      <td>5999.0</td>\n",
       "      <td>114.0</td>\n",
       "      <td>2138</td>\n",
       "      <td>0.0</td>\n",
       "      <td>Buy</td>\n",
       "      <td>MarketMakers</td>\n",
       "    </tr>\n",
       "  </tbody>\n",
       "</table>\n",
       "<p>2507 rows × 8 columns</p>\n",
       "</div>"
      ],
      "text/plain": [
       "      Tick  OrderID  OrderTime  OrderPrice  OrderTraderID  OrderQuantity  \\\n",
       "0     5003     3644     5002.0       409.0           8377            4.0   \n",
       "1     5005     3647     5004.0       395.0           5273           30.0   \n",
       "2     5007     3649     5006.0       408.0           3490            5.0   \n",
       "3     5007     3650     5006.0       400.0           3490            5.0   \n",
       "4     5009     3651     5008.0       399.0           8225           35.0   \n",
       "...    ...      ...        ...         ...            ...            ...   \n",
       "2502  6000     6886     5999.0       118.0           2138            0.0   \n",
       "2503  6000     6887     5999.0       117.0           2138            0.0   \n",
       "2504  6000     6888     5999.0       116.0           2138            0.0   \n",
       "2505  6000     6889     5999.0       115.0           2138            0.0   \n",
       "2506  6000     6890     5999.0       114.0           2138            0.0   \n",
       "\n",
       "     OrderBA      TraderWhoType  \n",
       "0       Sell  LiquiditySupplier  \n",
       "1        Buy  LiquidityDemander  \n",
       "2       Sell       MarketMakers  \n",
       "3        Buy       MarketMakers  \n",
       "4        Buy  LiquidityDemander  \n",
       "...      ...                ...  \n",
       "2502     Buy       MarketMakers  \n",
       "2503     Buy       MarketMakers  \n",
       "2504     Buy       MarketMakers  \n",
       "2505     Buy       MarketMakers  \n",
       "2506     Buy       MarketMakers  \n",
       "\n",
       "[2507 rows x 8 columns]"
      ]
     },
     "execution_count": 27,
     "metadata": {},
     "output_type": "execute_result"
    }
   ],
   "source": [
    "orders"
   ]
  },
  {
   "cell_type": "code",
   "execution_count": 28,
   "metadata": {
    "scrolled": true
   },
   "outputs": [
    {
     "data": {
      "text/plain": [
       "[<matplotlib.lines.Line2D at 0x7fc52e7ddf70>]"
      ]
     },
     "execution_count": 28,
     "metadata": {},
     "output_type": "execute_result"
    },
    {
     "data": {
      "image/png": "[encoded data removed]",
      "text/plain": [
       "<Figure size 432x288 with 1 Axes>"
      ]
     },
     "metadata": {
      "needs_background": "light"
     },
     "output_type": "display_data"
    }
   ],
   "source": [
    "buys = orders[(orders['OrderBA'] == \"Buy\") & (orders['OrderQuantity'] > 0)]\n",
    "sells = orders[(orders['OrderBA'] == \"Sell\") & (orders['OrderQuantity'] > 0)]\n",
    "\n",
    "\n",
    "plt.plot(buys['Tick'], buys['OrderPrice'])\n",
    "plt.plot(sells['Tick'], sells['OrderPrice'])\n"
   ]
  },
  {
   "cell_type": "code",
   "execution_count": null,
   "metadata": {},
   "outputs": [],
   "source": [
    "sells"
   ]
  },
  {
   "cell_type": "code",
   "execution_count": null,
   "metadata": {},
   "outputs": [],
   "source": [
    "(orders['OrderPrice'] * orders['OrderQuantity']).sum() / orders['OrderQuantity'].sum()"
   ]
  },
  {
   "cell_type": "code",
   "execution_count": null,
   "metadata": {},
   "outputs": [],
   "source": [
    "hpa.risky_expectations(orders)"
   ]
  },
  {
   "cell_type": "code",
   "execution_count": null,
   "metadata": {},
   "outputs": [],
   "source": [
    "orders[(orders['OrderBA'] == \"Buy\") & (orders['OrderQuantity'] > 0)]"
   ]
  },
  {
   "cell_type": "code",
   "execution_count": null,
   "metadata": {},
   "outputs": [],
   "source": [
    "agents[0].solution[0].ShareFuncAdj(0)"
   ]
  },
  {
   "cell_type": "code",
   "execution_count": null,
   "metadata": {},
   "outputs": [],
   "source": [
    "agents[0].state_now['mNrmNow']"
   ]
  },
  {
   "cell_type": "code",
   "execution_count": null,
   "metadata": {
    "scrolled": true
   },
   "outputs": [],
   "source": [
    "agents[0].state_now['pLvlNow']"
   ]
  },
  {
   "cell_type": "code",
   "execution_count": null,
   "metadata": {},
   "outputs": [],
   "source": [
    "new_assets(agent, hpa.risky_share, prices)"
   ]
  },
  {
   "cell_type": "code",
   "execution_count": null,
   "metadata": {},
   "outputs": [],
   "source": [
    "orders = pd.read_csv(\"../PNL/out/logs/LMallorders_90_5.csv\", delimiter='\\t')"
   ]
  },
  {
   "cell_type": "code",
   "execution_count": null,
   "metadata": {},
   "outputs": [],
   "source": [
    "orders"
   ]
  },
  {
   "cell_type": "code",
   "execution_count": null,
   "metadata": {},
   "outputs": [],
   "source": [
    "plt.plot(orders['OrderPrice'])"
   ]
  },
  {
   "cell_type": "code",
   "execution_count": null,
   "metadata": {},
   "outputs": [],
   "source": [
    "orders['TraderWhoType'].unique()"
   ]
  },
  {
   "cell_type": "code",
   "execution_count": null,
   "metadata": {},
   "outputs": [],
   "source": [
    "sales = orders[orders['TraderWhoType'] == 'LiqSellBkr']\n",
    "avg_sale_price = sales['OrderQuantity'] * sales['OrderPrice'] / sales['OrderPrice'].sum()"
   ]
  },
  {
   "cell_type": "code",
   "execution_count": null,
   "metadata": {},
   "outputs": [],
   "source": [
    "orders[orders['TraderWhoType'] == 'LiqBuyBkr']"
   ]
  },
  {
   "cell_type": "code",
   "execution_count": null,
   "metadata": {},
   "outputs": [],
   "source": [
    "buys = orders[orders['TraderWhoType'] == 'LiqBuyBkr]\n",
    "avg_buy_price = buys['OrderQuantity'] * buys['OrderPrice'] / buys['OrderPrice'].sum()"
   ]
  },
  {
   "cell_type": "code",
   "execution_count": null,
   "metadata": {},
   "outputs": [],
   "source": [
    "agents[0].history['mNrmNow'][0][-1] - agents[0].history['mNrmNow'][0][0]"
   ]
  },
  {
   "cell_type": "code",
   "execution_count": null,
   "metadata": {},
   "outputs": [],
   "source": [
    "agents[2].controls['ShareNow']"
   ]
  },
  {
   "cell_type": "code",
   "execution_count": null,
   "metadata": {},
   "outputs": [],
   "source": []
  },
  {
   "cell_type": "code",
   "execution_count": null,
   "metadata": {},
   "outputs": [],
   "source": [
    "orders"
   ]
  },
  {
   "cell_type": "code",
   "execution_count": null,
   "metadata": {},
   "outputs": [],
   "source": [
    "orders[orders['OrderQuantity'] == 0].groupby('Tick').size()"
   ]
  },
  {
   "cell_type": "code",
   "execution_count": null,
   "metadata": {},
   "outputs": [],
   "source": []
  }
 ],
 "metadata": {
  "kernelspec": {
   "display_name": "econ-ark-3.8",
   "language": "python",
   "name": "econ-ark-3.8"
  },
  "language_info": {
   "codemirror_mode": {
    "name": "ipython",
    "version": 3
   },
   "file_extension": ".py",
   "mimetype": "text/x-python",
   "name": "python",
   "nbconvert_exporter": "python",
   "pygments_lexer": "ipython3",
   "version": "3.8.6"
  },
  "latex_envs": {
   "LaTeX_envs_menu_present": true,
   "autoclose": false,
   "autocomplete": true,
   "bibliofile": "biblio.bib",
   "cite_by": "apalike",
   "current_citInitial": 1,
   "eqLabelWithNumbers": true,
   "eqNumInitial": 1,
   "hotkeys": {
    "equation": "Ctrl-E",
    "itemize": "Ctrl-I"
   },
   "labels_anchors": false,
   "latex_user_defs": false,
   "report_style_numbering": false,
   "user_envs_cfg": false
  },
  "toc": {
   "base_numbering": 1,
   "nav_menu": {},
   "number_sections": true,
   "sideBar": true,
   "skip_h1_title": false,
   "title_cell": "Table of Contents",
   "title_sidebar": "Contents",
   "toc_cell": false,
   "toc_position": {},
   "toc_section_display": true,
   "toc_window_display": false
  }
 },
 "nbformat": 4,
 "nbformat_minor": 2
}
