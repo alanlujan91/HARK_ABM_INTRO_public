{
 "cells": [
  {
   "cell_type": "code",
   "execution_count": 1,
   "metadata": {},
   "outputs": [],
   "source": [
    "import HARK.ConsumptionSaving.ConsPortfolioModel as cpm\n",
    "import matplotlib.pyplot as plt\n",
    "import numpy as np"
   ]
  },
  {
   "cell_type": "markdown",
   "metadata": {},
   "source": [
    "## Model definition and parameters"
   ]
  },
  {
   "cell_type": "markdown",
   "metadata": {},
   "source": [
    "##### Dynamic problem\n",
    "\n",
    "The problem of an agent $i$ of age $t$ in the base model is recursively represented as\n",
    "\n",
    "\\begin{split}\n",
    "V_{i,t} =& \\max_{0\\leq C_{i,t} \\leq X_{i,t}, \\alpha_{i,t}\\in[0,1]} U(C_{i,t}) + \\delta p_t E_t\\{ V_{i,t+1} (X_{i,t+1}) \\}\\\\\n",
    "&\\text{s.t}\\\\\n",
    "&X_{i,t+1} = Y_{i,t+1} + (X_{i,t} - C_{i,t})(\\alpha_{i,t} R_{t+1} + (1-\\alpha_{i,t})\\bar{R}_f)\n",
    "\\end{split}\n",
    "\n",
    "where $C_{i,t}$ is consumption, $\\alpha_{i,t}$ is the share of savings allocated to the risky asset, $Y_{i,t}$ is labor income, and $X_{i,t}$ represents wealth. The utility function $U(\\cdot)$ is assumed to be CRRA in the base model. Extensions beyond the baseline model include an additively separable bequest motive in the utility function. The discount factor is $\\delta$ and $p_t$ is the probability of survival from $t$ to $t+1$. Death is certain at a maximum period $T$.\n",
    "\n",
    "Note that the consumer cannot borrow or short-sell.\n",
    "\n",
    "The control variables in the problem are $\\{C_{it}, \\alpha_{it}\\}^T_{t=1}$ and the state variables are $\\{t, X_{it}, v_{it} \\}^T_{t=1}$. The agent solves for  policy rules as a function of the state variables&mdash;$C_{it}(X_{it}, v_{it})$ and $\\alpha_{it}(X_{it}, v_{it})$.\n",
    "\n"
   ]
  },
  {
   "cell_type": "code",
   "execution_count": 2,
   "metadata": {},
   "outputs": [
    {
     "data": {
      "text/plain": [
       "{'aNrmInitMean': 0.0,\n",
       " 'aNrmInitStd': 1.0,\n",
       " 'pLvlInitMean': 0.0,\n",
       " 'pLvlInitStd': 0.0}"
      ]
     },
     "execution_count": 2,
     "metadata": {},
     "output_type": "execute_result"
    }
   ],
   "source": [
    "{\n",
    " 'aNrmInitMean': 0.0, # Initial market resources, X above\n",
    " 'aNrmInitStd': 1.0,\n",
    " 'pLvlInitMean': 0.0, # Initial permanent income, Y above\n",
    " 'pLvlInitStd': 0.0,\n",
    "}"
   ]
  },
  {
   "cell_type": "markdown",
   "metadata": {},
   "source": [
    "#### Labor income\n",
    "\n",
    "An important driver of the paper's results is the labor income process. It is specified as follows:\n",
    "\n",
    "\\begin{equation}\n",
    "\\log Y_{i,t} = f(t,Z_{i,t}) + v_{i,t} + \\epsilon_{i,t}, \\quad \\text{for } t\\leq K.\n",
    "\\end{equation}\n",
    "\n",
    "where $K$ is the (exogenous) age of retirement, $Z_{i,t}$ are demographic characteristics, $\\epsilon_{i,t}\\sim \\mathcal{N}(0,\\sigma^2_\\epsilon)$ is a transitory shock, and  $v_{i,t}$ is a permanent component following a random walk\n",
    "\n",
    "\\begin{equation}\n",
    "v_{i,t} = v_{i,t-1} + u_{i,t} = v_{i,t-1} + \\xi_t + \\omega_{i,t}\n",
    "\\end{equation}\n",
    "\n",
    "in which the innovation is decomposed into an aggregate ($\\xi_t$) and an idiosyncratic component ($\\omega_{i,t}$), both following mean-0 normal distributions.\n",
    "\n",
    "Post-retirement income is a constant fraction $\\lambda$ of permanent income in the last working year $K$.\n",
    "\n",
    "A crucial aspect of the labor income process is that $f(\\cdot,\\cdot)$ is calibrated to match income profiles in the PSID, capturing the usual humped shape of income across lifetime.\n",
    "\n"
   ]
  },
  {
   "cell_type": "markdown",
   "metadata": {},
   "source": [
    "#### Matching labor income in HARK\n",
    "\n",
    "In HARK's consumption-saving models, the income process takes the form\n",
    "\\begin{equation}\n",
    "    \\ln Y_t = \\ln P_t + \\ln \\theta_t\n",
    "\\end{equation}\n",
    "where $P_t$ represents permanent income and $\\ln \\theta_t \\sim N(0,\\sigma_\\theta)$ transitory shocks to income. Permanent income evolves according to\n",
    "\\begin{equation}\n",
    "    \\ln P_{t+1} = \\ln \\Gamma_{t+1} +  \\ln \\psi_{t+1} + \\ln P_t\n",
    "\\end{equation}\n",
    "where $\\Gamma_{t+1}$ is a deterministic growth factor, and $\\ln \\psi_{t+1} \\sim N(0,\\sigma_\\psi)$ a permanent income shock. \n",
    "\n",
    "\n",
    "To represent the author's assumptions in HARK, we express both income processes as sums of deterministic components and i.i.d shocks\n",
    "\\begin{align}\n",
    "\\text{Cocco et. al} &\\quad& \\ln Y_{i,t} &=& f(t,Z_{i,t}) + v_{i,0} &+&\\sum_{k=1}^t u_{i,k} &+&\\qquad \\varepsilon_{i,t} \\\\\n",
    "\\text{HARK}        &\\quad& \\ln Y_{i,t} &=& \\ln P_{i,0} + \\sum_{k=1}^t \\ln \\Gamma_k &+&\\sum_{k=1}^t \\ln \\psi_{i,k} &+& \\qquad \\ln \\theta_{i,t}.\n",
    "\\end{align}\n",
    "\n",
    "These representations make evident the mapping that we use\n",
    "\n",
    "|HARK | Cocco et. al |\n",
    "| :---: | :-----------: |\n",
    "| $\\ln$ $P_{i,0}$ | $f(0,Z_{i,0})$ + $v_{i,0}$ |\n",
    "| $\\ln$ $\\Gamma_{t+1}$| $f(t+1$, $Z_{i,t+1})$ - $f(t,Z_{i,t})$|\n",
    "|$\\ln$ $\\psi_{i,k}$| $u_{i,k}$|\n",
    "|$\\ln$ $\\theta_{i,t}$| $\\varepsilon_{i,t}$|\n",
    "\n",
    "and to achieve a retirement income that is equal to a fraction $\\lambda$ of permanent income in the last working period $K$, we simply make $\\Gamma_{K+1} = \\lambda$ and $\\Gamma_{t} = 1$ $\\forall t>K+1$.\n",
    "\n"
   ]
  },
  {
   "cell_type": "markdown",
   "metadata": {},
   "source": [
    "#### Assets and their returns\n",
    "\n",
    "There are two assets available for consumers to allocate their savings.\n",
    "\n",
    "- Bonds: paying a risk-free return $\\bar{R}_f$.\n",
    "\n",
    "- Stocks: paying a stochastic return $R_t = \\bar{R}_f + \\mu + \\eta_t$, where the stochastic component $\\eta_t \\sim \\mathcal{N}(0, \\sigma^2_\\eta)$ is allowed to be correlated with the aggregate labor income innovation $\\xi_t$.\n",
    "\n",
    "The borrowing and short-selling constraints ensure that agents cannot allocate negative dollars to either of these assets or borrow against future labor income or retirement wealth. Recall $\\alpha_{i,t}$ is the proportion of the investor's savings that are invested in the risky asset. The model's constraints imply that $\\alpha_{i,t}\\in[0,1]$ and wealth is non-negative."
   ]
  },
  {
   "cell_type": "code",
   "execution_count": 3,
   "metadata": {},
   "outputs": [
    {
     "data": {
      "text/plain": [
       "{'Rfree': 1.03,\n",
       " 'RiskyAvg': 1.08,\n",
       " 'RiskyStd': 0.2,\n",
       " 'RiskyCount': 5,\n",
       " 'ShareCount': 25,\n",
       " 'AdjustPrb': 1.0,\n",
       " 'DiscreteShareBool': False}"
      ]
     },
     "execution_count": 3,
     "metadata": {},
     "output_type": "execute_result"
    }
   ],
   "source": [
    "{\n",
    " 'Rfree': 1.03,\n",
    " 'RiskyAvg': 1.08,\n",
    " 'RiskyStd': 0.2,\n",
    " 'RiskyCount': 5,\n",
    " 'ShareCount': 25, ## This is a discretization parameter for approximation\n",
    " 'AdjustPrb': 1.0,\n",
    " 'DiscreteShareBool': False}"
   ]
  },
  {
   "cell_type": "markdown",
   "metadata": {},
   "source": [
    "### Calibration&mdash;Summary\n",
    "\n",
    "The paper defines and calibrates several parameters which can be broken down into the following categories:\n",
    "\n",
    "__1. Preferences and life cycle__\n",
    "\n",
    " | Parameter | Description | Code | Value |\n",
    " |:---:| ---         | ---  | :---: |\n",
    " | $\\delta$ | Time Preference Factor | $\\texttt{DiscFac}$ | 0.96 |\n",
    " | $\\gamma$ | Coefficient of Relative Risk Aversion| $\\texttt{CRRA}$ | 10 |\n",
    " | $p_t$ | Survival Probability | $\\texttt{LivPrb}$ | [0.6809,0.99845] |\n",
    " | $t_0$ | Starting Age | $\\texttt{t_start}$ | 20 |\n",
    " | $t_r$ | Retirement Age | $\\texttt{t_ret}$ | 65 |\n",
    " | $T$ | Maximum Age | $\\texttt{t_end}$ | 100 |\n",
    "\n"
   ]
  },
  {
   "cell_type": "code",
   "execution_count": 4,
   "metadata": {},
   "outputs": [],
   "source": [
    "lc = {\n",
    " 'CRRA': 5.0,\n",
    " 'DiscFac': 0.9,\n",
    " 'LivPrb': [0.98],\n",
    " 'T_age': None,\n",
    " 'T_cycle': 1,\n",
    " 'T_retire': 0,\n",
    "}"
   ]
  },
  {
   "cell_type": "markdown",
   "metadata": {},
   "source": [
    "__2. Income process and the finanical assets__\n",
    "\n",
    " | Parameter | Description | Code | Value|\n",
    " |:---:| ---         | ---  | :---: |\n",
    " | $f(t,Z_{i,t})$| Average income at each stage of life | $\\texttt{det_income}$ | $ \\exp($0.530339 + 0.16818 $t$+ (0.0323371/10) $t^2$ + (0.0019704/100) $t^3)$ |\n",
    " | $\\lambda$ | Last Period Labor Income Share for Retirement | $\\texttt{repl_fac}$ | 0.68212 |\n",
    " | $\\log \\Gamma$ | Permanent Income Growth Factor | $\\texttt{PermGroFac}$ | $\\{\\log f_{t+1} - \\log f_t\\}^{t_r+1}_{t=20}$ |\n",
    " | $\\mathsf{R}$ | Interest Factor | $\\texttt{Rfree}$ | 1.02 |\n",
    " | $\\mu$ | Average Stock Return | $\\texttt{RiskyDstnFunc}$ \\& $\\texttt{RiskyDrawFunc}$ | 1.06 |\n",
    " | $\\sigma_\\eta$ | Std Dev of Stock Returns | $\\texttt{RiskyDstnFunc}$ \\& $\\texttt{RiskyDrawFunc}$ | 0.157 |\n",
    "\n"
   ]
  },
  {
   "cell_type": "markdown",
   "metadata": {},
   "source": [
    "\n",
    "__3. Shocks__\n",
    "\n",
    " | Parameter | Description | Code | Value |\n",
    " |:---:| ---         | ---  | :---: |\n",
    " | $\\sigma_v$ | Std Dev of Log Permanent Shock| $\\texttt{PermShkStd}$ | 0.102956 |\n",
    " | $\\sigma_\\epsilon$ | Std Dev of Log Transitory Shock| $\\texttt{TranShkStd}$ | 0.27166 |"
   ]
  },
  {
   "cell_type": "code",
   "execution_count": 5,
   "metadata": {},
   "outputs": [
    {
     "data": {
      "text/plain": [
       "{'PermShkStd': [0.1],\n",
       " 'PermShkCount': 7,\n",
       " 'TranShkStd': [0.1],\n",
       " 'TranShkCount': 7}"
      ]
     },
     "execution_count": 5,
     "metadata": {},
     "output_type": "execute_result"
    }
   ],
   "source": [
    "{\n",
    " 'PermShkStd': [0.1],\n",
    " 'PermShkCount': 7,\n",
    " 'TranShkStd': [0.1],\n",
    " 'TranShkCount': 7,\n",
    " }"
   ]
  },
  {
   "cell_type": "code",
   "execution_count": 6,
   "metadata": {},
   "outputs": [
    {
     "data": {
      "text/plain": [
       "{'CRRA': 5.0,\n",
       " 'Rfree': 1.03,\n",
       " 'DiscFac': 0.9,\n",
       " 'LivPrb': [0.98],\n",
       " 'PermGroFac': [1.01],\n",
       " 'BoroCnstArt': 0.0,\n",
       " 'MaxKinks': 400,\n",
       " 'AgentCount': 10000,\n",
       " 'aNrmInitMean': 0.0,\n",
       " 'aNrmInitStd': 1.0,\n",
       " 'pLvlInitMean': 0.0,\n",
       " 'pLvlInitStd': 0.0,\n",
       " 'PermGroFacAgg': 1.0,\n",
       " 'T_age': None,\n",
       " 'T_cycle': 1,\n",
       " 'aXtraMin': 0.001,\n",
       " 'aXtraMax': 100,\n",
       " 'aXtraNestFac': 1,\n",
       " 'aXtraCount': 200,\n",
       " 'aXtraExtra': [None],\n",
       " 'PermShkStd': [0.1],\n",
       " 'PermShkCount': 7,\n",
       " 'TranShkStd': [0.1],\n",
       " 'TranShkCount': 7,\n",
       " 'UnempPrb': 0.05,\n",
       " 'UnempPrbRet': 0.005,\n",
       " 'IncUnemp': 0.3,\n",
       " 'IncUnempRet': 0.0,\n",
       " 'tax_rate': 0.0,\n",
       " 'T_retire': 0,\n",
       " 'vFuncBool': False,\n",
       " 'CubicBool': False,\n",
       " 'RiskyAvg': 1.08,\n",
       " 'RiskyStd': 0.2,\n",
       " 'RiskyCount': 5,\n",
       " 'ShareCount': 25,\n",
       " 'AdjustPrb': 1.0,\n",
       " 'DiscreteShareBool': False}"
      ]
     },
     "execution_count": 6,
     "metadata": {},
     "output_type": "execute_result"
    }
   ],
   "source": [
    "cpm.init_portfolio"
   ]
  },
  {
   "cell_type": "markdown",
   "metadata": {},
   "source": [
    "This is what it looks like when it's put all together."
   ]
  },
  {
   "cell_type": "code",
   "execution_count": 7,
   "metadata": {},
   "outputs": [
    {
     "data": {
      "text/plain": [
       "[<matplotlib.lines.Line2D at 0x7f24c3233690>]"
      ]
     },
     "execution_count": 7,
     "metadata": {},
     "output_type": "execute_result"
    },
    {
     "data": {
      "image/png": "[encoded data removed]",
      "text/plain": [
       "<Figure size 432x288 with 1 Axes>"
      ]
     },
     "metadata": {
      "needs_background": "light"
     },
     "output_type": "display_data"
    }
   ],
   "source": [
    "agent = cpm.PortfolioConsumerType()\n",
    "agent.solve()\n",
    "plt.plot(agent.solution[0].ShareFuncAdj(np.linspace(0,1,1000)))"
   ]
  },
  {
   "cell_type": "code",
   "execution_count": 8,
   "metadata": {
    "scrolled": true
   },
   "outputs": [
    {
     "data": {
      "text/plain": [
       "['ShareFuncAdj',\n",
       " 'ShareFuncFxd',\n",
       " '__call__',\n",
       " '__class__',\n",
       " '__delattr__',\n",
       " '__dict__',\n",
       " '__dir__',\n",
       " '__doc__',\n",
       " '__eq__',\n",
       " '__format__',\n",
       " '__ge__',\n",
       " '__getattribute__',\n",
       " '__gt__',\n",
       " '__hash__',\n",
       " '__init__',\n",
       " '__init_subclass__',\n",
       " '__le__',\n",
       " '__lt__',\n",
       " '__module__',\n",
       " '__ne__',\n",
       " '__new__',\n",
       " '__reduce__',\n",
       " '__reduce_ex__',\n",
       " '__repr__',\n",
       " '__setattr__',\n",
       " '__sizeof__',\n",
       " '__slotnames__',\n",
       " '__str__',\n",
       " '__subclasshook__',\n",
       " '__weakref__',\n",
       " 'assignParameters',\n",
       " 'cFuncAdj',\n",
       " 'cFuncFxd',\n",
       " 'distance',\n",
       " 'distance_criteria',\n",
       " 'dvdmFuncFxd',\n",
       " 'dvdsFuncFxd',\n",
       " 'getAvg',\n",
       " 'vFuncAdj',\n",
       " 'vFuncFxd',\n",
       " 'vPfuncAdj']"
      ]
     },
     "execution_count": 8,
     "metadata": {},
     "output_type": "execute_result"
    }
   ],
   "source": [
    "dir(agent.solution[0])"
   ]
  },
  {
   "cell_type": "markdown",
   "metadata": {},
   "source": [
    "## Integrating with the Liquidity Model\n",
    "\n",
    "To integrate with the LiquidityModel in NetLogo, we need code that:\n",
    "\n",
    "- Collects price data from the LiquidityModel\n",
    "- Inputs this data to the consumer agents, which then compute their demand for the risky asset\n",
    "- Aggregates the consumer demand.\n",
    "\n"
   ]
  },
  {
   "cell_type": "markdown",
   "metadata": {},
   "source": [
    "### Demand function for the intermittent demand problem\n",
    "\n",
    "In the intermittent demand problem, consumers take their current state and determine risky porfolio share of their assets to invest.\n",
    "\n",
    "Their current state includes:\n",
    " * currently available market resources\n",
    " * beliefs about the risky rate of return and volatility\n",
    "\n",
    "Other aspects of the problem are fixed for now."
   ]
  },
  {
   "cell_type": "code",
   "execution_count": 9,
   "metadata": {},
   "outputs": [],
   "source": [
    "def demand(\n",
    "    market_resources,\n",
    "    permanent_income,\n",
    "    risky_avg_belief,\n",
    "    risky_std_belief,\n",
    "    agent_parameters = {}\n",
    "):\n",
    "    '''\n",
    "    Returns:\n",
    "      - the risky share\n",
    "      - the dollar value of risky assets\n",
    "      - the dollar value of non-risky market assets\n",
    "    '''\n",
    "    \n",
    "    params = {\n",
    "        'RiskyAvg': risky_avg_belief,\n",
    "        'RiskyStd': risky_std_belief,\n",
    "    }\n",
    "    \n",
    "    ap = agent_parameters.copy()\n",
    "    \n",
    "    ap.update(params)\n",
    "    \n",
    "    agent = cpm.PortfolioConsumerType(**ap)\n",
    "    agent.solve()\n",
    "    \n",
    "    # ShareFunc takes normalized market resources as argument\n",
    "    risky_share = agent.solution[0].ShareFuncAdj(market_resources / permanent_income).tolist()\n",
    "    return risky_share, market_resources * risky_share, market_resources * (1 - risky_share)"
   ]
  },
  {
   "cell_type": "code",
   "execution_count": 10,
   "metadata": {},
   "outputs": [
    {
     "data": {
      "text/plain": [
       "(0.08258400943880966, 82.58400943880966, 917.4159905611904)"
      ]
     },
     "execution_count": 10,
     "metadata": {},
     "output_type": "execute_result"
    }
   ],
   "source": [
    "demand(1000,50,1.1,0.5)"
   ]
  },
  {
   "cell_type": "markdown",
   "metadata": {},
   "source": [
    "### Synthetic price data\n",
    "\n",
    "In the future, get this from the LiquidityModel.\n",
    "\n",
    "For now, just use any array of prices with noise and drift."
   ]
  },
  {
   "cell_type": "code",
   "execution_count": 11,
   "metadata": {},
   "outputs": [],
   "source": [
    "return_rate = .05\n",
    "time_steps = 1000\n",
    "\n",
    "def random_prices(return_rate = return_rate, time_steps = time_steps):\n",
    "    prices = np.random.random(\n",
    "        time_steps) + np.arange(0,\n",
    "                                return_rate,return_rate / time_steps)\n",
    "    \n",
    "    return prices"
   ]
  },
  {
   "cell_type": "code",
   "execution_count": 12,
   "metadata": {},
   "outputs": [
    {
     "data": {
      "text/plain": [
       "[<matplotlib.lines.Line2D at 0x7f24c3163390>]"
      ]
     },
     "execution_count": 12,
     "metadata": {},
     "output_type": "execute_result"
    },
    {
     "data": {
      "image/png": "[encoded data removed]",
      "text/plain": [
       "<Figure size 432x288 with 1 Axes>"
      ]
     },
     "metadata": {
      "needs_background": "light"
     },
     "output_type": "display_data"
    }
   ],
   "source": [
    "prices = random_prices()\n",
    "\n",
    "plt.plot(prices)"
   ]
  },
  {
   "cell_type": "markdown",
   "metadata": {},
   "source": [
    "### Agents estimate return rate and volatility from historical data\n",
    "\n",
    "The agents look at the most recent historical price data to form their expectations of the future.\n",
    "\n",
    "This is a very simplified version of what could later be better specified in line with _adaptive expectations_:\n",
    "\n",
    "https://en.wikipedia.org/wiki/Adaptive_expectations"
   ]
  },
  {
   "cell_type": "code",
   "execution_count": 13,
   "metadata": {},
   "outputs": [],
   "source": [
    "from statistics import mean\n",
    "\n",
    "def best_fit_slope_and_intercept(xs,ys):\n",
    "    m = (((mean(xs)*mean(ys)) - mean(xs*ys)) /\n",
    "         ((mean(xs)*mean(xs)) - mean(xs*xs)))\n",
    "    \n",
    "    b = mean(ys) - m*mean(xs)\n",
    "    \n",
    "    return m, b\n",
    "\n"
   ]
  },
  {
   "cell_type": "code",
   "execution_count": 14,
   "metadata": {},
   "outputs": [],
   "source": [
    "def estimated_rate_of_return(prices):\n",
    "    m, b = best_fit_slope_and_intercept(np.arange(prices.size), prices)\n",
    "    \n",
    "    return 1 + m * prices.size\n"
   ]
  },
  {
   "cell_type": "code",
   "execution_count": 15,
   "metadata": {},
   "outputs": [
    {
     "data": {
      "text/plain": [
       "1.0563314328150595"
      ]
     },
     "execution_count": 15,
     "metadata": {},
     "output_type": "execute_result"
    }
   ],
   "source": [
    "estimated_rate_of_return(prices)"
   ]
  },
  {
   "cell_type": "code",
   "execution_count": 16,
   "metadata": {},
   "outputs": [
    {
     "data": {
      "text/plain": [
       "0.2935649818484845"
      ]
     },
     "execution_count": 16,
     "metadata": {},
     "output_type": "execute_result"
    }
   ],
   "source": [
    "np.std(prices)"
   ]
  },
  {
   "cell_type": "markdown",
   "metadata": {},
   "source": [
    "### Computation of today's market assets\n",
    "\n",
    "***TODO***: How do we simulate the market assets of the agent, when we are externalizing the part of the simulation that handles the risk asset?\n",
    "\n",
    "**What's below is a hack.**"
   ]
  },
  {
   "cell_type": "code",
   "execution_count": 17,
   "metadata": {},
   "outputs": [],
   "source": [
    "def new_market_assets(\n",
    "    old_risky_allocation,\n",
    "    old_risk_free_allocation,\n",
    "    prices,\n",
    "    risk_free_rate\n",
    "):\n",
    "\n",
    "    return old_risky_allocation * prices[-1] / prices[0] \\\n",
    "            + old_risk_free_allocation * risk_free_rate"
   ]
  },
  {
   "cell_type": "markdown",
   "metadata": {},
   "source": [
    "### Putting it all together\n",
    "\n",
    "Each agent knows their old risky allocation, old risk free allocation, and the prices of the last quarter.\n",
    "\n",
    "They computer their new market assets and then their new demand."
   ]
  },
  {
   "cell_type": "code",
   "execution_count": 18,
   "metadata": {},
   "outputs": [],
   "source": [
    "def update_demand(\n",
    "    permanent_income, ## TODO : where is this getting pulled from? \n",
    "    old_risky_allocation,\n",
    "    old_risk_free_allocation,\n",
    "    prices,\n",
    "    risk_free_rate,\n",
    "    agent_parameters = {}\n",
    "):\n",
    "    market_resources = new_market_assets(\n",
    "        old_risky_allocation,\n",
    "        old_risk_free_allocation,\n",
    "        prices,\n",
    "        risk_free_rate\n",
    "    )\n",
    "    \n",
    "    risky_avg_belief = estimated_rate_of_return(prices)\n",
    "    risky_std_belief = np.std(prices)\n",
    "    \n",
    "    s, r, rf = demand(\n",
    "        market_resources,\n",
    "        permanent_income,\n",
    "        risky_avg_belief,\n",
    "        risky_std_belief,\n",
    "        agent_parameters = agent_parameters\n",
    "    )\n",
    "    \n",
    "    return s, r, rf\n",
    "    "
   ]
  },
  {
   "cell_type": "code",
   "execution_count": 19,
   "metadata": {},
   "outputs": [
    {
     "name": "stdout",
     "output_type": "stream",
     "text": [
      "0.022982869313107106 234.17948703060534 9955.126462555638\n"
     ]
    }
   ],
   "source": [
    "prices = random_prices()\n",
    "\n",
    "s, r, rf  = update_demand(1, 800, 9200, prices, 1.01)\n",
    "print(s, r, rf)"
   ]
  },
  {
   "cell_type": "code",
   "execution_count": 20,
   "metadata": {},
   "outputs": [
    {
     "name": "stdout",
     "output_type": "stream",
     "text": [
      "0.0 0.0 10348.655456771925\n"
     ]
    }
   ],
   "source": [
    "prices = random_prices()\n",
    "\n",
    "\n",
    "s, r, rf  = update_demand(1, r, rf, prices, 1.01)\n",
    "print(s, r, rf)"
   ]
  },
  {
   "cell_type": "markdown",
   "metadata": {},
   "source": [
    "### Aggregating and distributing across many agents\n",
    "\n",
    "This works for multiple agents with different parameters."
   ]
  },
  {
   "cell_type": "code",
   "execution_count": 21,
   "metadata": {},
   "outputs": [
    {
     "name": "stdout",
     "output_type": "stream",
     "text": [
      "2400\n",
      "26.472811246827344\n"
     ]
    },
    {
     "data": {
      "text/plain": [
       "3118.3882913835664"
      ]
     },
     "execution_count": 21,
     "metadata": {},
     "output_type": "execute_result"
    }
   ],
   "source": [
    "## List of tuples: (parameters, number of agents represented)\n",
    "agents = [\n",
    "    ({'CRRA': 5.0}, 100), # Normal consumers\n",
    "    ({'CRRA': 6.0}, 50), # More risk-averse consumers\n",
    "    ({'CRRA': 4.0}, 50)  # Less risk-averse consumers\n",
    "    \n",
    "]\n",
    "\n",
    "## initialize\n",
    "shares = [\n",
    "    (0.08, 800, 9200),\n",
    "    (0.08, 800, 9200),\n",
    "    (0.08, 800, 9200)\n",
    "]\n",
    "\n",
    "print(sum([s[1] for s in shares]))\n",
    "\n",
    "prices = random_prices()\n",
    "\n",
    "print(prices[-1] / prices[0])\n",
    "\n",
    "shares = [\n",
    "    update_demand(1,\n",
    "                  shares[i][1],\n",
    "                  shares[i][2],\n",
    "                  prices,\n",
    "                  1.01,\n",
    "                  agent_parameters = agent_count[0]) \n",
    " for i, agent_count in enumerate(agents)]\n",
    "\n",
    "sum([s[1] for s in shares])"
   ]
  },
  {
   "cell_type": "code",
   "execution_count": 22,
   "metadata": {},
   "outputs": [
    {
     "name": "stdout",
     "output_type": "stream",
     "text": [
      "0.1916448390218377\n"
     ]
    },
    {
     "data": {
      "text/plain": [
       "871.431868209487"
      ]
     },
     "execution_count": 22,
     "metadata": {},
     "output_type": "execute_result"
    }
   ],
   "source": [
    "prices = random_prices()\n",
    "\n",
    "print(prices[-1] / prices[0])\n",
    "\n",
    "shares = [\n",
    "    update_demand(1,\n",
    "                  shares[i][1],\n",
    "                  shares[i][2],\n",
    "                  prices,\n",
    "                  1.01,\n",
    "                  agent_parameters = agent_count[0]) \n",
    " for i, agent_count in enumerate(agents)]\n",
    "\n",
    "sum([s[1] for s in shares])"
   ]
  },
  {
   "cell_type": "code",
   "execution_count": null,
   "metadata": {},
   "outputs": [],
   "source": []
  },
  {
   "cell_type": "code",
   "execution_count": null,
   "metadata": {},
   "outputs": [],
   "source": []
  }
 ],
 "metadata": {
  "kernelspec": {
   "display_name": "Python 3.7 econ-ark",
   "language": "python",
   "name": "econ-ark"
  },
  "language_info": {
   "codemirror_mode": {
    "name": "ipython",
    "version": 3
   },
   "file_extension": ".py",
   "mimetype": "text/x-python",
   "name": "python",
   "nbconvert_exporter": "python",
   "pygments_lexer": "ipython3",
   "version": "3.7.5"
  },
  "latex_envs": {
   "LaTeX_envs_menu_present": true,
   "autoclose": false,
   "autocomplete": true,
   "bibliofile": "biblio.bib",
   "cite_by": "apalike",
   "current_citInitial": 1,
   "eqLabelWithNumbers": true,
   "eqNumInitial": 1,
   "hotkeys": {
    "equation": "Ctrl-E",
    "itemize": "Ctrl-I"
   },
   "labels_anchors": false,
   "latex_user_defs": false,
   "report_style_numbering": false,
   "user_envs_cfg": false
  },
  "toc": {
   "base_numbering": 1,
   "nav_menu": {},
   "number_sections": true,
   "sideBar": true,
   "skip_h1_title": false,
   "title_cell": "Table of Contents",
   "title_sidebar": "Contents",
   "toc_cell": false,
   "toc_position": {},
   "toc_section_display": true,
   "toc_window_display": false
  }
 },
 "nbformat": 4,
 "nbformat_minor": 2
}
