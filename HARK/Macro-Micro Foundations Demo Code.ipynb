{
 "cells": [
  {
   "cell_type": "code",
   "execution_count": 1,
   "metadata": {},
   "outputs": [],
   "source": [
    "import HARK.ConsumptionSaving.ConsPortfolioModel as cpm\n",
    "import matplotlib.pyplot as plt\n",
    "import numpy as np\n",
    "import pandas as pd"
   ]
  },
  {
   "cell_type": "code",
   "execution_count": 2,
   "metadata": {},
   "outputs": [],
   "source": [
    "import sys\n",
    "\n",
    "sys.path.append('.')\n",
    "\n",
    "import hark_portfolio_agents as hpa"
   ]
  },
  {
   "cell_type": "markdown",
   "metadata": {},
   "source": [
    "## How to use this code\n"
   ]
  },
  {
   "cell_type": "markdown",
   "metadata": {},
   "source": [
    "### Initialize the agents to start\n",
    "\n",
    "This is to set up the agent parameters and quantities used in the simulation."
   ]
  },
  {
   "cell_type": "code",
   "execution_count": 3,
   "metadata": {},
   "outputs": [],
   "source": [
    "## List of tuples: \n",
    "##  ( parameters, (i.e. coefficient of relative risk aversion CRRA)\n",
    "##    number of agents represented,\n",
    "##    ( initial risky percent, $$$ in risky asset, $$$ in riskless asset)\n",
    "agent_classes = [\n",
    "    ({'CRRA': 5.0}, 100, (0.08, 800, 9200)), # Normal consumers\n",
    "    ({'CRRA': 6.0}, 50,  (0.08, 800, 9200)),  # More risk-averse consumers\n",
    "    ({'CRRA': 4.0}, 50,  (0.08, 800, 9200))  #  Less risk-averse consumers\n",
    "]\n",
    "\n",
    "\n",
    "### parameters shared by all agents\n",
    "ap = {\n",
    "    'AdjustPrb' : 0.0, # probabability of rebalancing during simulation\n",
    "    'aNrmInitMean' : 1.0, # initial distribution of assets held\n",
    "    'aNrmInitStd' : 0.0,\n",
    "    'pLvlInitMean' : 1.0, # initial distribution of permanent income\n",
    "    'pLvlInitStd' : 0.0\n",
    "}"
   ]
  },
  {
   "cell_type": "code",
   "execution_count": 4,
   "metadata": {},
   "outputs": [],
   "source": [
    "agents = hpa.create_agents(agent_classes, ap)"
   ]
  },
  {
   "cell_type": "code",
   "execution_count": 5,
   "metadata": {},
   "outputs": [
    {
     "data": {
      "text/plain": [
       "array([3.68507648, 3.68507648, 3.78585464, 4.01767823, 3.57158639,\n",
       "       3.68507648, 4.01767823, 3.68507648, 3.57158639, 3.89036951,\n",
       "       3.89036951, 3.78585464, 3.57158639, 3.78585464, 3.57158639,\n",
       "       3.89036951, 3.78585464, 4.01767823, 4.25965532, 3.89036951,\n",
       "       4.25965532, 4.01767823, 3.89036951, 3.57158639, 4.25965532,\n",
       "       3.37662426, 3.37662426, 3.37662426, 4.01767823, 3.78585464,\n",
       "       3.37662426, 4.01767823, 3.37662426, 3.68507648, 3.68507648,\n",
       "       3.89036951, 3.89036951, 3.89036951, 3.57158639, 3.68507648,\n",
       "       4.01767823, 4.25965532, 3.57158639, 3.68507648, 3.89036951,\n",
       "       3.68507648, 3.37662426, 3.89036951, 3.78585464, 3.57158639,\n",
       "       3.68507648, 4.25965532, 3.68507648, 4.01767823, 3.37662426,\n",
       "       3.37662426, 3.78585464, 3.68507648, 3.78585464, 4.25965532,\n",
       "       3.89036951, 4.01767823, 3.78585464, 3.68507648, 4.25965532,\n",
       "       3.68507648, 3.68507648, 3.89036951, 3.68507648, 4.01767823,\n",
       "       4.01767823, 3.89036951, 4.25965532, 3.78585464, 4.25965532,\n",
       "       3.68507648, 3.57158639, 3.37662426, 3.78585464, 3.68507648,\n",
       "       4.25965532, 4.01767823, 3.78585464, 4.01767823, 3.57158639,\n",
       "       3.89036951, 4.25965532, 3.57158639, 3.78585464, 3.37662426,\n",
       "       3.78585464, 3.57158639, 3.78585464, 4.01767823, 3.78585464,\n",
       "       3.68507648, 4.01767823, 3.89036951, 3.89036951, 3.57158639])"
      ]
     },
     "execution_count": 5,
     "metadata": {},
     "output_type": "execute_result"
    }
   ],
   "source": [
    "agents[0].state_now[\"mNrmNow\"]"
   ]
  },
  {
   "cell_type": "markdown",
   "metadata": {},
   "source": [
    "#### Test agent\n",
    "\n",
    "This is a test agent used to test and demonstrate the functions below."
   ]
  },
  {
   "cell_type": "code",
   "execution_count": 6,
   "metadata": {
    "code_folding": []
   },
   "outputs": [],
   "source": [
    "# test agent\n",
    "agent = cpm.PortfolioConsumerType(\n",
    "    AgentCount = 3,\n",
    "    **ap\n",
    ")\n",
    "agent.solve()\n",
    "agent.T_sim = 100\n",
    "agent.track_vars += ['pLvlNow','mNrmNow','ShareNow','RiskyNow']\n",
    "agent.initializeSim()\n",
    "agent.simulate()"
   ]
  },
  {
   "cell_type": "code",
   "execution_count": 7,
   "metadata": {},
   "outputs": [
    {
     "data": {
      "text/plain": [
       "array([[3.68507648, 3.37662426, 3.37662426],\n",
       "       [       nan,        nan,        nan],\n",
       "       [       nan,        nan,        nan],\n",
       "       [       nan,        nan,        nan],\n",
       "       [       nan,        nan,        nan],\n",
       "       [       nan,        nan,        nan],\n",
       "       [       nan,        nan,        nan],\n",
       "       [       nan,        nan,        nan],\n",
       "       [       nan,        nan,        nan],\n",
       "       [       nan,        nan,        nan],\n",
       "       [       nan,        nan,        nan],\n",
       "       [       nan,        nan,        nan],\n",
       "       [       nan,        nan,        nan],\n",
       "       [       nan,        nan,        nan],\n",
       "       [       nan,        nan,        nan],\n",
       "       [       nan,        nan,        nan],\n",
       "       [       nan,        nan,        nan],\n",
       "       [       nan,        nan,        nan],\n",
       "       [       nan,        nan,        nan],\n",
       "       [       nan,        nan,        nan],\n",
       "       [       nan,        nan,        nan],\n",
       "       [       nan,        nan,        nan],\n",
       "       [       nan,        nan,        nan],\n",
       "       [       nan,        nan,        nan],\n",
       "       [       nan,        nan,        nan],\n",
       "       [       nan,        nan,        nan],\n",
       "       [       nan,        nan,        nan],\n",
       "       [       nan,        nan,        nan],\n",
       "       [       nan,        nan,        nan],\n",
       "       [       nan,        nan,        nan],\n",
       "       [       nan,        nan,        nan],\n",
       "       [       nan,        nan,        nan],\n",
       "       [       nan,        nan,        nan],\n",
       "       [       nan,        nan,        nan],\n",
       "       [       nan,        nan,        nan],\n",
       "       [       nan,        nan,        nan],\n",
       "       [       nan,        nan,        nan],\n",
       "       [       nan,        nan,        nan],\n",
       "       [       nan,        nan,        nan],\n",
       "       [       nan,        nan,        nan],\n",
       "       [       nan,        nan,        nan],\n",
       "       [       nan,        nan,        nan],\n",
       "       [       nan,        nan,        nan],\n",
       "       [       nan,        nan,        nan],\n",
       "       [       nan,        nan,        nan],\n",
       "       [       nan,        nan,        nan],\n",
       "       [       nan,        nan,        nan],\n",
       "       [       nan,        nan,        nan],\n",
       "       [       nan,        nan,        nan],\n",
       "       [       nan,        nan,        nan],\n",
       "       [       nan,        nan,        nan],\n",
       "       [       nan,        nan,        nan],\n",
       "       [       nan,        nan,        nan],\n",
       "       [       nan,        nan,        nan],\n",
       "       [       nan,        nan,        nan],\n",
       "       [       nan,        nan,        nan],\n",
       "       [       nan,        nan,        nan],\n",
       "       [       nan,        nan,        nan],\n",
       "       [       nan,        nan,        nan],\n",
       "       [       nan,        nan,        nan],\n",
       "       [       nan,        nan,        nan],\n",
       "       [       nan,        nan,        nan],\n",
       "       [       nan,        nan,        nan],\n",
       "       [       nan,        nan,        nan],\n",
       "       [       nan,        nan,        nan],\n",
       "       [       nan,        nan,        nan],\n",
       "       [       nan,        nan,        nan],\n",
       "       [       nan,        nan,        nan],\n",
       "       [       nan,        nan,        nan],\n",
       "       [       nan,        nan,        nan],\n",
       "       [       nan,        nan,        nan],\n",
       "       [       nan,        nan,        nan],\n",
       "       [       nan,        nan,        nan],\n",
       "       [       nan,        nan,        nan],\n",
       "       [       nan,        nan,        nan],\n",
       "       [       nan,        nan,        nan],\n",
       "       [       nan,        nan,        nan],\n",
       "       [       nan,        nan,        nan],\n",
       "       [       nan,        nan,        nan],\n",
       "       [       nan,        nan,        nan],\n",
       "       [       nan,        nan,        nan],\n",
       "       [       nan,        nan,        nan],\n",
       "       [       nan,        nan,        nan],\n",
       "       [       nan,        nan,        nan],\n",
       "       [       nan,        nan,        nan],\n",
       "       [       nan,        nan,        nan],\n",
       "       [       nan,        nan,        nan],\n",
       "       [       nan,        nan,        nan],\n",
       "       [       nan,        nan,        nan],\n",
       "       [       nan,        nan,        nan],\n",
       "       [       nan,        nan,        nan],\n",
       "       [       nan,        nan,        nan],\n",
       "       [       nan,        nan,        nan],\n",
       "       [       nan,        nan,        nan],\n",
       "       [       nan,        nan,        nan],\n",
       "       [       nan,        nan,        nan],\n",
       "       [       nan,        nan,        nan],\n",
       "       [       nan,        nan,        nan],\n",
       "       [       nan,        nan,        nan],\n",
       "       [       nan,        nan,        nan]])"
      ]
     },
     "execution_count": 7,
     "metadata": {},
     "output_type": "execute_result"
    }
   ],
   "source": [
    "agent.history['mNrmNow']"
   ]
  },
  {
   "cell_type": "code",
   "execution_count": 8,
   "metadata": {},
   "outputs": [
    {
     "data": {
      "text/plain": [
       "[<matplotlib.lines.Line2D at 0x7ff624feb100>,\n",
       " <matplotlib.lines.Line2D at 0x7ff624feb370>,\n",
       " <matplotlib.lines.Line2D at 0x7ff624feb610>]"
      ]
     },
     "execution_count": 8,
     "metadata": {},
     "output_type": "execute_result"
    },
    {
     "data": {
      "image/png": "[encoded data removed]",
      "text/plain": [
       "<Figure size 432x288 with 1 Axes>"
      ]
     },
     "metadata": {
      "needs_background": "light"
     },
     "output_type": "display_data"
    }
   ],
   "source": [
    "plt.plot(agent.history['mNrmNow'] * agent.history['pLvlNow'])"
   ]
  },
  {
   "cell_type": "code",
   "execution_count": 9,
   "metadata": {},
   "outputs": [
    {
     "data": {
      "text/plain": [
       "[<matplotlib.lines.Line2D at 0x7ff622f0af40>,\n",
       " <matplotlib.lines.Line2D at 0x7ff622e98070>,\n",
       " <matplotlib.lines.Line2D at 0x7ff622e98130>]"
      ]
     },
     "execution_count": 9,
     "metadata": {},
     "output_type": "execute_result"
    },
    {
     "data": {
      "image/png": "[encoded data removed]",
      "text/plain": [
       "<Figure size 432x288 with 1 Axes>"
      ]
     },
     "metadata": {
      "needs_background": "light"
     },
     "output_type": "display_data"
    }
   ],
   "source": [
    "plt.plot(agent.history['RiskyNow'])"
   ]
  },
  {
   "cell_type": "markdown",
   "metadata": {},
   "source": [
    "The normalize market assets of each agent at the current (final) stage of the simulation."
   ]
  },
  {
   "cell_type": "markdown",
   "metadata": {},
   "source": [
    "The function from normalized market assets to the proportion of assets allocated to the risky share."
   ]
  },
  {
   "cell_type": "markdown",
   "metadata": {},
   "source": [
    "### Synthetic price data\n",
    "\n",
    "In the future, get this from the LiquidityModel.\n",
    "\n",
    "For now, just use any array of prices with noise and drift."
   ]
  },
  {
   "cell_type": "code",
   "execution_count": 10,
   "metadata": {},
   "outputs": [],
   "source": [
    "return_rate = .05\n",
    "time_steps = 1000\n",
    "\n",
    "def random_prices(return_rate = return_rate, time_steps = time_steps):\n",
    "    prices = np.random.random(\n",
    "        time_steps\n",
    "    ) + np.arange(0,\n",
    "                  return_rate,return_rate / time_steps)\n",
    "    \n",
    "    return prices"
   ]
  },
  {
   "cell_type": "code",
   "execution_count": 11,
   "metadata": {},
   "outputs": [],
   "source": [
    "## This is a dummy method that the ABM group\n",
    "## needs to write to connect to the NetLogo\n",
    "## model.\n",
    "\n",
    "def run_market(buy_sell):\n",
    "    orders = pd.read_csv(\"../PNL/out/logs/LMallorders_90_5.csv\", delimiter='\\t')\n",
    "    return orders['OrderPrice'].values"
   ]
  },
  {
   "cell_type": "markdown",
   "metadata": {},
   "source": [
    "### Agents estimate return rate and volatility from historical data\n",
    "\n",
    "The agents look at the most recent historical price data to form their expectations of the future.\n",
    "\n",
    "This is a very simplified version of what could later be better specified in line with _adaptive expectations_:\n",
    "\n",
    "https://en.wikipedia.org/wiki/Adaptive_expectations"
   ]
  },
  {
   "cell_type": "markdown",
   "metadata": {},
   "source": [
    "### Demand function for the intermittent demand problem\n",
    "\n",
    "In the intermittent demand problem, consumers take their current state and determine risky porfolio share of their assets to invest.\n",
    "\n",
    "The agent responds to the price history by:\n",
    " - updating their current assets\n",
    " - updating their expectations of the risky asset\n",
    " - returning their risky share allocation.\n",
    "\n",
    "Other aspects of the problem are fixed for now."
   ]
  },
  {
   "cell_type": "markdown",
   "metadata": {},
   "source": [
    "### Putting it all together\n",
    "\n",
    "Each agent knows their old risky allocation, old risk free allocation, and the prices of the last quarter.\n",
    "\n",
    "They computer their new market assets and then their new demand."
   ]
  },
  {
   "cell_type": "code",
   "execution_count": 12,
   "metadata": {
    "scrolled": true
   },
   "outputs": [
    {
     "name": "stdout",
     "output_type": "stream",
     "text": [
      "Getting risky asset demand for all agents\n",
      "computing aggregate buy/sell orders\n",
      "simulating macro agents\n",
      "Getting risky asset demand for all agents\n",
      "computing aggregate buy/sell orders\n",
      "simulating macro agents\n",
      "Getting risky asset demand for all agents\n",
      "computing aggregate buy/sell orders\n",
      "simulating macro agents\n",
      "Getting risky asset demand for all agents\n",
      "computing aggregate buy/sell orders\n",
      "simulating macro agents\n",
      "Getting risky asset demand for all agents\n",
      "computing aggregate buy/sell orders\n",
      "simulating macro agents\n",
      "Getting risky asset demand for all agents\n",
      "computing aggregate buy/sell orders\n",
      "simulating macro agents\n",
      "Getting risky asset demand for all agents\n",
      "computing aggregate buy/sell orders\n",
      "simulating macro agents\n",
      "Getting risky asset demand for all agents\n",
      "computing aggregate buy/sell orders\n",
      "simulating macro agents\n",
      "Getting risky asset demand for all agents\n",
      "computing aggregate buy/sell orders\n",
      "simulating macro agents\n",
      "Getting risky asset demand for all agents\n",
      "computing aggregate buy/sell orders\n",
      "simulating macro agents\n",
      "Getting risky asset demand for all agents\n",
      "computing aggregate buy/sell orders\n"
     ]
    }
   ],
   "source": [
    "## List of tuples: \n",
    "##  ( parameters, (i.e. coefficient of relative risk aversion CRRA)\n",
    "##    number of agents represented,\n",
    "##    ( initial risky percent, $$$ in risky asset, $$$ in riskless asset)\n",
    "agent_classes = [\n",
    "    ({'CRRA': 5.0}, 100, (0.08, 800, 9200)), # Normal consumers\n",
    "    ({'CRRA': 6.0}, 50,  (0.08, 800, 9200)),  # More risk-averse consumers\n",
    "    ({'CRRA': 4.0}, 50,  (0.08, 800, 9200))  #  Less risk-averse consumers\n",
    "]\n",
    "\n",
    "\n",
    "### parameters shared by all agents\n",
    "ap = {\n",
    "    'aNrmInitMean' : 1.0, # initial distribution of assets held\n",
    "    'aNrmInitStd' : 0.0,\n",
    "    'pLvlInitMean' : 1.0, # initial distribution of permanent income\n",
    "    'pLvlInitStd' : 0.0\n",
    "}\n",
    "\n",
    "# STEP 1. Initialize the agents. (and the market?)\n",
    "\n",
    "agents = hpa.create_agents(agent_classes, ap)\n",
    "\n",
    "\n",
    "# STEP 2. Create starting demand for the market.\n",
    "#         Burn in the new prices.\n",
    "\n",
    "# The initial demands for each agent\n",
    "# hpa.init_prices is used to set the agent's starting\n",
    "# beliefs about the price process.\n",
    "init_demands = hpa.demands(agents, hpa.init_prices)\n",
    "\n",
    "buy_sell = hpa.aggregate_buy_and_sell(\n",
    "    hpa.no_demand(agents), # zero allocated to risky asset\n",
    "    init_demands\n",
    ")\n",
    "\n",
    "## TODO: ABM Group reimplement the run_market method\n",
    "prices = run_market(buy_sell)\n",
    "old_demands = init_demands\n",
    "\n",
    "# STEP 3. Run simulation for N rebalances\n",
    "\n",
    "N = 10\n",
    "\n",
    "for i in range(N):\n",
    "\n",
    "    # simulate one period on the macro side\n",
    "    hpa.simulate(agents, 1)\n",
    "    new_demands = hpa.demands(agents, prices)\n",
    "    \n",
    "    buy_sell = hpa.aggregate_buy_and_sell(\n",
    "        old_demands,\n",
    "        new_demands\n",
    "    )\n",
    "    \n",
    "    prices = run_market(buy_sell)\n",
    "    old_demands = new_demands"
   ]
  },
  {
   "cell_type": "code",
   "execution_count": null,
   "metadata": {},
   "outputs": [],
   "source": []
  }
 ],
 "metadata": {
  "kernelspec": {
   "display_name": "econ-ark-3.8",
   "language": "python",
   "name": "econ-ark-3.8"
  },
  "language_info": {
   "codemirror_mode": {
    "name": "ipython",
    "version": 3
   },
   "file_extension": ".py",
   "mimetype": "text/x-python",
   "name": "python",
   "nbconvert_exporter": "python",
   "pygments_lexer": "ipython3",
   "version": "3.8.6"
  },
  "latex_envs": {
   "LaTeX_envs_menu_present": true,
   "autoclose": false,
   "autocomplete": true,
   "bibliofile": "biblio.bib",
   "cite_by": "apalike",
   "current_citInitial": 1,
   "eqLabelWithNumbers": true,
   "eqNumInitial": 1,
   "hotkeys": {
    "equation": "Ctrl-E",
    "itemize": "Ctrl-I"
   },
   "labels_anchors": false,
   "latex_user_defs": false,
   "report_style_numbering": false,
   "user_envs_cfg": false
  },
  "toc": {
   "base_numbering": 1,
   "nav_menu": {},
   "number_sections": true,
   "sideBar": true,
   "skip_h1_title": false,
   "title_cell": "Table of Contents",
   "title_sidebar": "Contents",
   "toc_cell": false,
   "toc_position": {},
   "toc_section_display": true,
   "toc_window_display": false
  }
 },
 "nbformat": 4,
 "nbformat_minor": 2
}
