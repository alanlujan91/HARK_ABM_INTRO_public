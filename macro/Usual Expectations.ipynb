{
 "cells": [
  {
   "cell_type": "markdown",
   "id": "fd3d88d1",
   "metadata": {},
   "source": [
    "Assume Lucas asset pricing. See [notes](http://www.econ2.jhu.edu/people/ccarroll/public/lecturenotes/AssetPricing/LucasAssetPrice.pdf).\n",
    "\n",
    "$$d_t = d_{t-1}G\\eta$$\n",
    "$$\\eta \\sim \\text{Lognormal}(0, \\sigma_\\eta)$$\n",
    "$$p_t = C d_t$$"
   ]
  },
  {
   "cell_type": "markdown",
   "id": "6fb83f43",
   "metadata": {},
   "source": [
    "#### LUCAS0\n",
    "\n",
    "##### Q1\n",
    "- What should be the price process for the market, given $\\beta$, $\\rho$, and a lognormally random walking dividend?\n",
    "\n",
    "$$\\beta = 1 / (1 + \\theta)$$\n",
    "\n",
    "$$\\theta = 1 / \\beta - 1$$\n",
    "\n",
    "$$d_t ^ \\rho / P_t= \\theta$$\n",
    "\n",
    "So the MockMarket currently: \n",
    "- samples the new dividend $d_t$\n",
    "- sets the price to be $C d_t$\n",
    "\n",
    "$$C = P_t / d_t$$\n",
    "\n",
    "$$ 1 / \\theta = P_t / d_t ^ \\rho $$\n",
    "\n",
    "**The answer: amazingly, not a constant!**\n",
    "\n",
    "$P_t = \\frac{d^\\rho_t}{ 1 / \\beta - 1} = f(d_t)$\n",
    "\n",
    "##### Q2\n",
    "\n",
    "- What should be the USUAL expectations of the rate of return of the risky asset, given homogenous $\\beta$ and $\\rho$\n",
    "\n",
    "\n",
    "\n",
    "\n",
    "$$ROR = \\frac{P_{t+1} + d_{t+1}}{P_t}$$\n",
    "\n",
    "$$ROR = \\frac{f(d_{t+1}) + d_{t+1}}{f(d_t)}$$\n",
    "\n",
    "$$ROR = \\frac{f(\\nu d_t) + \\nu d_t}{f(d_t)}$$\n",
    "\n",
    "where $\\nu \\sim \\text{LogNormal}(0, \\sigma_\\nu)$\n",
    "\n",
    "$$\\mathbb{E}[ROR] = ???$$\n",
    "\n",
    "And then also we need the expecations of the standard deviation of this."
   ]
  },
  {
   "cell_type": "markdown",
   "id": "0e5b2aab",
   "metadata": {},
   "source": [
    "### Older thoughts below"
   ]
  },
  {
   "cell_type": "markdown",
   "id": "6ce22add",
   "metadata": {},
   "source": [
    "Agents:\n",
    " - Macro agents. Micro consumers.\n",
    "     - We have heterogeneity in $\\rho$ and $\\beta$.\n",
    " - Institutional investors."
   ]
  },
  {
   "cell_type": "markdown",
   "id": "571adec7",
   "metadata": {},
   "source": [
    "The amount of price impact/liquidity available to consumers vs. instituional investors is a parameter we're ranging over."
   ]
  },
  {
   "cell_type": "markdown",
   "id": "285afb8f",
   "metadata": {},
   "source": [
    "Given $G$ and $\\sigma_\\eta$, what is the expected mean and standard deviation of the rate of return on the risky asset?"
   ]
  },
  {
   "cell_type": "markdown",
   "id": "e4565cb7",
   "metadata": {},
   "source": [
    "The rate of return on the risky asset is:\n",
    "\n",
    "$$R_t = \\frac{p_t + d_t}{p_{t-1}}$$"
   ]
  },
  {
   "cell_type": "markdown",
   "id": "9c6f7fb4",
   "metadata": {},
   "source": [
    "$$R_t = \\frac{Cd_t + d_t}{Cd_{t-1}}$$\n",
    "\n",
    "$$R_t = \\frac{(1 + C) d_{t-1}G\\eta}{Cd_{t-1}}$$\n",
    "\n",
    "$$R_t = \\frac{1 + C}{C} G \\eta$$"
   ]
  },
  {
   "cell_type": "markdown",
   "id": "cd030372",
   "metadata": {},
   "source": [
    "Under some conditions (logarithmic utility), $C = \\frac{\\beta}{1 - \\beta}$, so:\n",
    "\n",
    "$$R_t = \\frac{1 + \\frac{\\beta}{1 - \\beta}}{\\frac{\\beta}{1 - \\beta}} G \\eta = \\frac{(1 - \\beta) \\frac{1}{1 - \\beta}}{\\beta} G \\eta = \\beta^{-1} G \\eta$$\n",
    "\n",
    "Because we expect this price process to be anchored in the activity of the institutional investors, it is their $\\beta$ which should be used here. This can then be passed "
   ]
  },
  {
   "cell_type": "markdown",
   "id": "8ccc0dd8",
   "metadata": {},
   "source": [
    "So what $\\beta$ to use?\n",
    " - Use the empirically derived $\\beta$ from the price/dividend ratio of the S&P500."
   ]
  },
  {
   "cell_type": "markdown",
   "id": "8e0ea17e",
   "metadata": {},
   "source": [
    "Picking aggregate $\\rho$: Mehra and Prescott, 1985., and every paper onward.\n",
    "\n",
    "For the sake of development, provisionally, set $\\rho = 5$"
   ]
  },
  {
   "cell_type": "markdown",
   "id": "4faba5f0",
   "metadata": {},
   "source": [
    "### Experiment Design\n",
    "\n",
    "Start with parameterization that looks like Lucas pricing actually.\n",
    "\n",
    "Parameter grid so far:\n",
    "\n",
    " - Dividend growth rate $G$ and $\\sigma_\\eta$.\n",
    " - $\\zeta$ -- threshold/sensitivity for diverting from Usual beliefs.\n",
    "     - $\\zeta = 0$ means always usual, $\\zeta = 1$ means always strange\n",
    "     \n",
    "Specific to our model:\n",
    " \n",
    " - Relatively liquidity of institutional investors vs. micro consumers\n",
    " - Attention rate\n",
    " - Memory function parameters: $p_1$, $p_2$, $\\delta_1$, $\\delta_2$. (From John's model.)\n",
    "\n",
    "Market structure (AMMPS) parameters:\n",
    " - Needs to be engineered so that Lucas is replicated.\n",
    " - Institutional investors get $\\beta$ and $\\rho$ to match S&P500.\n",
    "\n",
    "An experimental condition: shocks in the market microstructure.\n",
    " - To liquidity, from regulation, to operation of the market."
   ]
  },
  {
   "cell_type": "code",
   "execution_count": null,
   "id": "692eac51",
   "metadata": {},
   "outputs": [],
   "source": []
  }
 ],
 "metadata": {
  "kernelspec": {
   "display_name": "ufm",
   "language": "python",
   "name": "ufm"
  },
  "language_info": {
   "codemirror_mode": {
    "name": "ipython",
    "version": 3
   },
   "file_extension": ".py",
   "mimetype": "text/x-python",
   "name": "python",
   "nbconvert_exporter": "python",
   "pygments_lexer": "ipython3",
   "version": "3.10.6"
  }
 },
 "nbformat": 4,
 "nbformat_minor": 5
}
