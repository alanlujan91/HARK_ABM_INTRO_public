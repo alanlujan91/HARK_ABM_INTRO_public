{
 "cells": [
  {
   "cell_type": "code",
   "execution_count": 1,
   "metadata": {
    "collapsed": true,
    "pycharm": {
     "name": "#%%\n"
    }
   },
   "outputs": [],
   "source": [
    "from HARK.ConsumptionSaving.ConsPortfolioModel import SequentialPortfolioConsumerType\n",
    "\n",
    "from sharkfin.population import AgentPopulation, AgentPopulationSolution\n",
    "from simulate.parameters import (\n",
    "    agent_population_params,\n",
    "    continuous_dist_params,\n",
    "    approx_params,\n",
    ")"
   ]
  },
  {
   "cell_type": "code",
   "execution_count": 2,
   "outputs": [],
   "source": [
    "parameter_dict = agent_population_params | continuous_dist_params\n",
    "\n",
    "ap = AgentPopulation(SequentialPortfolioConsumerType(), parameter_dict)\n",
    "ap.approx_distributions(approx_params)\n",
    "ap.parse_params()"
   ],
   "metadata": {
    "collapsed": false,
    "pycharm": {
     "name": "#%%\n"
    }
   }
  },
  {
   "cell_type": "code",
   "execution_count": 3,
   "outputs": [],
   "source": [
    "ap.create_distributed_agents()\n",
    "ap.create_database()\n",
    "ap.solve_distributed_agents()\n",
    "ap.init_simulation()"
   ],
   "metadata": {
    "collapsed": false,
    "pycharm": {
     "name": "#%%\n"
    }
   }
  },
  {
   "cell_type": "code",
   "execution_count": 4,
   "outputs": [
    {
     "data": {
      "text/plain": "   DiscFac      CRRA                                              cFunc  \\\n0   0.9465  3.333333  <HARK.interpolation.LinearInterpOnInterp2D obj...   \n1   0.9465  6.000000  <HARK.interpolation.LinearInterpOnInterp2D obj...   \n2   0.9465  8.666667  <HARK.interpolation.LinearInterpOnInterp2D obj...   \n3   0.9675  3.333333  <HARK.interpolation.LinearInterpOnInterp2D obj...   \n4   0.9675  6.000000  <HARK.interpolation.LinearInterpOnInterp2D obj...   \n5   0.9675  8.666667  <HARK.interpolation.LinearInterpOnInterp2D obj...   \n\n                                           shareFunc  \n0  <HARK.interpolation.LinearInterpOnInterp2D obj...  \n1  <HARK.interpolation.LinearInterpOnInterp2D obj...  \n2  <HARK.interpolation.LinearInterpOnInterp2D obj...  \n3  <HARK.interpolation.LinearInterpOnInterp2D obj...  \n4  <HARK.interpolation.LinearInterpOnInterp2D obj...  \n5  <HARK.interpolation.LinearInterpOnInterp2D obj...  ",
      "text/html": "<div>\n<style scoped>\n    .dataframe tbody tr th:only-of-type {\n        vertical-align: middle;\n    }\n\n    .dataframe tbody tr th {\n        vertical-align: top;\n    }\n\n    .dataframe thead th {\n        text-align: right;\n    }\n</style>\n<table border=\"1\" class=\"dataframe\">\n  <thead>\n    <tr style=\"text-align: right;\">\n      <th></th>\n      <th>DiscFac</th>\n      <th>CRRA</th>\n      <th>cFunc</th>\n      <th>shareFunc</th>\n    </tr>\n  </thead>\n  <tbody>\n    <tr>\n      <th>0</th>\n      <td>0.9465</td>\n      <td>3.333333</td>\n      <td>&lt;HARK.interpolation.LinearInterpOnInterp2D obj...</td>\n      <td>&lt;HARK.interpolation.LinearInterpOnInterp2D obj...</td>\n    </tr>\n    <tr>\n      <th>1</th>\n      <td>0.9465</td>\n      <td>6.000000</td>\n      <td>&lt;HARK.interpolation.LinearInterpOnInterp2D obj...</td>\n      <td>&lt;HARK.interpolation.LinearInterpOnInterp2D obj...</td>\n    </tr>\n    <tr>\n      <th>2</th>\n      <td>0.9465</td>\n      <td>8.666667</td>\n      <td>&lt;HARK.interpolation.LinearInterpOnInterp2D obj...</td>\n      <td>&lt;HARK.interpolation.LinearInterpOnInterp2D obj...</td>\n    </tr>\n    <tr>\n      <th>3</th>\n      <td>0.9675</td>\n      <td>3.333333</td>\n      <td>&lt;HARK.interpolation.LinearInterpOnInterp2D obj...</td>\n      <td>&lt;HARK.interpolation.LinearInterpOnInterp2D obj...</td>\n    </tr>\n    <tr>\n      <th>4</th>\n      <td>0.9675</td>\n      <td>6.000000</td>\n      <td>&lt;HARK.interpolation.LinearInterpOnInterp2D obj...</td>\n      <td>&lt;HARK.interpolation.LinearInterpOnInterp2D obj...</td>\n    </tr>\n    <tr>\n      <th>5</th>\n      <td>0.9675</td>\n      <td>8.666667</td>\n      <td>&lt;HARK.interpolation.LinearInterpOnInterp2D obj...</td>\n      <td>&lt;HARK.interpolation.LinearInterpOnInterp2D obj...</td>\n    </tr>\n  </tbody>\n</table>\n</div>"
     },
     "execution_count": 4,
     "metadata": {},
     "output_type": "execute_result"
    }
   ],
   "source": [
    "solution = AgentPopulationSolution(ap)\n",
    "solution.merge_solutions([\"RiskyAvg\", \"RiskyStd\"])"
   ],
   "metadata": {
    "collapsed": false,
    "pycharm": {
     "name": "#%%\n"
    }
   }
  },
  {
   "cell_type": "markdown",
   "source": [
    "An agent has 5 state variables:\n",
    "- 2 exogenous (DiscFac, CRRA)\n",
    "- 1 endogenous (m_nrm; cash on hand)\n",
    "- 2 beliefs (RiskyAvg, RiskyStd)\n",
    "\n",
    "A sketch of how to access solution\n",
    "\n",
    "`solution_database.get(\"DiscFac = 0.94, CRRA = 3.32\").cFunc(m, RiskyAvg, RiskyStd)`"
   ],
   "metadata": {
    "collapsed": false,
    "pycharm": {
     "name": "#%% md\n"
    }
   }
  },
  {
   "cell_type": "code",
   "execution_count": null,
   "outputs": [],
   "source": [],
   "metadata": {
    "collapsed": false,
    "pycharm": {
     "name": "#%%\n"
    }
   }
  }
 ],
 "metadata": {
  "kernelspec": {
   "display_name": "Python 3",
   "language": "python",
   "name": "python3"
  },
  "language_info": {
   "codemirror_mode": {
    "name": "ipython",
    "version": 2
   },
   "file_extension": ".py",
   "mimetype": "text/x-python",
   "name": "python",
   "nbconvert_exporter": "python",
   "pygments_lexer": "ipython2",
   "version": "2.7.6"
  }
 },
 "nbformat": 4,
 "nbformat_minor": 0
}