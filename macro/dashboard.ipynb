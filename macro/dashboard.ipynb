{
 "cells": [
  {
   "cell_type": "code",
   "execution_count": 1,
   "metadata": {},
   "outputs": [],
   "source": [
    "import ipywidgets as widgets\n",
    "from HARK.ConsumptionSaving.ConsPortfolioModel import SequentialPortfolioConsumerType\n",
    "from HARK.utilities import plot_funcs\n",
    "\n",
    "from simulate.parameters import LUCAS0\n",
    "import math"
   ]
  },
  {
   "cell_type": "code",
   "execution_count": 2,
   "metadata": {},
   "outputs": [],
   "source": [
    "LUCAS0[\"aNrmInitStd\"] = 0.0\n",
    "\n",
    "risky_expectations = {\"RiskyAvg\": 1.0175492133848216, \"RiskyStd\": 0.09283741339989003}\n",
    "\n",
    "parameter_dict = LUCAS0.copy()\n",
    "\n",
    "parameter_dict.update(risky_expectations)\n",
    "\n",
    "PARAMS = parameter_dict  # a0h.parameters\n",
    "\n",
    "PARAMS[\"aNrmInitMean\"] = 1\n",
    "PARAMS[\"aNrmInitStd\"] = 0.00\n",
    "PARAMS[\"T_sim\"] = 5000\n",
    "PARAMS[\"PermGroFac\"] = [PARAMS[\"PermGroFac\"]]\n",
    "PARAMS[\"AgentCount\"] = 2000\n",
    "PARAMS[\"sim_common_Rrisky\"] = False\n",
    "\n",
    "# PARAMS['LivPrb'] = [1.0]\n",
    "PARAMS[\"DiscFac\"] = 0.99  # * 0.995 * .9\n",
    "\n",
    "# PARAMS['TranShkStd'] = [1.0]\n",
    "\n",
    "PARAMS[\"RiskyCount\"] = 9\n",
    "\n",
    "\n",
    "at = SequentialPortfolioConsumerType(**PARAMS)\n",
    "at.track_vars += [\"aNrm\", \"cNrm\", \"mNrm\", \"Risky\", \"Share\", \"aLvl\", \"pLvl\"]\n",
    "at.solve()\n",
    "\n",
    "cFunc = at.solution[0].cFuncAdj\n",
    "ShareFunc = at.solution[0].ShareFuncAdj"
   ]
  },
  {
   "cell_type": "code",
   "execution_count": 3,
   "metadata": {},
   "outputs": [],
   "source": [
    "agent_parameters = PARAMS.copy()"
   ]
  },
  {
   "cell_type": "code",
   "execution_count": 4,
   "metadata": {
    "collapsed": false,
    "jupyter": {
     "outputs_hidden": false
    },
    "pycharm": {
     "name": "#%%\n"
    }
   },
   "outputs": [
    {
     "data": {
      "image/png": "[encoded data removed]",
      "text/plain": [
       "<Figure size 640x480 with 1 Axes>"
      ]
     },
     "metadata": {},
     "output_type": "display_data"
    }
   ],
   "source": [
    "plot_funcs(ShareFunc, 0, 100)"
   ]
  },
  {
   "cell_type": "code",
   "execution_count": 5,
   "metadata": {},
   "outputs": [],
   "source": [
    "dividend_growth_rate = 1.000203\n",
    "dividend_std = 0.011983\n",
    "\n",
    "def price_dividend_ratio_random_walk(\n",
    "    DiscFac, CRRA, days_per_quarter=90\n",
    "):\n",
    "\n",
    "    # Assuming DiscFac in argument in quarterly\n",
    "    DiscFac_daily = DiscFac ** (1.0 / days_per_quarter)\n",
    "\n",
    "    dividend_shock_std = dividend_std / math.sqrt(dividend_growth_rate)\n",
    "\n",
    "    subjective_return = (\n",
    "        dividend_growth_rate ** (1 - CRRA)\n",
    "        * DiscFac_daily\n",
    "        * (dividend_shock_std**2 + 1) ** (CRRA * (CRRA - 1) / 2)\n",
    "    )\n",
    "\n",
    "    print(\"subjective_return: \" + str(subjective_return))\n",
    "    return subjective_return < 1"
   ]
  },
  {
   "cell_type": "code",
   "execution_count": 6,
   "metadata": {
    "jupyter": {
     "outputs_hidden": false
    },
    "pycharm": {
     "name": "#%%\n"
    }
   },
   "outputs": [],
   "source": [
    "def portfolio_choice(CRRA=3.0, DiscFac=0.99):\n",
    "    agent_parameters[\"CRRA\"] = CRRA\n",
    "    agent_parameters[\"DiscFac\"] = DiscFac\n",
    "\n",
    "    print(\"Solving...\")\n",
    "\n",
    "    agent = SequentialPortfolioConsumerType(**agent_parameters)\n",
    "    agent.solve()\n",
    "\n",
    "    print(\"Solved!\")\n",
    "    \n",
    "    srle1 = price_dividend_ratio_random_walk(DiscFac, CRRA)\n",
    "    \n",
    "    print(\"subjective_return < 1?: \" + str(srle1))\n",
    "\n",
    "    plot_funcs(agent.solution[0].ShareFuncAdj, 0, 100)"
   ]
  },
  {
   "cell_type": "code",
   "execution_count": 9,
   "metadata": {
    "jupyter": {
     "outputs_hidden": false
    },
    "pycharm": {
     "name": "#%%\n"
    }
   },
   "outputs": [
    {
     "data": {
      "application/vnd.jupyter.widget-view+json": {
       "model_id": "3adbe9eaf28d4ae3b138ff3a39a09172",
       "version_major": 2,
       "version_minor": 0
      },
      "text/plain": [
       "interactive(children=(IntSlider(value=3, description='CRRA', max=10, min=2), FloatSlider(value=0.99, descripti…"
      ]
     },
     "metadata": {},
     "output_type": "display_data"
    },
    {
     "data": {
      "text/plain": [
       "<function __main__.portfolio_choice(CRRA=3.0, DiscFac=0.99)>"
      ]
     },
     "execution_count": 9,
     "metadata": {},
     "output_type": "execute_result"
    }
   ],
   "source": [
    "widgets.interact(\n",
    "    portfolio_choice,\n",
    "    CRRA=(2, 10, 1),\n",
    "    DiscFac=(0.5, 0.99, 0.02),\n",
    "    continuous_update=False,\n",
    ")"
   ]
  },
  {
   "cell_type": "code",
   "execution_count": null,
   "metadata": {},
   "outputs": [],
   "source": []
  }
 ],
 "metadata": {
  "jupytext": {
   "formats": "ipynb,py:percent"
  },
  "kernelspec": {
   "display_name": "Python 3 (ipykernel)",
   "language": "python",
   "name": "python3"
  },
  "language_info": {
   "codemirror_mode": {
    "name": "ipython",
    "version": 3
   },
   "file_extension": ".py",
   "mimetype": "text/x-python",
   "name": "python",
   "nbconvert_exporter": "python",
   "pygments_lexer": "ipython3",
   "version": "3.10.10"
  }
 },
 "nbformat": 4,
 "nbformat_minor": 4
}
