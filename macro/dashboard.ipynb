{
 "cells": [
  {
   "cell_type": "code",
   "execution_count": 17,
   "metadata": {},
   "outputs": [],
   "source": [
    "import ipywidgets as widgets\n",
    "from HARK.ConsumptionSaving.ConsPortfolioModel import SequentialPortfolioConsumerType\n",
    "from HARK.utilities import plot_funcs\n",
    "\n",
    "from simulate.parameters import LUCAS0\n",
    "import math\n",
    "import matplotlib.pyplot as plt\n",
    "import numpy as np"
   ]
  },
  {
   "cell_type": "code",
   "execution_count": 46,
   "metadata": {},
   "outputs": [],
   "source": [
    "LUCAS0[\"aNrmInitStd\"] = 0.0\n",
    "\n",
    "risky_expectations = {\"RiskyAvg\": 1.0175492133848216, \"RiskyStd\": 0.09283741339989003}\n",
    "\n",
    "parameter_dict = LUCAS0.copy()\n",
    "\n",
    "parameter_dict['PermShkStd'] = [.1]\n",
    "\n",
    "parameter_dict.update(risky_expectations)\n",
    "\n",
    "PARAMS = parameter_dict  # a0h.parameters\n",
    "\n",
    "PARAMS[\"aNrmInitMean\"] = 1\n",
    "PARAMS[\"aNrmInitStd\"] = 0.00\n",
    "PARAMS[\"T_sim\"] = 5000\n",
    "PARAMS[\"PermGroFac\"] = [PARAMS[\"PermGroFac\"]]\n",
    "PARAMS[\"AgentCount\"] = 2000\n",
    "PARAMS[\"sim_common_Rrisky\"] = False\n",
    "\n",
    "# PARAMS['LivPrb'] = [1.0]\n",
    "PARAMS[\"DiscFac\"] = 0.99  # * 0.995 * .9\n",
    "\n",
    "# PARAMS['TranShkStd'] = [1.0]\n",
    "\n",
    "PARAMS[\"RiskyCount\"] = 9\n",
    "\n",
    "\n",
    "at = SequentialPortfolioConsumerType(**PARAMS)\n",
    "at.track_vars += [\"aNrm\", \"cNrm\", \"mNrm\", \"Risky\", \"Share\", \"aLvl\", \"pLvl\"]\n",
    "at.solve()\n",
    "\n",
    "cFunc = at.solution[0].cFuncAdj\n",
    "ShareFunc = at.solution[0].ShareFuncAdj"
   ]
  },
  {
   "cell_type": "code",
   "execution_count": 47,
   "metadata": {},
   "outputs": [
    {
     "data": {
      "text/plain": [
       "{'cycles': 0,\n",
       " 'aNrmInitStd': 0.0,\n",
       " 'aNrmInitMean': 1,\n",
       " 'LivPrb': [0.9949620563926881],\n",
       " 'PermGroFac': [1.0],\n",
       " 'pLvlInitMean': 0.0,\n",
       " 'pLvlInitStd': 0.0,\n",
       " 'Rfree': 1.0,\n",
       " 'TranShkStd': [0],\n",
       " 'PermShkStd': [0.1],\n",
       " 'UnempPrb': 0.0,\n",
       " 'CRRA': 3,\n",
       " 'DiscFac': 0.99,\n",
       " 'ex_post': None,\n",
       " 'AgentCount': 2000,\n",
       " 'num_per_type': 1000,\n",
       " 'RiskyAvg': 1.0175492133848216,\n",
       " 'RiskyStd': 0.09283741339989003,\n",
       " 'T_sim': 5000,\n",
       " 'sim_common_Rrisky': False,\n",
       " 'RiskyCount': 9}"
      ]
     },
     "execution_count": 47,
     "metadata": {},
     "output_type": "execute_result"
    }
   ],
   "source": [
    "parameter_dict"
   ]
  },
  {
   "cell_type": "code",
   "execution_count": 48,
   "metadata": {},
   "outputs": [],
   "source": [
    "agent_parameters = PARAMS.copy()"
   ]
  },
  {
   "cell_type": "code",
   "execution_count": 49,
   "metadata": {
    "jupyter": {
     "outputs_hidden": false
    },
    "pycharm": {
     "name": "#%%\n"
    }
   },
   "outputs": [
    {
     "data": {
      "image/png": "[encoded data removed]",
      "text/plain": [
       "<Figure size 432x288 with 1 Axes>"
      ]
     },
     "metadata": {
      "needs_background": "light"
     },
     "output_type": "display_data"
    }
   ],
   "source": [
    "plot_funcs(ShareFunc, 0, 100)"
   ]
  },
  {
   "cell_type": "code",
   "execution_count": 50,
   "metadata": {},
   "outputs": [],
   "source": [
    "dividend_growth_rate = 1.000203\n",
    "dividend_std = 0.011983\n",
    "\n",
    "def price_dividend_ratio_random_walk(\n",
    "    DiscFac, CRRA, days_per_quarter=90\n",
    "):\n",
    "\n",
    "    # Assuming DiscFac in argument in quarterly\n",
    "    DiscFac_daily = DiscFac ** (1.0 / days_per_quarter)\n",
    "\n",
    "    dividend_shock_std = dividend_std / math.sqrt(dividend_growth_rate)\n",
    "\n",
    "    subjective_return = (\n",
    "        dividend_growth_rate ** (1 - CRRA)\n",
    "        * DiscFac_daily\n",
    "        * (dividend_shock_std**2 + 1) ** (CRRA * (CRRA - 1) / 2)\n",
    "    )\n",
    "\n",
    "    print(\"subjective_return: \" + str(subjective_return))\n",
    "    return subjective_return < 1"
   ]
  },
  {
   "cell_type": "code",
   "execution_count": 53,
   "metadata": {
    "jupyter": {
     "outputs_hidden": false
    },
    "pycharm": {
     "name": "#%%\n"
    }
   },
   "outputs": [],
   "source": [
    "def portfolio_choice(CRRA=6.0, DiscFac=0.9):\n",
    "    agent_parameters[\"CRRA\"] = CRRA\n",
    "    agent_parameters[\"DiscFac\"] = DiscFac\n",
    "\n",
    "    print(\"Solving...\")\n",
    "\n",
    "    agent = SequentialPortfolioConsumerType(**agent_parameters)\n",
    "    agent.solve()\n",
    "\n",
    "    print(\"Solved!\")\n",
    "    \n",
    "    srle1 = price_dividend_ratio_random_walk(DiscFac, CRRA)\n",
    "    \n",
    "    print(\"subjective_return < 1?: \" + str(srle1))\n",
    "\n",
    "    plot_funcs(agent.solution[0].ShareFuncAdj, 0, 100)\n",
    "    \n",
    "    plot_funcs(agent.solution[0].cFuncAdj, 0, 100)\n",
    "    \n",
    "    cFunc = agent.solution[0].cFuncAdj\n",
    "    ShareFunc = agent.solution[0].ShareFuncAdj\n",
    "    \n",
    "    def expected_increase(mNrm):\n",
    "        share = ShareFunc(mNrm)\n",
    "\n",
    "        aNrm = mNrm - cFunc(mNrm)\n",
    "\n",
    "        mNrm_next = (\n",
    "            aNrm\n",
    "            * (share * agent.parameters[\"RiskyAvg\"] + (1 - share) * agent.parameters[\"Rfree\"])\n",
    "            + 1\n",
    "        )\n",
    "    \n",
    "        gain = mNrm_next - aNrm\n",
    "\n",
    "        return gain\n",
    "    \n",
    "    mNrm = np.linspace(0, 20, 1000)\n",
    "\n",
    "    plt.plot(mNrm, cFunc(mNrm), label=\"c\")\n",
    "\n",
    "    plt.plot(mNrm, expected_increase(mNrm), label=\"gain\")\n",
    "\n",
    "    plt.plot(mNrm, (mNrm - cFunc(mNrm)) * ShareFunc(mNrm), label =\"wealth-into-market\" )\n",
    "    \n",
    "    plt.legend()"
   ]
  },
  {
   "cell_type": "code",
   "execution_count": 54,
   "metadata": {
    "jupyter": {
     "outputs_hidden": false
    },
    "pycharm": {
     "name": "#%%\n"
    }
   },
   "outputs": [
    {
     "data": {
      "application/vnd.jupyter.widget-view+json": {
       "model_id": "c6f2b19986bb4adba598c58ba64f9606",
       "version_major": 2,
       "version_minor": 0
      },
      "text/plain": [
       "interactive(children=(IntSlider(value=6, description='CRRA', max=10, min=2), FloatSlider(value=0.9, descriptio…"
      ]
     },
     "metadata": {},
     "output_type": "display_data"
    },
    {
     "data": {
      "text/plain": [
       "<function __main__.portfolio_choice(CRRA=6.0, DiscFac=0.9)>"
      ]
     },
     "execution_count": 54,
     "metadata": {},
     "output_type": "execute_result"
    }
   ],
   "source": [
    "widgets.interact(\n",
    "    portfolio_choice,\n",
    "    CRRA=(2, 10, 1),\n",
    "    DiscFac=(0.5, 0.99, 0.02),\n",
    "    continuous_update=False,\n",
    ")"
   ]
  },
  {
   "cell_type": "markdown",
   "metadata": {},
   "source": [
    "Questions:\n",
    "\n",
    "- How can we compute the `E[aNrm[t-1]]` values from a given `mNrm[t]`, such that we can go from the consumption/expected gain intercept to an equilibrium normalized asset value?\n",
    "  \n",
    "- What we need for the SHARKFin economy to be at equilibrium is for the consumers to have a finite equilibium _level_ of assets (not normalized by labor income). How to do we compute it when permanent labor income is following a random walk?"
   ]
  },
  {
   "cell_type": "code",
   "execution_count": null,
   "metadata": {},
   "outputs": [],
   "source": []
  },
  {
   "cell_type": "code",
   "execution_count": null,
   "metadata": {},
   "outputs": [],
   "source": []
  }
 ],
 "metadata": {
  "jupytext": {
   "formats": "ipynb,py:percent"
  },
  "kernelspec": {
   "display_name": "Python 3 (ipykernel)",
   "language": "python",
   "name": "python3"
  },
  "language_info": {
   "codemirror_mode": {
    "name": "ipython",
    "version": 3
   },
   "file_extension": ".py",
   "mimetype": "text/x-python",
   "name": "python",
   "nbconvert_exporter": "python",
   "pygments_lexer": "ipython3",
   "version": "3.10.12"
  }
 },
 "nbformat": 4,
 "nbformat_minor": 4
}
