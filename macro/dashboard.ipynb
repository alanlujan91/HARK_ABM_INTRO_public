{
 "cells": [
  {
   "cell_type": "code",
   "execution_count": 1,
   "metadata": {},
   "outputs": [],
   "source": [
    "import ipywidgets as widgets\n",
    "from run_simulations import agent_parameters, agent_parameters\n",
    "from HARK.ConsumptionSaving.ConsPortfolioModel import PortfolioConsumerType\n",
    "from hark_portfolio_agents import FinanceModel\n",
    "from HARK.utilities import plot_funcs"
   ]
  },
  {
   "cell_type": "code",
   "execution_count": 2,
   "metadata": {
    "collapsed": false,
    "jupyter": {
     "outputs_hidden": false
    },
    "pycharm": {
     "name": "#%%\n"
    }
   },
   "outputs": [],
   "source": [
    "agent_parameters[\"cycles\"] = 0"
   ]
  },
  {
   "cell_type": "code",
   "execution_count": 3,
   "metadata": {
    "collapsed": false,
    "jupyter": {
     "outputs_hidden": false
    },
    "pycharm": {
     "name": "#%%\n"
    }
   },
   "outputs": [],
   "source": [
    "def portfolio_choice(RiskyAvg=1.08, RiskyStd=0.2, CRRA=5.0, DiscFac=0.9):\n",
    "\n",
    "    agent_parameters[\"RiskyAvg\"] = RiskyAvg\n",
    "    agent_parameters[\"RiskyStd\"] = RiskyStd\n",
    "    agent_parameters[\"CRRA\"] = CRRA\n",
    "    agent_parameters[\"DiscFac\"] = DiscFac\n",
    "\n",
    "    print(\"Solving...\")\n",
    "\n",
    "    agent = PortfolioConsumerType(**agent_parameters)\n",
    "    agent.solve()\n",
    "\n",
    "    print(\"Solved!\")\n",
    "\n",
    "    plot_funcs(agent.solution[0].ShareFuncAdj, 0, 100)"
   ]
  },
  {
   "cell_type": "code",
   "execution_count": 4,
   "metadata": {
    "collapsed": false,
    "jupyter": {
     "outputs_hidden": false
    },
    "pycharm": {
     "name": "#%%\n"
    }
   },
   "outputs": [
    {
     "data": {
      "application/vnd.jupyter.widget-view+json": {
       "model_id": "231cab8b836a4ae5a653d1468e3312b0",
       "version_major": 2,
       "version_minor": 0
      },
      "text/plain": [
       "interactive(children=(FloatSlider(value=1.08, description='RiskyAvg', max=1.1, min=1.0, step=0.01), FloatSlide…"
      ]
     },
     "metadata": {},
     "output_type": "display_data"
    },
    {
     "data": {
      "text/plain": [
       "<function __main__.portfolio_choice(RiskyAvg=1.08, RiskyStd=0.2, CRRA=5.0, DiscFac=0.9)>"
      ]
     },
     "execution_count": 4,
     "metadata": {},
     "output_type": "execute_result"
    }
   ],
   "source": [
    "widgets.interact(\n",
    "    portfolio_choice,\n",
    "    RiskyAvg=(1.0, 1.1, 0.01),\n",
    "    RiskyStd=(0.0, 0.5, 0.01),\n",
    "    CRRA=(2, 10, 4),\n",
    "    DiscFac=(0.9, 0.99, 0.01),\n",
    "    continuous_update=False,\n",
    ")"
   ]
  },
  {
   "cell_type": "code",
   "execution_count": 5,
   "metadata": {
    "collapsed": false,
    "jupyter": {
     "outputs_hidden": false
    },
    "pycharm": {
     "name": "#%%\n"
    }
   },
   "outputs": [
    {
     "name": "stdout",
     "output_type": "stream",
     "text": [
      "Solving...\n",
      "Solved!\n"
     ]
    },
    {
     "data": {
      "image/png": "[encoded data removed]",
      "text/plain": [
       "<Figure size 432x288 with 1 Axes>"
      ]
     },
     "metadata": {
      "needs_background": "light"
     },
     "output_type": "display_data"
    }
   ],
   "source": [
    "portfolio_choice(RiskyAvg=1.01, RiskyStd=0.01, CRRA=6.0, DiscFac=0.95)"
   ]
  }
 ],
 "metadata": {
  "jupytext": {
   "formats": "ipynb,auto:percent"
  },
  "kernelspec": {
   "display_name": "Python 3 (ipykernel)",
   "language": "python",
   "name": "python3"
  },
  "language_info": {
   "codemirror_mode": {
    "name": "ipython",
    "version": 3
   },
   "file_extension": ".py",
   "mimetype": "text/x-python",
   "name": "python",
   "nbconvert_exporter": "python",
   "pygments_lexer": "ipython3",
   "version": "3.9.7"
  }
 },
 "nbformat": 4,
 "nbformat_minor": 4
}
