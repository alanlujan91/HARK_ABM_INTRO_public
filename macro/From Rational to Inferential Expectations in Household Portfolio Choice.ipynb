{
 "cells": [
  {
   "cell_type": "markdown",
   "id": "7ba0eab5",
   "metadata": {},
   "source": [
    "# From Rational to Inferential Expectations in Household Portfolio Consumption\n",
    "\n",
    "This research is organized as a series of differently configured simulations.\n"
   ]
  },
  {
   "cell_type": "markdown",
   "id": "6eff3e38",
   "metadata": {},
   "source": [
    "# Lucas Asset Pricing\n",
    "\n",
    "CDC notes are [here](https://github.com/llorracc/LucasAssetPrice-Latest/blob/main/LucasAssetPrice.pdf).\n",
    "\n",
    "Lucas Asset Pricing as described in those notes makes a number of assumptions. We are using the case where dividends follow a lognormal random walk.\n",
    "\n",
    "**LAPA-0**. Dividends on assets follow a lognormal random walk. \n",
    "\n",
    "**LAPA-1**. All returns on assets are consumed each period.\n",
    "\n",
    "**LAPA-2**. All asset are held by consumers. (As opposed to other investor classes who do not consume.)\n",
    "\n",
    "**LAPA-3**. All agents know each others' homogeneous preferences. \n",
    "\n",
    "**LAPA-4**. Consumers have zero labor income.\n",
    "\n",
    "**LAPA-5**. The population consists of a single persona and a single asset. (Normalizing assumption used throughout the notes.)\n"
   ]
  },
  {
   "cell_type": "markdown",
   "id": "049f8369",
   "metadata": {},
   "source": [
    "# The \"Lucas 0\" Configuration"
   ]
  },
  {
   "cell_type": "markdown",
   "id": "88cca002",
   "metadata": {},
   "source": [
    "\n",
    "In the Lucas0 configuration, **LAPA-0** holds.\n",
    "\n",
    "Assumptions **LAPA** **1-5** _do not hold_.\n",
    "\n",
    "- re: **LAPA-3**. There is heterogeneity in the institutional investors' assumptions about the consumer preferences.\n",
    "    - They need to price the asset differently so that there is a spread. If all II's price the same way, the market behaves too eratically.\n",
    "- re: **LAPA-4**, we can set the labor income to be a very low number. See #208\n",
    "    - It's not clear whether this matters, because consumers are not engaged in pricing.\n",
    "\n",
    "What we are doing instead is:\n",
    "\n",
    "- Prices are being set primarily by LAP-informed market agents.\n",
    "    - In the mock market case, we simply assume that the market LAP-prices assets.\n",
    "    - In the ABM market cases, institutional investors and market makers LAP price.\n",
    "    - Consumers are parameterized to be 'very small'.\n",
    "    \n",
    "- Consumers engage in portfolio allocation and consumption decisions.\n",
    "    - These are based on unchanging \"usual\" expectations of the true exogenous dividend process and LAP price.\n",
    "    - *So buy/sell decisions are based on fluctuations around their target level of wealth* given $\\rho, R, \\beta$ etc.\n",
    "    - While the target wealth level is key to understanding the consumer behavior, there is no closed form for it.\n"
   ]
  },
  {
   "cell_type": "code",
   "execution_count": null,
   "id": "c698f2c3",
   "metadata": {},
   "outputs": [],
   "source": []
  }
 ],
 "metadata": {
  "kernelspec": {
   "display_name": "ufm",
   "language": "python",
   "name": "ufm"
  },
  "language_info": {
   "codemirror_mode": {
    "name": "ipython",
    "version": 3
   },
   "file_extension": ".py",
   "mimetype": "text/x-python",
   "name": "python",
   "nbconvert_exporter": "python",
   "pygments_lexer": "ipython3",
   "version": "3.10.6"
  }
 },
 "nbformat": 4,
 "nbformat_minor": 5
}
