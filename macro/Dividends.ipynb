{
 "cells": [
  {
   "cell_type": "markdown",
   "id": "f5686880",
   "metadata": {},
   "source": [
    "## SHARKFin Dividends\n",
    "\n",
    "The price process is driven by the market state $M$ and broker bids $b_t$\n",
    "\n",
    "$$p_t, M_t = T(M_{t-1},b_{t})$$\n",
    "\n",
    "where T is the execution of the market simulation."
   ]
  },
  {
   "cell_type": "markdown",
   "id": "f9e8aa37",
   "metadata": {},
   "source": [
    "### Dividends as random walk\n",
    "\n",
    "Thinking about dividends and pricing.\n",
    "\n",
    "The firm has some profits. It pays out those profits as a dividend.\n",
    "\n",
    "Suppose this is a random walk:\n",
    "\n",
    "$$d_{t} = \\Psi_t G d_{t - 1}  $$\n",
    "\n",
    "where $log \\Psi \\sim \\text{Normal}(-\\sigma_\\Psi^2 /2, \\sigma_\\Psi)$, because the $E[\\Psi] = 1$."
   ]
  },
  {
   "cell_type": "markdown",
   "id": "e9f74a8c",
   "metadata": {},
   "source": [
    "#### Market returns for Economists\n",
    "\n",
    "In a 'frictionless' LAP model, \n",
    "$$\\frac{p_{t}}{p_{t-1}} \\sim \\Psi_t G $$\n",
    "\n",
    "These are the market returns."
   ]
  },
  {
   "cell_type": "markdown",
   "id": "ef5af38f",
   "metadata": {},
   "source": [
    "#### Thought experiment\n",
    "\n",
    "Suppose market returns looks like:\n",
    "\n",
    "$$\\frac{p_{t}}{p_{t-1}} \\sim \\Xi_t \\Psi_t G $$\n",
    "\n",
    "\n",
    "where $log \\Xi \\sim \\text{Normal}(-\\sigma_\\Xi^2 /2, \\sigma_\\Xi)$\n",
    "\n",
    "$\\sigma_\\Xi = 0$ is the frictionless market of the LAP model (see below). "
   ]
  },
  {
   "cell_type": "markdown",
   "id": "a04851ab",
   "metadata": {},
   "source": [
    "### LAP Conditions\n",
    "\n",
    "The outcome of LAP is:\n",
    "\n",
    "$$\\frac{p_{t}}{d_t} = C = f(G, \\sigma_\\psi, \\rho, ...)$$\n",
    "\n",
    "What percentage of the price of the risky asset is paid out as a dividend to the agents?\n",
    "\n",
    "$$\\frac{d_{t}}{p_t} = 1/ C $$\n",
    "\n",
    "This 'dividend-price ratio' is _constant_. This is the rational expectations equilibrium."
   ]
  },
  {
   "cell_type": "markdown",
   "id": "9db38902",
   "metadata": {},
   "source": [
    "## White SHARK Dividends\n",
    "\n",
    "The White SHARK model departs from the LAP conditions in a number of ways:\n",
    "\n",
    " - The market has friction and the macro-agents have price impact. So price imperfectly tracks the dividend rate.\n",
    " - The macro agents are choosing a portfolio allocation based on the risk/reward profile of the risky asset, not on how the risky asset is priced"
   ]
  },
  {
   "cell_type": "markdown",
   "id": "fbdfda40",
   "metadata": {},
   "source": [
    "#### The LAP Institutional Investor\n",
    "\n",
    "A gorilla agent, the insitutional investor, lives in the market process $M$ and believes LAP.\n",
    "\n",
    "This agent knows the current dividend $d_t$ and has liquidity $l$. \n",
    "\n",
    "$$p_t, M_t = T(M_{t-1},b_{t}, d_t, l)$$\n",
    "\n",
    "**Hypothesis**: When $l >> b_t$, $p_t \\sim C d_t$. When $l << b_t$ $p_t \\sim \\Xi(b_t) p_{t-1}$, where $\\Xi(b_t)$ is a distribution conditional on the broker activity $b_t$.\n",
    "\n",
    "Not that in this hypothesis, the market activity is close to Markovian. What if there is more significant path-dependence?\n"
   ]
  },
  {
   "cell_type": "markdown",
   "id": "3d3c7bbe",
   "metadata": {},
   "source": [
    "#### Changing finance model \n",
    "\n",
    "The Finance/Expectations model for the agents is meant to give the the macro-agents an estimate of the mean and variance of returns based on historical data.\n",
    "\n",
    "The total market return on a given day, given a daily dividend, is, if $l >> b_t$:\n",
    "\n",
    "$$r_t = \\frac{p_t + d_t}{p_{t-1}} \\sim \\frac{C d_t + d_t}{p_t / \\Psi_t G } = \\frac{(1 + C) \\Psi_t G d_t}{p_t } = \\frac{(1 + C) \\Psi_t G}{C}$$\n",
    "\n",
    "And if $1 << b_t$:\n",
    "\n",
    "$$r_t = \\frac{p_t + d_t}{p_{t-1}} \\sim \\frac{\\Xi(b_t) p_{t-1} + d_t}{p_{t-1}} = \\Xi(b_t) + \\frac{d_t}{p_{t-1}} =   \\Xi(b_t) + \\frac{d_{t-1} \\Psi_t G}{p_{t-1} } \\sim \\Xi(b_t) + \\frac{\\Psi_t G }{C }$$\n",
    "\n",
    "This value $r_t = \\frac{p_t + d_t}{p_{t-1}}$ replaces $RAR_t$ in equations (5) and (6) in the whitepaper.\n",
    "Note that to calculate this return, the agents need to see the dividend payment.\n",
    "They do not need to see, directly, the dividend _shock_, though this can be inferred from the dividend rate.\n",
    "The agents are presumed to be indifferent to changes in $r_t$ from the dividend or the price changes."
   ]
  },
  {
   "cell_type": "markdown",
   "id": "60f904e9",
   "metadata": {},
   "source": [
    "#### Dividend payments in SHARKFin simulation\n",
    "\n",
    "In the original whitepaper model, dividend payments were made as a return on the risky asset during the HARK agent's _macro-update_. This assumed a quarterly dividend.\n",
    "\n",
    "With a daily dividend, instead $d_t$ needs to be distributed to every macro-agent every day per risky asset share owned. This can be done as part of the capital gains update step.\n",
    "\n",
    "This could be immediately reinvested, but it might be easier to wait for the HARK agents to have a day when they buy/sell the risky asset and take the additional wealth into account in their reallocation.\n",
    "\n",
    "\n",
    "**Remaining question**: Does the preceding work despite the lack of price adjustment?"
   ]
  },
  {
   "cell_type": "markdown",
   "id": "e7b0b8a0",
   "metadata": {},
   "source": [
    "### Fire SHARK\n",
    "\n",
    "#### Approximate Rational Expectations Equilibrium\n",
    "\n",
    "Running the meta-simulation to drive the macro agent expectations to a fixed point constrains the model and reproduces LAP."
   ]
  },
  {
   "cell_type": "code",
   "execution_count": null,
   "id": "a86b0ea1",
   "metadata": {},
   "outputs": [],
   "source": []
  }
 ],
 "metadata": {
  "kernelspec": {
   "display_name": "ufm",
   "language": "python",
   "name": "ufm"
  },
  "language_info": {
   "codemirror_mode": {
    "name": "ipython",
    "version": 3
   },
   "file_extension": ".py",
   "mimetype": "text/x-python",
   "name": "python",
   "nbconvert_exporter": "python",
   "pygments_lexer": "ipython3",
   "version": "3.9.7"
  }
 },
 "nbformat": 4,
 "nbformat_minor": 5
}
