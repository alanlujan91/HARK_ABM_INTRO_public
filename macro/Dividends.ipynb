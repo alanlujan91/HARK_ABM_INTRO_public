{
 "cells": [
  {
   "cell_type": "markdown",
   "id": "f9e8aa37",
   "metadata": {},
   "source": [
    "### General Model/Finance Facts\n",
    "\n",
    "Thinking about dividends and pricing.\n",
    "\n",
    "The firm has some profits. It pays out those profits as a dividend.\n",
    "\n",
    "Suppose this is a random walk:\n",
    "\n",
    "$$d_{t} = \\Psi_t G d_{t - 1}  $$\n",
    "\n",
    "where $log \\Psi \\sim \\text{Normal}(-\\sigma_\\Psi^2 /2, \\sigma_\\Psi)$, because the $E[\\Psi] = 1$.\n",
    "\n",
    "The market returns are:\n",
    "\n",
    "$$\\frac{p_{t}}{p_{t-1}} \\sim \\Psi_t G $$\n",
    "\n",
    "#### Thought experiment\n",
    "\n",
    "Suppose market returns looks like:\n",
    "\n",
    "$$\\frac{p_{t}}{p_{t-1}} \\sim \\Xi_t \\Psi_t G $$\n",
    "\n",
    "\n",
    "where $log \\Xi \\sim \\text{Normal}(-\\sigma_\\Xi^2 /2, \\sigma_\\Xi)$\n",
    "\n",
    "$\\sigma_\\Xi = 0$ is the frictionless market of the LAP model (see below). \n"
   ]
  },
  {
   "cell_type": "markdown",
   "id": "9db38902",
   "metadata": {},
   "source": [
    "### LAP Conditions\n",
    "\n",
    "The outcome of LAP is:\n",
    "\n",
    "$$\\frac{p_{t}}{d_t} = C = f(G, \\sigma_\\psi, \\rho, ...)$$\n",
    "\n",
    "What percentage of the price of the risky asset is paid out as a dividend to the agents?\n",
    "\n",
    "$$\\frac{d_{t}}{p_t} = 1/ C $$\n",
    "\n",
    "This 'dividend-price ratio' is _constant_. This is the rational expectations equilibrium.\n",
    "\n",
    "### What we need to do by White SHARK.\n",
    "\n",
    " - We need to change the dividend logic so that the dividend payout quantity is a random walk with drift.\n",
    " - We need to change the JL/historical calculated expected value of returns to take this into account.\n",
    "\n",
    "\n",
    "### Ways to recreate LAP conditions in SHARK (Fire SHARK).\n",
    "\n",
    "#### The LAP Institutional Investor\n",
    "\n",
    "A gorilla agent in the ABM believes LAP.\n",
    "\n",
    "#### Approximate Rational Expectations Equilibrium\n",
    "\n",
    "Running the meta-simulation to drive the macro agent expectations to a fixed point constrains the model and reproduces LAP."
   ]
  },
  {
   "cell_type": "code",
   "execution_count": null,
   "id": "8238bf08",
   "metadata": {},
   "outputs": [],
   "source": []
  }
 ],
 "metadata": {
  "kernelspec": {
   "display_name": "ufm",
   "language": "python",
   "name": "ufm"
  },
  "language_info": {
   "codemirror_mode": {
    "name": "ipython",
    "version": 3
   },
   "file_extension": ".py",
   "mimetype": "text/x-python",
   "name": "python",
   "nbconvert_exporter": "python",
   "pygments_lexer": "ipython3",
   "version": "3.9.7"
  }
 },
 "nbformat": 4,
 "nbformat_minor": 5
}
