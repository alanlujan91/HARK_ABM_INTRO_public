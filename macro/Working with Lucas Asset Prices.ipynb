{
 "cells": [
  {
   "cell_type": "code",
   "execution_count": 1,
   "id": "f777a1d5",
   "metadata": {},
   "outputs": [],
   "source": [
    "import math\n",
    "import numpy as np\n"
   ]
  },
  {
   "cell_type": "markdown",
   "id": "9f8674eb",
   "metadata": {},
   "source": [
    "## Working with Lucas Asset Prices, lognormal walk\n",
    "\n",
    "Using https://llorracc.github.io/LucasAssetPrice/#PLognormGro (2023-03-15)"
   ]
  },
  {
   "attachments": {
    "image.png": {
     "image/png": "[encoded data removed]"
    }
   },
   "cell_type": "markdown",
   "id": "c5bbd2a1",
   "metadata": {},
   "source": [
    "If utility is CRRA:\n",
    "\n",
    "![image.png](attachment:image.png)\n"
   ]
  },
  {
   "cell_type": "markdown",
   "id": "147068fe",
   "metadata": {},
   "source": [
    "Now assume dividends follow a lognormal random walk:\n",
    "\n",
    "$$\\frac{d_{t+1}}{d_t} = \\Gamma \\phi_t =  e^\\gamma \\phi_t, \\phi_t \\sim e^{\\mathcal{N}(-\\sigma^2_d / 2, \\sigma^2_d)}$$\n"
   ]
  },
  {
   "cell_type": "markdown",
   "id": "bd735cec",
   "metadata": {},
   "source": [
    "Online LucasAssetPrice notes (13) :\n",
    "$$P_t = \\beta d^\\rho_t \\mathbb{E}_t \\left[ d^{-\\rho}_{t+1} \\left( P_{t+1} + d_{t+1} \\right) \\right]$$"
   ]
  },
  {
   "cell_type": "markdown",
   "id": "bb507775",
   "metadata": {},
   "source": [
    "Implies:\n",
    "\n",
    "$$\\frac{P_t}{d_t} = \\beta d^{\\rho - 1}_t \\mathbb{E}_t \\left[ d^{1-\\rho}_{t+1} \\left( \\frac{P_{t+1}}{d_{t+1}} + 1 \\right) \\right]$$"
   ]
  },
  {
   "cell_type": "markdown",
   "id": "15d86976",
   "metadata": {},
   "source": [
    "$$\\frac{P_t}{d_t} = \\beta d^{\\rho - 1}_t \\mathbb{E}_t \\left[ (\\Gamma \\phi_t d_{t})^{1-\\rho} \\left( \\frac{P_{t+1}}{d_{t+1}} + 1 \\right) \\right]$$"
   ]
  },
  {
   "cell_type": "markdown",
   "id": "723fd4a5",
   "metadata": {},
   "source": [
    "Assuming $\\mathbf{r} = \\frac{P_t}{d_t}$ and substituting in on both sides:\n",
    "\n",
    "$$\\mathbf{r} = \\beta d^{\\rho - 1}_t \\mathbb{E}_t \\left[ (\\Gamma \\phi_t d_{t})^{1-\\rho} \\left( \\mathbf{r} + 1 \\right) \\right]$$\n",
    "\n",
    "\n",
    "Notice the $d_t$ terms on the RHS cancel out, and the only stochastic element is $\\phi_t$:\n",
    "\n",
    "$$\\mathbf{r} = ( \\mathbf{r} + 1 ) \\Gamma^{1-\\rho} \\beta \\mathbb{E}_t \\left[ \\phi_t  \\right]$$\n",
    "\n",
    "$$\\mathbf{r} = \\frac{\\Gamma^{1-\\rho} \\beta \\mathbb{E}_t \\left[ \\phi^{1-\\rho}_t  \\right]}{1 -  \\Gamma^{1-\\rho} \\beta \\mathbb{E}_t \\left[ \\phi^{1-\\rho}_t  \\right]}$$\n",
    "\n",
    "We require $\\mathbf{r}$ to be positive, implying conditions on $\\Gamma$, $\\phi$, and $\\beta$:\n",
    "\n",
    "$$0 < \\frac{\\Gamma^{1-\\rho} \\beta \\mathbb{E}_t \\left[ \\phi^{1-\\rho}_t  \\right]}{1 -  \\Gamma^{1-\\rho} \\beta \\mathbb{E}_t \\left[ \\phi^{1-\\rho}_t  \\right]}$$\n",
    "\n",
    "The top of the RHS ($\\Gamma^{1-\\rho} \\beta \\mathbb{E}_t \\left[ \\phi^{1-\\rho}_t  \\right]$) will always be positive. So we are really interested in the denominator:\n",
    "\n",
    "$$\\Gamma^{1-\\rho} \\beta \\mathbb{E}_t \\left[ \\phi^{1-\\rho}_t  \\right] < 1$$\n",
    "\n",
    "I'm calling this expression on the LHS the **\"subjective return\"** provisionally. Why? Because it is the risk-aversion and discount factor adjusted expected growth rate of the risky asset (tree). If this value were greater than 1, then the price of the tree would be infinite. (If it were below 0, the price would be negatively infinite). Between 0 and 1, this means trees have a finite price."
   ]
  },
  {
   "cell_type": "markdown",
   "id": "68291e69",
   "metadata": {},
   "source": [
    "$\\Gamma = e^{\\gamma}$, and...\n",
    "\n",
    "$\\mathbb{E}_t \\left[ \\phi^{1-\\rho}_t  \\right] = e^{((1 - \\rho)^2 - (1 - \\rho))\\frac{\\sigma^2_d}{2}} = e^{(\\rho - 1)\\rho\\sigma^2_d/2} = e^{-(1 - \\rho)\\rho\\sigma^2_d/2}$. Substitute in.\n",
    "\n",
    "$$\\beta e^{(1-\\rho)\\gamma} e^{-(1 - \\rho)\\rho\\sigma^2_d/2} < 1$$\n",
    "\n",
    "$$\\beta e^{(1 - \\rho)(\\gamma - \\rho\\sigma^2_d/2)} < 1$$\n",
    "\n",
    "$$\\mathbf{r} = \\frac{\\beta e^{(1 - \\rho)(\\gamma - \\rho\\sigma^2_d/2)}}{1 - \\beta e^{(1 - \\rho)(\\gamma - \\rho\\sigma^2_d/2)}}$$\n",
    "\n",
    "\n",
    "$$\\mathbf{r} = \\frac{\\beta }{e^{(\\rho - 1)(\\gamma - \\rho\\sigma^2_d/2)} - \\beta}$$"
   ]
  },
  {
   "cell_type": "code",
   "execution_count": 2,
   "id": "1df1421c",
   "metadata": {},
   "outputs": [],
   "source": [
    "import numpy as np\n",
    "\n",
    "def subjective_return(gamma, sigma_d, rho, beta):\n",
    "    return beta * np.exp((1 - rho) * (gamma - rho * sigma_d ** 2 / 2))\n",
    "\n",
    "def price_dividend_ratio(gamma, sigma_d, rho, beta, check = True):\n",
    "    sr = subjective_return(gamma, sigma_d, rho, beta)\n",
    "    \n",
    "    if check:\n",
    "        print('subjective_return: ' + str(sr))\n",
    "    \n",
    "    return sr / (1 - sr)"
   ]
  },
  {
   "cell_type": "markdown",
   "id": "619e6c73",
   "metadata": {},
   "source": [
    "## Working from real data\n",
    "\n",
    "Does our base model calibration work with the impatience condition?\n",
    "\n",
    "$$\\Gamma^{1-\\rho} \\beta \\mathbb{E}_t \\left[ \\phi^{1-\\rho}_t  \\right] < 1$$\n",
    "\n",
    "We have the target mean and standard deviation of the (daily) price process $\\mu_P$ and $\\sigma_P$."
   ]
  },
  {
   "cell_type": "code",
   "execution_count": 3,
   "id": "0d134237",
   "metadata": {},
   "outputs": [],
   "source": [
    "sp500_mu = 1.000628\n",
    "sp500_st = 0.011988"
   ]
  },
  {
   "cell_type": "markdown",
   "id": "51e82d74",
   "metadata": {},
   "source": [
    "And a daily $\\beta$:"
   ]
  },
  {
   "cell_type": "code",
   "execution_count": 4,
   "id": "c1c2d4d5",
   "metadata": {},
   "outputs": [],
   "source": [
    "beta_quarterly = 0.96\n",
    "days_per_quarter = 90\n",
    "beta_daily = beta_quarterly ** (1 / days_per_quarter) # 0.999"
   ]
  },
  {
   "cell_type": "markdown",
   "id": "60b58fba",
   "metadata": {},
   "source": [
    "The price dividend ratio is constant, so $\\Gamma = \\mu_P = e^\\gamma$ and $\\sigma_\\phi = \\frac{\\sigma_P}{\\sqrt{\\Gamma}}$.\n",
    "\n",
    "Suppose zero risk ($\\sigma_d = 0$). Then impatience condition is $\\Gamma ^ {1 - \\rho} \\beta < 1$\n",
    "\n",
    "This is _decreasing_ in $\\rho$, which is good. More risk aversion means _less_ patience is needed to satisfy the requirement."
   ]
  },
  {
   "cell_type": "code",
   "execution_count": 5,
   "id": "9ec2f37f",
   "metadata": {},
   "outputs": [],
   "source": [
    "Gamma = sp500_mu # Phi in Buffer Stock paper\n",
    "gamma = np.log(Gamma)"
   ]
  },
  {
   "cell_type": "code",
   "execution_count": 6,
   "id": "d2456982",
   "metadata": {},
   "outputs": [
    {
     "data": {
      "text/plain": [
       "0.9989192038738972"
      ]
     },
     "execution_count": 6,
     "metadata": {},
     "output_type": "execute_result"
    }
   ],
   "source": [
    "rho = 2\n",
    "\n",
    "sp500_mu ** (1 - rho) * beta_daily"
   ]
  },
  {
   "cell_type": "markdown",
   "id": "1a65c6a8",
   "metadata": {},
   "source": [
    "The tricky part is: $\\mathbb{E}_t \\left[ \\phi^{1-\\rho}_t  \\right]$ given $\\sigma_\\phi$ (which is not the same as $\\sigma_d$, the standard deviation of the underlying normal distribution.)"
   ]
  },
  {
   "attachments": {
    "image.png": {
     "image/png": "[encoded data removed]"
    }
   },
   "cell_type": "markdown",
   "id": "a0ec8b44",
   "metadata": {},
   "source": [
    "![image.png](attachment:image.png)"
   ]
  },
  {
   "cell_type": "markdown",
   "id": "f94deebe",
   "metadata": {},
   "source": [
    "Recall that $\\phi_t \\sim e^{\\mathcal{N}(-\\sigma^2_d / 2, \\sigma^2_d)}$. I.e. $\\mu_d = - \\sigma^2_d / 2$"
   ]
  },
  {
   "cell_type": "markdown",
   "id": "b8d5c2e5",
   "metadata": {},
   "source": [
    "\n",
    "$$\\text{Var}[\\phi_t] = \\sigma^2_\\phi = \\exp(2 \\mu_d + 2 \\sigma_d ^{2}) - \\exp(2\\mu_d +\\sigma_d ^{2})  = \\exp(\\sigma_d ^{2}) - 1$$"
   ]
  },
  {
   "cell_type": "markdown",
   "id": "6c4bfdbb",
   "metadata": {},
   "source": [
    "Which implies:\n",
    "\n",
    "$$\\log ( \\sigma^2_\\phi + 1) = \\sigma^2_d$$\n",
    "\n",
    "Recall that $\\phi^p_t \\sim e^{\\mathcal{N}(-p \\sigma^2_d / 2, p^2 \\sigma^2_d)}$. From this we get:\n",
    "\n",
    "$$\\mathbb{E}_t \\left[ \\phi^{1-\\rho}_t  \\right] = e^{-(1 - \\rho)\\rho\\sigma^2_d/2} = e^{-(1 - \\rho)\\rho\\log ( \\sigma^2_\\phi + 1)/2} = (\\sigma^2_\\phi + 1)^{(\\rho - 1)\\rho /2}$$\n",
    "\n",
    "Which means the impatience condition \"at the level of\" the lognormal shock is:\n",
    "\n",
    "$$ \\beta \\mu_P^{1-\\rho} (\\sigma^2_\\phi + 1)^{(\\rho - 1)\\rho /2} < 1$$"
   ]
  },
  {
   "cell_type": "code",
   "execution_count": 7,
   "id": "0fe5f057",
   "metadata": {},
   "outputs": [],
   "source": [
    "sigma_phi = sp500_st\n",
    "sigma_d = math.sqrt(np.log(sigma_phi ** 2 + 1))"
   ]
  },
  {
   "cell_type": "code",
   "execution_count": 8,
   "id": "4378eed2",
   "metadata": {},
   "outputs": [
    {
     "data": {
      "text/plain": [
       "0.9990627606943687"
      ]
     },
     "execution_count": 8,
     "metadata": {},
     "output_type": "execute_result"
    }
   ],
   "source": [
    "def subjective_return_exp(Gamma, beta, sigma_phi, rho):\n",
    "    return Gamma ** (1 - rho) * beta * (sigma_phi ** 2 + 1) ** ((rho - 1) * rho / 2)\n",
    "\n",
    "subjective_return_exp(Gamma, beta_daily, sigma_phi, rho)"
   ]
  },
  {
   "cell_type": "code",
   "execution_count": 9,
   "id": "8206bef4",
   "metadata": {},
   "outputs": [
    {
     "data": {
      "text/plain": [
       "0.9990627606943687"
      ]
     },
     "execution_count": 9,
     "metadata": {},
     "output_type": "execute_result"
    }
   ],
   "source": [
    "subjective_return(gamma, sigma_d, rho, beta_daily)"
   ]
  },
  {
   "cell_type": "markdown",
   "id": "83f619d2",
   "metadata": {},
   "source": [
    "This is the same as the 'subjective return_exp' computed above, as expected.\n",
    "\n",
    "This corresponds to a price/dividend ratio."
   ]
  },
  {
   "cell_type": "code",
   "execution_count": 10,
   "id": "200a7111",
   "metadata": {},
   "outputs": [
    {
     "name": "stdout",
     "output_type": "stream",
     "text": [
      "subjective_return: 0.9990627606943687\n"
     ]
    },
    {
     "data": {
      "text/plain": [
       "1065.9633614292893"
      ]
     },
     "execution_count": 10,
     "metadata": {},
     "output_type": "execute_result"
    }
   ],
   "source": [
    "price_dividend_ratio(gamma, sigma_d, rho, beta_daily)"
   ]
  },
  {
   "cell_type": "markdown",
   "id": "54662bd3",
   "metadata": {},
   "source": [
    "Note that there is a valid convex range of valid $\\rho$."
   ]
  },
  {
   "cell_type": "code",
   "execution_count": 11,
   "id": "aa9ebd9b",
   "metadata": {},
   "outputs": [
    {
     "ename": "NameError",
     "evalue": "name 'rate_of_return' is not defined",
     "output_type": "error",
     "traceback": [
      "\u001b[0;31m---------------------------------------------------------------------------\u001b[0m",
      "\u001b[0;31mNameError\u001b[0m                                 Traceback (most recent call last)",
      "Cell \u001b[0;32mIn[11], line 5\u001b[0m\n\u001b[1;32m      1\u001b[0m \u001b[38;5;28;01mimport\u001b[39;00m \u001b[38;5;21;01mmatplotlib\u001b[39;00m\u001b[38;5;21;01m.\u001b[39;00m\u001b[38;5;21;01mpyplot\u001b[39;00m \u001b[38;5;28;01mas\u001b[39;00m \u001b[38;5;21;01mplt\u001b[39;00m\n\u001b[1;32m      3\u001b[0m x \u001b[38;5;241m=\u001b[39m np\u001b[38;5;241m.\u001b[39mlinspace(\u001b[38;5;241m0\u001b[39m, \u001b[38;5;241m10\u001b[39m, \u001b[38;5;241m100\u001b[39m)\n\u001b[0;32m----> 5\u001b[0m y \u001b[38;5;241m=\u001b[39m [rate_of_return(gamma, sigma_d, rho_x, beta_daily, check \u001b[38;5;241m=\u001b[39m \u001b[38;5;28;01mFalse\u001b[39;00m) \u001b[38;5;28;01mfor\u001b[39;00m rho_x \u001b[38;5;129;01min\u001b[39;00m x]\n\u001b[1;32m      7\u001b[0m plt\u001b[38;5;241m.\u001b[39mplot(x,y)\n\u001b[1;32m      9\u001b[0m plt\u001b[38;5;241m.\u001b[39mplot(x,[\u001b[38;5;241m0\u001b[39m] \u001b[38;5;241m*\u001b[39m \u001b[38;5;241m100\u001b[39m, \u001b[38;5;124m'\u001b[39m\u001b[38;5;124m--\u001b[39m\u001b[38;5;124m'\u001b[39m)\n",
      "Cell \u001b[0;32mIn[11], line 5\u001b[0m, in \u001b[0;36m<listcomp>\u001b[0;34m(.0)\u001b[0m\n\u001b[1;32m      1\u001b[0m \u001b[38;5;28;01mimport\u001b[39;00m \u001b[38;5;21;01mmatplotlib\u001b[39;00m\u001b[38;5;21;01m.\u001b[39;00m\u001b[38;5;21;01mpyplot\u001b[39;00m \u001b[38;5;28;01mas\u001b[39;00m \u001b[38;5;21;01mplt\u001b[39;00m\n\u001b[1;32m      3\u001b[0m x \u001b[38;5;241m=\u001b[39m np\u001b[38;5;241m.\u001b[39mlinspace(\u001b[38;5;241m0\u001b[39m, \u001b[38;5;241m10\u001b[39m, \u001b[38;5;241m100\u001b[39m)\n\u001b[0;32m----> 5\u001b[0m y \u001b[38;5;241m=\u001b[39m [\u001b[43mrate_of_return\u001b[49m(gamma, sigma_d, rho_x, beta_daily, check \u001b[38;5;241m=\u001b[39m \u001b[38;5;28;01mFalse\u001b[39;00m) \u001b[38;5;28;01mfor\u001b[39;00m rho_x \u001b[38;5;129;01min\u001b[39;00m x]\n\u001b[1;32m      7\u001b[0m plt\u001b[38;5;241m.\u001b[39mplot(x,y)\n\u001b[1;32m      9\u001b[0m plt\u001b[38;5;241m.\u001b[39mplot(x,[\u001b[38;5;241m0\u001b[39m] \u001b[38;5;241m*\u001b[39m \u001b[38;5;241m100\u001b[39m, \u001b[38;5;124m'\u001b[39m\u001b[38;5;124m--\u001b[39m\u001b[38;5;124m'\u001b[39m)\n",
      "\u001b[0;31mNameError\u001b[0m: name 'rate_of_return' is not defined"
     ]
    }
   ],
   "source": [
    "import matplotlib.pyplot as plt\n",
    "\n",
    "x = np.linspace(0, 10, 100)\n",
    "\n",
    "y = [rate_of_return(gamma, sigma_d, rho_x, beta_daily, check = False) for rho_x in x]\n",
    "\n",
    "plt.plot(x,y)\n",
    "\n",
    "plt.plot(x,[0] * 100, '--')\n",
    "plt.xlabel(\"rho\")\n",
    "plt.ylabel(\"P_t / d_t\")"
   ]
  },
  {
   "cell_type": "code",
   "execution_count": null,
   "id": "72d21765",
   "metadata": {},
   "outputs": [],
   "source": [
    "price_dividend_ratio(gamma, sigma_d, rho, beta)"
   ]
  },
  {
   "attachments": {
    "image.png": {
     "image/png": "[encoded data removed]"
    }
   },
   "cell_type": "markdown",
   "id": "55e321bb",
   "metadata": {},
   "source": [
    "### Changing time scales\n",
    "\n",
    "What happens if we change time scales?\n",
    "In other words, we have been working with daily growth rates ($\\beta$, $\\Gamma$, etc.).\n",
    "What happens if we look at quarterly growth rates?\n",
    "\n",
    "Consider a scaling factor $z$ -- how many 'days' we want to combine together in the analysis. (This could be fractional if we want to scale down to hours or minutes.)\n",
    "\n",
    "The scaled discount factors and dividend growth rate are $\\beta^z$ and $\\Gamma^z$ respectively.\n",
    "The lognormal shock is multiplicatively applied, so the scaled shock is $\\phi_t^z$.\n",
    "\n",
    "This gets us to a scaled version of the impatience condition and subjective return:\n",
    "\n",
    "$$(\\Gamma^z)^{1-\\rho} \\beta^z \\mathbb{E}_t \\left[ (\\phi^z_t)^{1-\\rho}  \\right] < 1$$\n",
    "\n",
    "The tricky part is once again the expectation over the dividend shock.\n",
    "\n",
    "Recall that $\\phi^p_t \\sim e^{\\mathcal{N}(-p \\sigma^2_d / 2, p^2 \\sigma^2_d)}$ and that for a lognormal ranodm variable $X$, ![image.png](attachment:image.png). From this we get:\n",
    "\n",
    "$$\\mathbb{E}_t \\left[ (\\phi^z_t)^{1-\\rho}  \\right] = \\mathbb{E}_t \\left[ \\phi_t^{z(1-\\rho)}  \\right] = \\text{exp}[- z (1 - \\rho) \\sigma^2_d/2 + z^2(1 - \\rho)^2 \\sigma^2_d /2] = (\\sigma^2_\\phi + 1)^{z (-1 + \\rho + z(\\rho^2 -2 \\rho + 1)/2)}$$\n",
    "\n",
    "\n",
    "\n",
    "$$= e^{-(1 - \\rho)\\rho\\log ( \\sigma^2_\\phi + 1)/2} = (\\sigma^2_\\phi + 1)^{(\\rho - 1)\\rho /2}$$\n"
   ]
  },
  {
   "cell_type": "code",
   "execution_count": null,
   "id": "5050bc42",
   "metadata": {},
   "outputs": [],
   "source": [
    "z = 10\n",
    "rho = 2\n",
    "\n",
    "subjective_return_exp(Gamma ** z, beta ** z, sigma_phi, rho)"
   ]
  },
  {
   "cell_type": "code",
   "execution_count": null,
   "id": "037ed2f5",
   "metadata": {},
   "outputs": [],
   "source": [
    "## NOT WORKING.\n",
    "\n",
    "def scaled_rate_of_return(scale, gamma, sigma, rho, beta):\n",
    "    return rate_of_return(gamma * scale, scale * sigma, rho, beta ** scale)"
   ]
  },
  {
   "cell_type": "code",
   "execution_count": null,
   "id": "7f5ed652",
   "metadata": {},
   "outputs": [],
   "source": [
    "scaled_rate_of_return(90, gamma, sigma_d, rho, beta)"
   ]
  },
  {
   "cell_type": "code",
   "execution_count": null,
   "id": "cc7b4ecc",
   "metadata": {},
   "outputs": [],
   "source": [
    "import matplotlib.pyplot as plt\n",
    "import numpy as np\n",
    "\n",
    "x = np.linspace(0,360, 200)\n",
    "\n",
    "y = [scaled_rate_of_return(scale, gamma, sigma_d, rho, beta) for scale in x]\n",
    "\n",
    "plt.plot(x, y)\n",
    "plt.plot(x, [0] * 200, '--')\n",
    "\n",
    "plt.xlabel('time scale')\n",
    "plt.ylabel('r')"
   ]
  },
  {
   "cell_type": "code",
   "execution_count": null,
   "id": "23d9dc1d",
   "metadata": {},
   "outputs": [],
   "source": [
    "((1 - 0.96) / 0.96)"
   ]
  },
  {
   "attachments": {
    "image.png": {
     "image/png": "[encoded data removed]"
    }
   },
   "cell_type": "markdown",
   "id": "83578ae7",
   "metadata": {},
   "source": [
    "## Questions\n",
    "\n",
    "\n",
    "Given that the returns on the risky asset are not just a constant times the dividend, but rather:\n",
    "![image.png](attachment:image.png)\n",
    "\n",
    "Are the returns lognormally distributed?\n",
    "\n",
    "(Hypothesis: if $\\mathbf{r} is small, then the returns are farther from a lognormal distribution, so this might trigger 'strange' expectations more...)"
   ]
  },
  {
   "cell_type": "code",
   "execution_count": null,
   "id": "ca7bcc17",
   "metadata": {},
   "outputs": [],
   "source": []
  },
  {
   "cell_type": "markdown",
   "id": "226571d0",
   "metadata": {},
   "source": [
    "### Troubling musings about lognormal distributions and temporal scale"
   ]
  },
  {
   "cell_type": "markdown",
   "id": "32efedf1",
   "metadata": {},
   "source": [
    "It would be nice if 'subjective return' and the 'impatience condition' were invariant to time scales.\n",
    "\n",
    "But I am having trouble proving that. Because...compounded log normal distributions of mean 1 don't have mean 1? Can that be?"
   ]
  },
  {
   "attachments": {
    "image.png": {
     "image/png": "[encoded data removed]"
    }
   },
   "cell_type": "markdown",
   "id": "ca868d9c",
   "metadata": {},
   "source": [
    "Recall that $\\phi^p_t \\sim e^{\\mathcal{N}(-p \\sigma^2_d / 2, p^2 \\sigma^2_d)}$\n",
    "\n",
    "\n",
    "![image.png](attachment:image.png)"
   ]
  },
  {
   "cell_type": "markdown",
   "id": "37119462",
   "metadata": {},
   "source": [
    "$$E[\\phi^p] = \\text{exp}[-p \\sigma^2 / 2 + p^2 \\sigma^2 / 2] = \\text{exp}[p (p - 1) \\sigma^2 / 2 ]$$"
   ]
  },
  {
   "attachments": {
    "image.png": {
     "image/png": "[encoded data removed]"
    }
   },
   "cell_type": "markdown",
   "id": "997a5a05",
   "metadata": {},
   "source": [
    "![image.png](attachment:image.png)"
   ]
  },
  {
   "cell_type": "markdown",
   "id": "423331cf",
   "metadata": {},
   "source": [
    "$\\text{Var}[\\phi^p] = \\text{exp}[2 (- p \\sigma^2)/2 + 2 (p^2 \\sigma^2)] - \\text{exp}[2 (-p \\sigma^2 / 2) + (p^2 \\sigma^2)]$\n",
    "\n",
    "$= \\text{exp}[2 \\sigma^2 (p^2 - p /2)] - \\text{exp}[(p^2 -p)  \\sigma^2]$\n"
   ]
  },
  {
   "cell_type": "markdown",
   "id": "1d5015c8",
   "metadata": {},
   "source": [
    "##### Strange idea: risk aversion adjusting with time scale?"
   ]
  },
  {
   "cell_type": "markdown",
   "id": "6beae12d",
   "metadata": {},
   "source": [
    "\n",
    "A quarterly $u_q$ CRRA utility function with a quarterly risk aversion rate $\\rho_q$\n",
    "\n",
    "$$u_q(c) = \\frac{c^{1 - \\rho_q}}{1 - \\rho_q}$$\n",
    "\n",
    "Suppose we want to construct an equivalent daily CRRA utility function $u_d$ where there are $r$ (for f**r**equency) days per quarter.\n",
    "\n",
    "We assume the agent consumes $\\frac{c}{r}$ each of $r$ days.\n",
    "\n",
    "$$\\frac{c^{1 - \\rho_q}}{1 - \\rho_q} = u_q(c) \\approx r u_d \\left( \\frac{c}{r} \\right) = r \\frac{\\left( \\frac{c}{r}\\right) ^{1 - \\rho_d}  }{1 - \\rho_d}$$"
   ]
  },
  {
   "cell_type": "markdown",
   "id": "7ab3ac47",
   "metadata": {},
   "source": [
    "Attempting to simplify to establish a relationship between $\\rho_q = 1 - o_q$ and $\\rho_d = 1 - o_d$:\n",
    "\n",
    "$$c^{1 - \\rho_q} (1 - \\rho_d) =  r \\left( \\frac{c}{r}\\right) ^{1 - \\rho_d}  (1 - \\rho_q)$$\n",
    "\n",
    "$$c^{1 - \\rho_q} (1 - \\rho_d) =  \\frac{r}{r ^{1 - \\rho_d}} c ^{1 - \\rho_d}  (1 - \\rho_q)$$\n",
    "\n",
    "$$c^{o_q} o_d =  \\frac{r}{r ^ {o_d}} c ^ {o_d}  o_q$$\n",
    "\n",
    "$$ o_d \\frac{r ^ {o_d}}{r} \\frac{1}{c ^ {o_d}}=     o_q \\frac{1}{c^{o_q}}$$\n",
    "\n",
    "\n",
    "$$ (1 - \\rho_d) \\frac{r ^ {1 - \\rho_d}}{r} \\frac{1}{c ^ {1 - \\rho_d}} \\approx (1 - \\rho_q) \\frac{1}{c^{1 - \\rho_q}}$$"
   ]
  }
 ],
 "metadata": {
  "kernelspec": {
   "display_name": "Python 3 (ipykernel)",
   "language": "python",
   "name": "python3"
  },
  "language_info": {
   "codemirror_mode": {
    "name": "ipython",
    "version": 3
   },
   "file_extension": ".py",
   "mimetype": "text/x-python",
   "name": "python",
   "nbconvert_exporter": "python",
   "pygments_lexer": "ipython3",
   "version": "3.8.13"
  }
 },
 "nbformat": 4,
 "nbformat_minor": 5
}
