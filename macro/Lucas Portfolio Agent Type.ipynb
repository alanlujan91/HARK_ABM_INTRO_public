{
 "cells": [
  {
   "cell_type": "markdown",
   "id": "ef208619",
   "metadata": {},
   "source": [
    "Consider a Lucas Portfolio Agent Type.\n",
    "\n",
    "This agent has:\n",
    " - CRRA consumption utility\n",
    " - Zero labor income\n",
    " - Can invest savings in either:\n",
    "   - a risk-free asset\n",
    "   - a risky asset such that:\n",
    "     - it pays a dividend that follows a lognormal random walk, $\\frac{d_{t+1}}{d_t} = \\Gamma \\phi_t =  e^\\gamma \\phi_t, \\phi_t \\sim e^{\\mathcal{N}(-\\sigma^2_d / 2, \\sigma^2_d)}$\n",
    "     - it is priced by the market at a constant price/dividend ratio $\\mathbf{r} = \\frac{P_t}{d_t}$"
   ]
  },
  {
   "cell_type": "markdown",
   "id": "f843be5f",
   "metadata": {},
   "source": [
    "## Stages\n",
    "\n",
    "### Consumption\n",
    "\n",
    "With $u(c)$ as CRRA utility with risk aversion $\\rho$:\n",
    "\n",
    "$$v_m(m, d) = \\max_c u(c) + \\beta \\mathbb{E}[v_a(a, d)]$$\n",
    "$$a = m - c$$\n",
    "\n",
    "Maybe there's a borrowing constraint."
   ]
  },
  {
   "cell_type": "markdown",
   "id": "b7cb1de3",
   "metadata": {},
   "source": [
    "### Portfolio allocation\n",
    "\n",
    "There is a portfolio allocation stage\n",
    "\n",
    "$$v_a(a, d) = \\max_{0 \\le \\alpha \\le 1} v_\\alpha(a, \\alpha, d)$$"
   ]
  },
  {
   "cell_type": "markdown",
   "id": "57ed6556",
   "metadata": {},
   "source": [
    "### Investment\n",
    "\n",
    "$$v_a(a, d) = \\max_{0 \\le \\alpha \\le 1} \\mathbb{E}[v_m(b, d')]$$\n",
    "\n",
    "Returns on the risky asset are a function of the random walk of the dividend\n",
    "\n",
    "$$\\phi \\sim e^{\\mathcal{N}(-\\sigma^2_d / 2, \\sigma^2_d)}$$\n",
    "$$d' = \\Gamma \\phi d$$\n",
    "$$R_y = \\frac{P' + d'}{P} = \\frac{\\mathbf{r}d\\Gamma \\phi + \\Gamma \\phi d}{\\mathbf{r}d} = \\frac{\\mathbf{r} + 1}{\\mathbf{r}} \\Gamma \\phi$$\n",
    "\n",
    "Note that in the end, the dividend rate $d$ falls out the the equation, and in effect $R_y$ is sampled from a log normal distribution. This makes it much like the original Portfolio Consumption problem.\n",
    "\n",
    "$$b = ((1 - \\alpha)R_{f} + \\alpha R_y) a$$"
   ]
  },
  {
   "cell_type": "code",
   "execution_count": null,
   "id": "c6de82df",
   "metadata": {},
   "outputs": [],
   "source": []
  }
 ],
 "metadata": {
  "kernelspec": {
   "display_name": "sharkfin",
   "language": "python",
   "name": "sharkfin"
  },
  "language_info": {
   "codemirror_mode": {
    "name": "ipython",
    "version": 3
   },
   "file_extension": ".py",
   "mimetype": "text/x-python",
   "name": "python",
   "nbconvert_exporter": "python",
   "pygments_lexer": "ipython3",
   "version": "3.10.6"
  }
 },
 "nbformat": 4,
 "nbformat_minor": 5
}
