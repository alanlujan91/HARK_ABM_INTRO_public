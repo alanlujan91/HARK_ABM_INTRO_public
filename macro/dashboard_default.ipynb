{
 "cells": [
  {
   "cell_type": "code",
   "execution_count": 1,
   "metadata": {},
   "outputs": [],
   "source": [
    "import ipywidgets as widgets\n",
    "from HARK.ConsumptionSaving.ConsPortfolioModel import SequentialPortfolioConsumerType\n",
    "from HARK.utilities import plot_funcs\n",
    "\n",
    "import math\n",
    "import matplotlib.pyplot as plt\n",
    "import numpy as np\n",
    "\n",
    "from pprint import pprint\n",
    "\n",
    "from scipy.interpolate import CubicSpline\n",
    "from scipy.optimize import fsolve"
   ]
  },
  {
   "cell_type": "code",
   "execution_count": 2,
   "metadata": {},
   "outputs": [],
   "source": [
    "from HARK.ConsumptionSaving.ConsPortfolioModel import init_portfolio"
   ]
  },
  {
   "cell_type": "code",
   "execution_count": 3,
   "metadata": {},
   "outputs": [],
   "source": [
    "def interp_func(x, y):\n",
    "    def func(z):\n",
    "        return np.interp(z, x, y)\n",
    "\n",
    "    return func"
   ]
  },
  {
   "cell_type": "code",
   "execution_count": 4,
   "metadata": {},
   "outputs": [
    {
     "data": {
      "text/plain": [
       "{'cycles': 0,\n",
       " 'CRRA': 5.0,\n",
       " 'Rfree': 1.0,\n",
       " 'DiscFac': 0.9,\n",
       " 'LivPrb': [1.0],\n",
       " 'PermGroFac': [1.0],\n",
       " 'BoroCnstArt': 0.0,\n",
       " 'MaxKinks': 400,\n",
       " 'AgentCount': 10000,\n",
       " 'aNrmInitMean': 0.0,\n",
       " 'aNrmInitStd': 1.0,\n",
       " 'pLvlInitMean': 0.0,\n",
       " 'pLvlInitStd': 0.0,\n",
       " 'PermGroFacAgg': 1.0,\n",
       " 'T_age': None,\n",
       " 'T_cycle': 1,\n",
       " 'PerfMITShk': False,\n",
       " 'aXtraMin': 0.001,\n",
       " 'aXtraMax': 100,\n",
       " 'aXtraNestFac': 1,\n",
       " 'aXtraCount': 200,\n",
       " 'aXtraExtra': [None],\n",
       " 'PermShkStd': [0.1],\n",
       " 'PermShkCount': 7,\n",
       " 'TranShkStd': [0.1],\n",
       " 'TranShkCount': 7,\n",
       " 'UnempPrb': 0.05,\n",
       " 'UnempPrbRet': 0.005,\n",
       " 'IncUnemp': 0.3,\n",
       " 'IncUnempRet': 0.0,\n",
       " 'tax_rate': 0.0,\n",
       " 'T_retire': 0,\n",
       " 'vFuncBool': False,\n",
       " 'CubicBool': False,\n",
       " 'neutral_measure': False,\n",
       " 'NewbornTransShk': False,\n",
       " 'RiskyAvg': 1.05,\n",
       " 'RiskyStd': 0.2,\n",
       " 'RiskyCount': 5,\n",
       " 'ShareCount': 25,\n",
       " 'AdjustPrb': 1.0,\n",
       " 'DiscreteShareBool': False}"
      ]
     },
     "execution_count": 4,
     "metadata": {},
     "output_type": "execute_result"
    }
   ],
   "source": [
    "init_portfolio\n",
    "init_portfolio\n",
    "init_portfolio[\"cycles\"] = 0  # NEED THIS FOR INFINITE HORIZON\n",
    "init_portfolio[\"PermGroFac\"] = [1.0]  # no drift in perm income\n",
    "# risk free return, set to 1 to focus on equity premium\n",
    "init_portfolio[\"Rfree\"] = 1.0\n",
    "init_portfolio[\"RiskyAvg\"] = 1.05  # eq_prem is RiskyAvg - Rfree = 0.05\n",
    "init_portfolio[\"LivPrb\"] = [1.0]  # no death\n",
    "init_portfolio\n"
   ]
  },
  {
   "cell_type": "code",
   "execution_count": 5,
   "metadata": {},
   "outputs": [],
   "source": [
    "at = SequentialPortfolioConsumerType(**init_portfolio)\n",
    "at.track_vars += [\"aNrm\", \"cNrm\", \"mNrm\", \"Risky\", \"Share\", \"aLvl\", \"pLvl\"]\n",
    "at.solve()\n",
    "\n",
    "cFunc = at.solution[0].cFuncAdj\n",
    "ShareFunc = at.solution[0].ShareFuncAdj"
   ]
  },
  {
   "cell_type": "code",
   "execution_count": 6,
   "metadata": {
    "jupyter": {
     "outputs_hidden": false
    },
    "pycharm": {
     "name": "#%%\n"
    }
   },
   "outputs": [
    {
     "data": {
      "image/png": "[encoded data removed]",
      "text/plain": [
       "<Figure size 640x480 with 1 Axes>"
      ]
     },
     "metadata": {},
     "output_type": "display_data"
    }
   ],
   "source": [
    "plot_funcs(ShareFunc, 0, 25)"
   ]
  },
  {
   "cell_type": "code",
   "execution_count": 7,
   "metadata": {},
   "outputs": [],
   "source": [
    "dividend_growth_rate = 1.000203\n",
    "dividend_std = 0.011983\n",
    "\n",
    "\n",
    "def price_dividend_ratio_random_walk(DiscFac, CRRA, days_per_quarter=90):\n",
    "    # Assuming DiscFac in argument in quarterly\n",
    "    DiscFac_daily = DiscFac ** (1.0 / days_per_quarter)\n",
    "\n",
    "    dividend_shock_std = dividend_std / math.sqrt(dividend_growth_rate)\n",
    "\n",
    "    subjective_return = (\n",
    "        dividend_growth_rate ** (1 - CRRA)\n",
    "        * DiscFac_daily\n",
    "        * (dividend_shock_std**2 + 1) ** (CRRA * (CRRA - 1) / 2)\n",
    "    )\n",
    "\n",
    "    print(\"subjective_return: \" + str(subjective_return))\n",
    "    return subjective_return < 1"
   ]
  },
  {
   "cell_type": "code",
   "execution_count": 8,
   "metadata": {
    "jupyter": {
     "outputs_hidden": false
    },
    "pycharm": {
     "name": "#%%\n"
    }
   },
   "outputs": [],
   "source": [
    "def portfolio_choice(CRRA=5.0, DiscFac=0.9, RiskyAvg=1.05, RiskyStd=0.20):\n",
    "    agent_parameters = init_portfolio.copy()\n",
    "\n",
    "    agent_parameters[\"CRRA\"] = CRRA\n",
    "\n",
    "    agent_parameters[\"DiscFac\"] = DiscFac\n",
    "\n",
    "    agent_parameters[\"RiskyAvg\"] = RiskyAvg\n",
    "\n",
    "    agent_parameters[\"RiskyStd\"] = RiskyStd\n",
    "\n",
    "    print(agent_parameters)\n",
    "\n",
    "    print(\"Solving...\")\n",
    "\n",
    "    agent = SequentialPortfolioConsumerType(**agent_parameters)\n",
    "\n",
    "    pprint(agent.parameters)\n",
    "\n",
    "    agent.solve()\n",
    "\n",
    "    print(\"Solved!\")\n",
    "\n",
    "    srle1 = price_dividend_ratio_random_walk(DiscFac, CRRA)\n",
    "\n",
    "    print(\"subjective_return < 1?: \" + str(srle1))\n",
    "\n",
    "    plot_funcs(agent.solution[0].ShareFuncAdj, 0, 20)\n",
    "\n",
    "    plot_funcs(agent.solution[0].cFuncAdj, 0, 20)\n",
    "\n",
    "    cFunc = agent.solution[0].cFuncAdj\n",
    "\n",
    "    ShareFunc = agent.solution[0].ShareFuncAdj\n",
    "\n",
    "    def expected_increase(mNrm):\n",
    "        share = ShareFunc(mNrm)\n",
    "\n",
    "        aNrm = mNrm - cFunc(mNrm)\n",
    "\n",
    "        mNrm_next = (\n",
    "            aNrm\n",
    "            * (\n",
    "                share * agent.parameters[\"RiskyAvg\"]\n",
    "                + (1 - share) * agent.parameters[\"Rfree\"]\n",
    "            )\n",
    "            + 1\n",
    "        )\n",
    "\n",
    "        gain = mNrm_next - aNrm\n",
    "\n",
    "        return gain\n",
    "\n",
    "    def expected_m_next(mNrm):\n",
    "        share = ShareFunc(mNrm)\n",
    "\n",
    "        aNrm = mNrm - cFunc(mNrm)\n",
    "\n",
    "        mNrm_next = (\n",
    "            aNrm\n",
    "            * (\n",
    "                share * agent.parameters[\"RiskyAvg\"]\n",
    "                + (1 - share) * agent.parameters[\"Rfree\"]\n",
    "            )\n",
    "            + 1\n",
    "        )\n",
    "\n",
    "        return mNrm_next\n",
    "\n",
    "    mNrm = np.linspace(0, 20, 1000)\n",
    "\n",
    "    # plt.plot(mNrm, cFunc(mNrm), label=\"c\")\n",
    "\n",
    "    plt.plot(mNrm, mNrm - expected_m_next(mNrm), label=\"m - E[m']\")\n",
    "\n",
    "    print(\n",
    "        f\"m - E[m] linear interp roots: {fsolve(interp_func(mNrm, mNrm - expected_m_next(mNrm)), [mNrm[0]])}\")\n",
    "    print(\n",
    "        f\"m - E[m] log roots: {np.log(fsolve(interp_func(mNrm, mNrm - expected_m_next(mNrm)), [mNrm[0]]))}\")\n",
    "    print(\n",
    "        f\"m - E[m] CubicSpine roots: {CubicSpline(mNrm,  mNrm - expected_m_next(mNrm)).roots()}\")\n",
    "\n",
    "    plt.plot(mNrm, np.zeros_like(mNrm), label=\"0\")\n",
    "\n",
    "    # plt.plot(mNrm, (mNrm - cFunc(mNrm)) * ShareFunc(mNrm), label =\"wealth-into-market\" )\n",
    "\n",
    "    plt.legend()"
   ]
  },
  {
   "cell_type": "code",
   "execution_count": 9,
   "metadata": {
    "jupyter": {
     "outputs_hidden": false
    },
    "pycharm": {
     "name": "#%%\n"
    }
   },
   "outputs": [
    {
     "data": {
      "application/vnd.jupyter.widget-view+json": {
       "model_id": "c7f95a1dfc114d669490a55f5e46c4ed",
       "version_major": 2,
       "version_minor": 0
      },
      "text/plain": [
       "interactive(children=(IntSlider(value=5, description='CRRA', max=10, min=2), FloatSlider(value=0.9, descriptio…"
      ]
     },
     "metadata": {},
     "output_type": "display_data"
    },
    {
     "data": {
      "text/plain": [
       "<function __main__.portfolio_choice(CRRA=5.0, DiscFac=0.9, RiskyAvg=1.05, RiskyStd=0.2)>"
      ]
     },
     "execution_count": 9,
     "metadata": {},
     "output_type": "execute_result"
    }
   ],
   "source": [
    "widgets.interact(\n",
    "    portfolio_choice,\n",
    "    CRRA=(2, 10, 1),\n",
    "    DiscFac=(0.5, 0.99, 0.02),\n",
    "    RiskyAvg=(1.0, 1.1, 0.01),\n",
    "    RiskyStd=(0.00, 0.3, 0.05),\n",
    "    continuous_update=False,\n",
    ")"
   ]
  },
  {
   "cell_type": "markdown",
   "metadata": {},
   "source": [
    "Questions:\n",
    "\n",
    "- How can we compute the `E[aNrm[t-1]]` values from a given `mNrm[t]`, such that we can go from the consumption/expected gain intercept to an equilibrium normalized asset value?\n",
    "- What we need for the SHARKFin economy to be at equilibrium is for the consumers to have a finite equilibium _level_ of assets (not normalized by labor income). How to do we compute it when permanent labor income is following a random walk?\n"
   ]
  },
  {
   "cell_type": "markdown",
   "metadata": {},
   "source": [
    "Answers:\n",
    "\n",
    "- We can instead compute the `mNrm - E[mNrm']` to determine savings and dissavings regions. This exercise shows the target wealth occurs in the region where the agent is investing all savings in the market. Does target wealth occur in the region where the agent has a non-trivial risky share under some parametrization?\n"
   ]
  },
  {
   "cell_type": "code",
   "execution_count": null,
   "metadata": {},
   "outputs": [],
   "source": []
  },
  {
   "cell_type": "code",
   "execution_count": 10,
   "metadata": {},
   "outputs": [
    {
     "data": {
      "text/plain": [
       "[<matplotlib.lines.Line2D at 0x1fb14551970>]"
      ]
     },
     "execution_count": 10,
     "metadata": {},
     "output_type": "execute_result"
    },
    {
     "data": {
      "image/png": "[encoded data removed]",
      "text/plain": [
       "<Figure size 640x480 with 1 Axes>"
      ]
     },
     "metadata": {},
     "output_type": "display_data"
    }
   ],
   "source": [
    "x = [0, 1, 2, 3, 4]\n",
    "y = [2, 1, 0, -1, -2]\n",
    "\n",
    "xr = np.linspace(x[0], x[-1], 100)\n",
    "\n",
    "plt.scatter(x, y)\n",
    "plt.plot(xr, interp_func(x, y)(xr))\n",
    "# plt.plot(xr, UnivariateSpline(x, y)(xr))\n",
    "plt.plot(xr, CubicSpline(x, y)(xr))"
   ]
  },
  {
   "cell_type": "code",
   "execution_count": 11,
   "metadata": {},
   "outputs": [
    {
     "data": {
      "text/plain": [
       "array([2.])"
      ]
     },
     "execution_count": 11,
     "metadata": {},
     "output_type": "execute_result"
    }
   ],
   "source": [
    "CubicSpline(x, y).roots()"
   ]
  },
  {
   "cell_type": "code",
   "execution_count": 12,
   "metadata": {},
   "outputs": [
    {
     "data": {
      "text/plain": [
       "array([ 2.        ,  1.95959596,  1.91919192,  1.87878788,  1.83838384,\n",
       "        1.7979798 ,  1.75757576,  1.71717172,  1.67676768,  1.63636364,\n",
       "        1.5959596 ,  1.55555556,  1.51515152,  1.47474747,  1.43434343,\n",
       "        1.39393939,  1.35353535,  1.31313131,  1.27272727,  1.23232323,\n",
       "        1.19191919,  1.15151515,  1.11111111,  1.07070707,  1.03030303,\n",
       "        0.98989899,  0.94949495,  0.90909091,  0.86868687,  0.82828283,\n",
       "        0.78787879,  0.74747475,  0.70707071,  0.66666667,  0.62626263,\n",
       "        0.58585859,  0.54545455,  0.50505051,  0.46464646,  0.42424242,\n",
       "        0.38383838,  0.34343434,  0.3030303 ,  0.26262626,  0.22222222,\n",
       "        0.18181818,  0.14141414,  0.1010101 ,  0.06060606,  0.02020202,\n",
       "       -0.02020202, -0.06060606, -0.1010101 , -0.14141414, -0.18181818,\n",
       "       -0.22222222, -0.26262626, -0.3030303 , -0.34343434, -0.38383838,\n",
       "       -0.42424242, -0.46464646, -0.50505051, -0.54545455, -0.58585859,\n",
       "       -0.62626263, -0.66666667, -0.70707071, -0.74747475, -0.78787879,\n",
       "       -0.82828283, -0.86868687, -0.90909091, -0.94949495, -0.98989899,\n",
       "       -1.03030303, -1.07070707, -1.11111111, -1.15151515, -1.19191919,\n",
       "       -1.23232323, -1.27272727, -1.31313131, -1.35353535, -1.39393939,\n",
       "       -1.43434343, -1.47474747, -1.51515152, -1.55555556, -1.5959596 ,\n",
       "       -1.63636364, -1.67676768, -1.71717172, -1.75757576, -1.7979798 ,\n",
       "       -1.83838384, -1.87878788, -1.91919192, -1.95959596, -2.        ])"
      ]
     },
     "execution_count": 12,
     "metadata": {},
     "output_type": "execute_result"
    }
   ],
   "source": [
    "interp_func(x, y)(xr)"
   ]
  },
  {
   "cell_type": "code",
   "execution_count": null,
   "metadata": {},
   "outputs": [],
   "source": []
  }
 ],
 "metadata": {
  "jupytext": {
   "formats": "ipynb,py:percent"
  },
  "kernelspec": {
   "display_name": "sharkfin-dev",
   "language": "python",
   "name": "python3"
  },
  "language_info": {
   "codemirror_mode": {
    "name": "ipython",
    "version": 3
   },
   "file_extension": ".py",
   "mimetype": "text/x-python",
   "name": "python",
   "nbconvert_exporter": "python",
   "pygments_lexer": "ipython3",
   "version": "3.9.18"
  }
 },
 "nbformat": 4,
 "nbformat_minor": 4
}
