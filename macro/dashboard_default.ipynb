{
 "cells": [
  {
   "cell_type": "code",
   "execution_count": 1,
   "metadata": {},
   "outputs": [],
   "source": [
    "import ipywidgets as widgets\n",
    "from HARK.ConsumptionSaving.ConsPortfolioModel import SequentialPortfolioConsumerType\n",
    "from HARK.utilities import plot_funcs\n",
    "\n",
    "import math\n",
    "import matplotlib.pyplot as plt\n",
    "import numpy as np\n",
    "\n",
    "\n",
    "from scipy.optimize import fsolve"
   ]
  },
  {
   "cell_type": "code",
   "execution_count": 2,
   "metadata": {},
   "outputs": [],
   "source": [
    "from macro_parameters import annual_params"
   ]
  },
  {
   "cell_type": "code",
   "execution_count": 3,
   "metadata": {},
   "outputs": [],
   "source": [
    "def interp_func(x, y):\n",
    "    def func(z):\n",
    "        return np.interp(z, x, y)\n",
    "\n",
    "    return func"
   ]
  },
  {
   "cell_type": "code",
   "execution_count": 4,
   "metadata": {},
   "outputs": [],
   "source": [
    "at = SequentialPortfolioConsumerType(**annual_params)\n",
    "at.track_vars += [\"aNrm\", \"cNrm\", \"mNrm\", \"Risky\", \"Share\", \"aLvl\", \"pLvl\"]\n",
    "at.solve()\n",
    "\n",
    "cFunc = at.solution[0].cFuncAdj\n",
    "ShareFunc = at.solution[0].ShareFuncAdj"
   ]
  },
  {
   "cell_type": "code",
   "execution_count": 5,
   "metadata": {
    "jupyter": {
     "outputs_hidden": false
    },
    "pycharm": {
     "name": "#%%\n"
    }
   },
   "outputs": [
    {
     "data": {
      "image/png": "[encoded data removed]",
      "text/plain": [
       "<Figure size 640x480 with 1 Axes>"
      ]
     },
     "metadata": {},
     "output_type": "display_data"
    }
   ],
   "source": [
    "plot_funcs(ShareFunc, 0, 25)"
   ]
  },
  {
   "cell_type": "code",
   "execution_count": 6,
   "metadata": {},
   "outputs": [],
   "source": [
    "# where do these come from?\n",
    "dividend_growth_rate = 1.000203\n",
    "\n",
    "\n",
    "dividend_std = 0.011983\n",
    "dividend_shock_std = dividend_std / math.sqrt(dividend_growth_rate)\n",
    "\n",
    "\n",
    "def price_dividend_ratio_random_walk(DiscFac, CRRA, days_per_quarter=90):\n",
    "\n",
    "    # Assuming DiscFac in argument in quarterly\n",
    "\n",
    "    DiscFac_daily = DiscFac ** (1.0 / days_per_quarter)\n",
    "\n",
    "    subjective_return = (\n",
    "        dividend_growth_rate ** (1 - CRRA)\n",
    "        * DiscFac_daily\n",
    "        * (dividend_shock_std**2 + 1) ** (CRRA * (CRRA - 1) / 2)\n",
    "    )\n",
    "\n",
    "    print(\"subjective_return: \" + str(subjective_return))\n",
    "\n",
    "    return subjective_return < 1"
   ]
  },
  {
   "cell_type": "code",
   "execution_count": 7,
   "metadata": {
    "jupyter": {
     "outputs_hidden": false
    },
    "pycharm": {
     "name": "#%%\n"
    }
   },
   "outputs": [],
   "source": [
    "def portfolio_choice(CRRA=5.0, DiscFac=0.9, RiskyAvg=1.05, RiskyStd=0.20):\n",
    "    agent_parameters = annual_params.copy()\n",
    "    agent_parameters[\"CRRA\"] = CRRA\n",
    "    agent_parameters[\"DiscFac\"] = DiscFac\n",
    "    agent_parameters[\"RiskyAvg\"] = RiskyAvg\n",
    "    agent_parameters[\"RiskyStd\"] = RiskyStd\n",
    "\n",
    "    print(\"Solving...\")\n",
    "    agent = SequentialPortfolioConsumerType(**agent_parameters)\n",
    "    agent.solve()\n",
    "    print(\"Solved!\")\n",
    "\n",
    "    srle1 = price_dividend_ratio_random_walk(DiscFac, CRRA)\n",
    "    print(\"subjective_return < 1?: \" + str(srle1))\n",
    "\n",
    "    plot_funcs(agent.solution[0].ShareFuncAdj, 0, 20)\n",
    "    plot_funcs(agent.solution[0].cFuncAdj, 0, 20)\n",
    "\n",
    "    cFunc = agent.solution[0].cFuncAdj\n",
    "    ShareFunc = agent.solution[0].ShareFuncAdj\n",
    "    mNrm = cFunc.x_list\n",
    "    share = ShareFunc.y_list\n",
    "    aNrm = mNrm - cFunc.y_list\n",
    "    mNrm_next = aNrm * (share * RiskyAvg + (1 - share) * agent.parameters[\"Rfree\"]) + 1\n",
    "\n",
    "    # plt.plot(mNrm, cFunc(mNrm), label=\"c\")\n",
    "\n",
    "    plt.plot(mNrm, mNrm - mNrm_next, label=\"m - E[m']\")\n",
    "\n",
    "    print(\n",
    "        f\"m - E[m] linear interp roots: {fsolve(interp_func(mNrm, mNrm - mNrm_next), [mNrm[0]])}\"\n",
    "    )\n",
    "\n",
    "    plt.plot(mNrm, np.zeros_like(mNrm), label=\"0\")\n",
    "\n",
    "    # plt.plot(mNrm, (mNrm - cFunc(mNrm)) * ShareFunc(mNrm), label =\"wealth-into-market\" )\n",
    "\n",
    "    plt.legend()"
   ]
  },
  {
   "cell_type": "code",
   "execution_count": 8,
   "metadata": {
    "jupyter": {
     "outputs_hidden": false
    },
    "pycharm": {
     "name": "#%%\n"
    }
   },
   "outputs": [
    {
     "data": {
      "application/vnd.jupyter.widget-view+json": {
       "model_id": "c6388cb2d1b74df0afaa5b165b5072d4",
       "version_major": 2,
       "version_minor": 0
      },
      "text/plain": [
       "interactive(children=(IntSlider(value=5, description='CRRA', max=10, min=2), FloatSlider(value=0.9, descriptio…"
      ]
     },
     "metadata": {},
     "output_type": "display_data"
    },
    {
     "data": {
      "text/plain": [
       "<function __main__.portfolio_choice(CRRA=5.0, DiscFac=0.9, RiskyAvg=1.05, RiskyStd=0.2)>"
      ]
     },
     "execution_count": 8,
     "metadata": {},
     "output_type": "execute_result"
    }
   ],
   "source": [
    "widgets.interact(\n",
    "    portfolio_choice,\n",
    "    CRRA=(2, 10, 1),\n",
    "    DiscFac=(0.5, 0.99, 0.02),\n",
    "    RiskyAvg=(1.0, 1.1, 0.01),\n",
    "    RiskyStd=(0.00, 0.3, 0.05),\n",
    "    continuous_update=False,\n",
    ")"
   ]
  },
  {
   "cell_type": "markdown",
   "metadata": {},
   "source": [
    "Questions:\n",
    "\n",
    "- How can we compute the `E[aNrm[t-1]]` values from a given `mNrm[t]`, such that we can go from the consumption/expected gain intercept to an equilibrium normalized asset value?\n",
    "- What we need for the SHARKFin economy to be at equilibrium is for the consumers to have a finite equilibium _level_ of assets (not normalized by labor income). How to do we compute it when permanent labor income is following a random walk?\n"
   ]
  },
  {
   "cell_type": "markdown",
   "metadata": {},
   "source": [
    "Answers:\n",
    "\n",
    "- We can instead compute the `mNrm - E[mNrm']` to determine savings and dissavings regions. This exercise shows the target wealth occurs in the region where the agent is investing all savings in the market. Does target wealth occur in the region where the agent has a non-trivial risky share under some parametrization?\n"
   ]
  }
 ],
 "metadata": {
  "jupytext": {
   "formats": "ipynb,py:percent"
  },
  "kernelspec": {
   "display_name": "sharkfin-dev",
   "language": "python",
   "name": "python3"
  },
  "language_info": {
   "codemirror_mode": {
    "name": "ipython",
    "version": 3
   },
   "file_extension": ".py",
   "mimetype": "text/x-python",
   "name": "python",
   "nbconvert_exporter": "python",
   "pygments_lexer": "ipython3",
   "version": "3.9.18"
  }
 },
 "nbformat": 4,
 "nbformat_minor": 4
}
