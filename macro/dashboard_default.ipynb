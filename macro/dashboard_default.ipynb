{
 "cells": [
  {
   "cell_type": "code",
   "execution_count": 13,
   "metadata": {},
   "outputs": [],
   "source": [
    "import ipywidgets as widgets\n",
    "from HARK.ConsumptionSaving.ConsPortfolioModel import SequentialPortfolioConsumerType\n",
    "from HARK.utilities import plot_funcs\n",
    "\n",
    "import math\n",
    "import matplotlib.pyplot as plt\n",
    "import numpy as np\n",
    "\n",
    "from pprint import pprint\n",
    "\n",
    "from scipy.interpolate import CubicSpline\n",
    "from scipy.optimize import fsolve"
   ]
  },
  {
   "cell_type": "code",
   "execution_count": 2,
   "metadata": {},
   "outputs": [],
   "source": [
    "from HARK.ConsumptionSaving.ConsPortfolioModel import init_portfolio"
   ]
  },
  {
   "cell_type": "code",
   "execution_count": 3,
   "metadata": {},
   "outputs": [],
   "source": [
    "def interp_func(x,y):\n",
    "    def func(z):\n",
    "        return np.interp(z, x, y)\n",
    "    \n",
    "    return func"
   ]
  },
  {
   "cell_type": "code",
   "execution_count": 4,
   "metadata": {},
   "outputs": [
    {
     "data": {
      "text/plain": [
       "{'cycles': 1,\n",
       " 'CRRA': 5.0,\n",
       " 'Rfree': 1.03,\n",
       " 'DiscFac': 0.9,\n",
       " 'LivPrb': [0.98],\n",
       " 'PermGroFac': [1.01],\n",
       " 'BoroCnstArt': 0.0,\n",
       " 'MaxKinks': 400,\n",
       " 'AgentCount': 10000,\n",
       " 'aNrmInitMean': 0.0,\n",
       " 'aNrmInitStd': 1.0,\n",
       " 'pLvlInitMean': 0.0,\n",
       " 'pLvlInitStd': 0.0,\n",
       " 'PermGroFacAgg': 1.0,\n",
       " 'T_age': None,\n",
       " 'T_cycle': 1,\n",
       " 'PerfMITShk': False,\n",
       " 'aXtraMin': 0.001,\n",
       " 'aXtraMax': 100,\n",
       " 'aXtraNestFac': 1,\n",
       " 'aXtraCount': 200,\n",
       " 'aXtraExtra': [None],\n",
       " 'PermShkStd': [0.1],\n",
       " 'PermShkCount': 7,\n",
       " 'TranShkStd': [0.1],\n",
       " 'TranShkCount': 7,\n",
       " 'UnempPrb': 0.05,\n",
       " 'UnempPrbRet': 0.005,\n",
       " 'IncUnemp': 0.3,\n",
       " 'IncUnempRet': 0.0,\n",
       " 'tax_rate': 0.0,\n",
       " 'T_retire': 0,\n",
       " 'vFuncBool': False,\n",
       " 'CubicBool': False,\n",
       " 'neutral_measure': False,\n",
       " 'NewbornTransShk': False,\n",
       " 'RiskyAvg': 1.08,\n",
       " 'RiskyStd': 0.2,\n",
       " 'RiskyCount': 5,\n",
       " 'ShareCount': 25,\n",
       " 'AdjustPrb': 1.0,\n",
       " 'DiscreteShareBool': False}"
      ]
     },
     "execution_count": 4,
     "metadata": {},
     "output_type": "execute_result"
    }
   ],
   "source": [
    "init_portfolio"
   ]
  },
  {
   "cell_type": "code",
   "execution_count": 5,
   "metadata": {},
   "outputs": [],
   "source": [
    "at = SequentialPortfolioConsumerType(PermGroFac=[1.0])\n",
    "at.track_vars += [\"aNrm\", \"cNrm\", \"mNrm\", \"Risky\", \"Share\", \"aLvl\", \"pLvl\"]\n",
    "at.solve()\n",
    "\n",
    "cFunc = at.solution[0].cFuncAdj\n",
    "ShareFunc = at.solution[0].ShareFuncAdj"
   ]
  },
  {
   "cell_type": "code",
   "execution_count": 6,
   "metadata": {
    "jupyter": {
     "outputs_hidden": false
    },
    "pycharm": {
     "name": "#%%\n"
    }
   },
   "outputs": [
    {
     "data": {
      "image/png": "[encoded data removed]",
      "text/plain": [
       "<Figure size 432x288 with 1 Axes>"
      ]
     },
     "metadata": {
      "needs_background": "light"
     },
     "output_type": "display_data"
    }
   ],
   "source": [
    "plot_funcs(ShareFunc, 0, 25)"
   ]
  },
  {
   "cell_type": "code",
   "execution_count": 7,
   "metadata": {},
   "outputs": [],
   "source": [
    "dividend_growth_rate = 1.000203\n",
    "dividend_std = 0.011983\n",
    "\n",
    "\n",
    "def price_dividend_ratio_random_walk(DiscFac, CRRA, days_per_quarter=90):\n",
    "    # Assuming DiscFac in argument in quarterly\n",
    "    DiscFac_daily = DiscFac ** (1.0 / days_per_quarter)\n",
    "\n",
    "    dividend_shock_std = dividend_std / math.sqrt(dividend_growth_rate)\n",
    "\n",
    "    subjective_return = (\n",
    "        dividend_growth_rate ** (1 - CRRA)\n",
    "        * DiscFac_daily\n",
    "        * (dividend_shock_std**2 + 1) ** (CRRA * (CRRA - 1) / 2)\n",
    "    )\n",
    "\n",
    "    print(\"subjective_return: \" + str(subjective_return))\n",
    "    return subjective_return < 1"
   ]
  },
  {
   "cell_type": "code",
   "execution_count": 14,
   "metadata": {
    "jupyter": {
     "outputs_hidden": false
    },
    "pycharm": {
     "name": "#%%\n"
    }
   },
   "outputs": [],
   "source": [
    "def portfolio_choice(CRRA=6.0, DiscFac=0.9, RiskyAvg=1.08, RiskyStd=0.20):\n",
    "    agent_parameters = {}\n",
    "\n",
    "    agent_parameters[\"CRRA\"] = CRRA\n",
    "\n",
    "    agent_parameters[\"DiscFac\"] = DiscFac\n",
    "\n",
    "    agent_parameters[\"RiskyAvg\"] = RiskyAvg\n",
    "\n",
    "    agent_parameters[\"RiskyStd\"] = RiskyStd\n",
    "    \n",
    "    print(agent_parameters)\n",
    "\n",
    "    print(\"Solving...\")\n",
    "\n",
    "    agent = SequentialPortfolioConsumerType(**agent_parameters)\n",
    "    \n",
    "    pprint(agent.parameters)\n",
    "\n",
    "    agent.solve()\n",
    "\n",
    "    print(\"Solved!\")\n",
    "\n",
    "    srle1 = price_dividend_ratio_random_walk(DiscFac, CRRA)\n",
    "\n",
    "    print(\"subjective_return < 1?: \" + str(srle1))\n",
    "\n",
    "    plot_funcs(agent.solution[0].ShareFuncAdj, 0, 5)\n",
    "\n",
    "    plot_funcs(agent.solution[0].cFuncAdj, 0, 5)\n",
    "\n",
    "    cFunc = agent.solution[0].cFuncAdj\n",
    "\n",
    "    ShareFunc = agent.solution[0].ShareFuncAdj\n",
    "\n",
    "    def expected_increase(mNrm):\n",
    "        share = ShareFunc(mNrm)\n",
    "\n",
    "        aNrm = mNrm - cFunc(mNrm)\n",
    "\n",
    "        mNrm_next = (\n",
    "            aNrm\n",
    "            * (\n",
    "                share * agent.parameters[\"RiskyAvg\"]\n",
    "                + (1 - share) * agent.parameters[\"Rfree\"]\n",
    "            )\n",
    "            + 1\n",
    "        )\n",
    "\n",
    "        gain = mNrm_next - aNrm\n",
    "\n",
    "        return gain\n",
    "\n",
    "    def expected_m_next(mNrm):\n",
    "        share = ShareFunc(mNrm)\n",
    "\n",
    "        aNrm = mNrm - cFunc(mNrm)\n",
    "\n",
    "        mNrm_next = (\n",
    "            aNrm\n",
    "            * (\n",
    "                share * agent.parameters[\"RiskyAvg\"]\n",
    "                + (1 - share) * agent.parameters[\"Rfree\"]\n",
    "            )\n",
    "            + 1\n",
    "        )\n",
    "\n",
    "        return mNrm_next\n",
    "\n",
    "    mNrm = np.linspace(0, 5, 1000)\n",
    "\n",
    "    # plt.plot(mNrm, cFunc(mNrm), label=\"c\")\n",
    "\n",
    "    plt.plot(mNrm, mNrm - expected_m_next(mNrm), label=\"m - E[m']\")\n",
    "\n",
    "    print(f\"m - E[m] linear interp roots: {fsolve(interp_func(mNrm, mNrm - expected_m_next(mNrm)), [mNrm[0]])}\")\n",
    "    print(f\"m - E[m] log roots: {np.log(fsolve(interp_func(mNrm, mNrm - expected_m_next(mNrm)), [mNrm[0]]))}\")\n",
    "    print(f\"m - E[m] CubicSpine roots: {CubicSpline(mNrm,  mNrm - expected_m_next(mNrm)).roots()}\")\n",
    "\n",
    "    plt.plot(mNrm, np.zeros_like(mNrm), label=\"0\")\n",
    "\n",
    "    # plt.plot(mNrm, (mNrm - cFunc(mNrm)) * ShareFunc(mNrm), label =\"wealth-into-market\" )\n",
    "\n",
    "    plt.legend()"
   ]
  },
  {
   "cell_type": "code",
   "execution_count": 15,
   "metadata": {
    "jupyter": {
     "outputs_hidden": false
    },
    "pycharm": {
     "name": "#%%\n"
    }
   },
   "outputs": [
    {
     "data": {
      "application/vnd.jupyter.widget-view+json": {
       "model_id": "595f77184752466d8c8ed79c7f25cd22",
       "version_major": 2,
       "version_minor": 0
      },
      "text/plain": [
       "interactive(children=(IntSlider(value=6, description='CRRA', max=10, min=2), FloatSlider(value=0.9, descriptio…"
      ]
     },
     "metadata": {},
     "output_type": "display_data"
    },
    {
     "data": {
      "text/plain": [
       "<function __main__.portfolio_choice(CRRA=6.0, DiscFac=0.9, RiskyAvg=1.08, RiskyStd=0.2)>"
      ]
     },
     "execution_count": 15,
     "metadata": {},
     "output_type": "execute_result"
    }
   ],
   "source": [
    "widgets.interact(\n",
    "    portfolio_choice,\n",
    "    CRRA=(2, 10, 1),\n",
    "    DiscFac=(0.5, 0.99, 0.02),\n",
    "    RiskyAvg=(1.0, 1.1, 0.01),\n",
    "    RiskyStd=(0.01, 0.3, 0.05),\n",
    "    continuous_update=False,\n",
    ")"
   ]
  },
  {
   "cell_type": "markdown",
   "metadata": {},
   "source": [
    "Questions:\n",
    "\n",
    "- How can we compute the `E[aNrm[t-1]]` values from a given `mNrm[t]`, such that we can go from the consumption/expected gain intercept to an equilibrium normalized asset value?\n",
    "- What we need for the SHARKFin economy to be at equilibrium is for the consumers to have a finite equilibium _level_ of assets (not normalized by labor income). How to do we compute it when permanent labor income is following a random walk?\n"
   ]
  },
  {
   "cell_type": "markdown",
   "metadata": {},
   "source": [
    "Answers:\n",
    "\n",
    "- We can instead compute the `mNrm - E[mNrm']` to determine savings and dissavings regions. This exercise shows the target wealth occurs in the region where the agent is investing all savings in the market. Does target wealth occur in the region where the agent has a non-trivial risky share under some parametrization?\n"
   ]
  },
  {
   "cell_type": "code",
   "execution_count": null,
   "metadata": {},
   "outputs": [],
   "source": []
  },
  {
   "cell_type": "code",
   "execution_count": 10,
   "metadata": {},
   "outputs": [
    {
     "ename": "NameError",
     "evalue": "name 'interp1d' is not defined",
     "output_type": "error",
     "traceback": [
      "\u001b[0;31m---------------------------------------------------------------------------\u001b[0m",
      "\u001b[0;31mNameError\u001b[0m                                 Traceback (most recent call last)",
      "Input \u001b[0;32mIn [10]\u001b[0m, in \u001b[0;36m<cell line: 7>\u001b[0;34m()\u001b[0m\n\u001b[1;32m      4\u001b[0m xr \u001b[38;5;241m=\u001b[39m np\u001b[38;5;241m.\u001b[39mlinspace(x[\u001b[38;5;241m0\u001b[39m], x[\u001b[38;5;241m-\u001b[39m\u001b[38;5;241m1\u001b[39m], \u001b[38;5;241m100\u001b[39m)\n\u001b[1;32m      6\u001b[0m plt\u001b[38;5;241m.\u001b[39mscatter(x,y)\n\u001b[0;32m----> 7\u001b[0m plt\u001b[38;5;241m.\u001b[39mplot(xr, \u001b[43minterp1d\u001b[49m(x, y)(xr))\n\u001b[1;32m      8\u001b[0m \u001b[38;5;66;03m#plt.plot(xr, UnivariateSpline(x, y)(xr))\u001b[39;00m\n\u001b[1;32m      9\u001b[0m plt\u001b[38;5;241m.\u001b[39mplot(xr, CubicSpline(x, y)(xr))\n",
      "\u001b[0;31mNameError\u001b[0m: name 'interp1d' is not defined"
     ]
    },
    {
     "data": {
      "image/png": "[encoded data removed]",
      "text/plain": [
       "<Figure size 432x288 with 1 Axes>"
      ]
     },
     "metadata": {
      "needs_background": "light"
     },
     "output_type": "display_data"
    }
   ],
   "source": [
    "x = [0,1,2,3,4]\n",
    "y = [2,1,0,-1,-2]\n",
    "\n",
    "xr = np.linspace(x[0], x[-1], 100)\n",
    "\n",
    "plt.scatter(x,y)\n",
    "plt.plot(xr, interp1d(x, y)(xr))\n",
    "#plt.plot(xr, UnivariateSpline(x, y)(xr))\n",
    "plt.plot(xr, CubicSpline(x, y)(xr))"
   ]
  },
  {
   "cell_type": "code",
   "execution_count": null,
   "metadata": {},
   "outputs": [],
   "source": [
    "CubicSpline(x, y).roots()"
   ]
  },
  {
   "cell_type": "code",
   "execution_count": null,
   "metadata": {},
   "outputs": [],
   "source": [
    "interp_func(x,y)(xr)"
   ]
  },
  {
   "cell_type": "code",
   "execution_count": null,
   "metadata": {},
   "outputs": [],
   "source": []
  }
 ],
 "metadata": {
  "jupytext": {
   "formats": "ipynb,py:percent"
  },
  "kernelspec": {
   "display_name": "sharkfin",
   "language": "python",
   "name": "sharkfin"
  },
  "language_info": {
   "codemirror_mode": {
    "name": "ipython",
    "version": 3
   },
   "file_extension": ".py",
   "mimetype": "text/x-python",
   "name": "python",
   "nbconvert_exporter": "python",
   "pygments_lexer": "ipython3",
   "version": "3.10.12"
  }
 },
 "nbformat": 4,
 "nbformat_minor": 4
}
