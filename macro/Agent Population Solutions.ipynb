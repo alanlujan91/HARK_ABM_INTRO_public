{
 "cells": [
  {
   "cell_type": "markdown",
   "id": "90b41269",
   "metadata": {},
   "source": [
    "## AgentPopulation\n",
    "\n",
    "An `AgentPopulation` is a collection of agents.\n",
    "\n",
    "These agents have _ex_ _ante_ heterogeneity over their parameters, according to a distribution $\\mathcal{P}$.\n",
    "\n",
    "The agents may also have _ex_ _post_ heterogeneity once they have been simulated forward, such as these state $\\mathcal{S}$ variables:\n",
    " - Wealth\n",
    " - Income\n",
    " \n",
    "A new difficult aspect of SHARK is that the agents have _ex_ _post_ heterogeneity over their _beliefs_ $\\mathcal{B}$, such as:\n",
    " - the mean and standard deviation of the return over the risky asset.\n",
    " \n",
    " \n",
    "An agent of the population can be \"located\" by: $(p, s, b)$ where $p \\in \\mathcal{P} ; s \\in \\mathcal{S}; b \\in \\mathcal{B}$"
   ]
  },
  {
   "cell_type": "markdown",
   "id": "af41608b",
   "metadata": {},
   "source": [
    "## Solution\n",
    "\n",
    "A solution for a single HARK agent is a function $\\pi: S \\rightarrow A$, where $S$ is the state space and $A$ is the action space. For a single HARK agent, the agent's beliefs $b$ and parameters $p$ would be given.\n",
    "\n",
    "SHARK agents will have a more general form of policy/solution function: $\\pi: P \\times S \\times B \\rightarrow A$, where $P$ is the ex ante parameter space, and $B$ is the belief space.\n",
    "\n",
    "In practice, we will start with $P$ being discrete. But we know that $S$ and $B$ are continuous. So $\\pi$ will need to involve an interpolation over discrete gridpoints in the $S \\times B$ space.\n",
    "\n",
    "So we will need to:\n",
    " - Create a grid of points $G = P \\times \\tilde{S} \\times \\tilde{B}$, where $\\tilde{S}$ and $\\tilde{B}$ are discretizations of the state and belief spaces.\n",
    " - Solve for $\\pi(g)$ for all $g \\in G$.\n",
    " - Create and interpolator for other values not in $G$.\n",
    " - Combine these into a master policy function $\\pi^*$\n",
    " \n",
    "### Complications\n",
    "\n",
    "If we try to solve for $\\pi$ using backwards induction, we run into some difficulties.\n",
    "\n",
    "In such a solution $\\pi_{\\mathfrak{T} - 1}$ will depend on the expected value of the terminal time period $\\mathfrak{T}$, which will depend on the policy function $\\pi_\\mathfrak{T}$.\n",
    "\n",
    "Whereas agents might know the transition function between states $T: S \\times A \\rightarrow S$, and so be able to compute expected state changes, it is less clear how the agent would anticipate their belief transitions $\\tau : B \\times A \\rightarrow B$.\n",
    "\n",
    "This presents an open problem.\n",
    "\n",
    "One solution is to by assumption choose a model simple enough so that these computations are straightforward.\n",
    "This might be another interpretation of \"Rational Expectations\": the state of the world and beliefs of agents are collapsed by construction.\n",
    "\n",
    "We might not be able to follow this strategy if we are using an agent base financial market for $T$. We might need to work with an approximate model of $T$ to produce an approximate $\\tilde{\\tau}$ -- that represents _rational knowledge_.\n",
    "\n",
    "One (perhaps degenerate) way of dealing with this is having agents pretend that their expectations will never change in the future, though their states might.\n",
    "\n",
    "Another strategy is to have beliefs be informed by an approximate rational expecations algorithm, which finds a fixed point between the belief function $\\tau$ and observed state transitions $T$ in meta-simulations."
   ]
  },
  {
   "cell_type": "markdown",
   "id": "bc1bbe20",
   "metadata": {},
   "source": [
    "## Simulation\n",
    "\n",
    "During simulation all the agents interact with a market.\n",
    " - The agents can make observations of the market (for example, prices, rates of returns, dividends).\n",
    " - They experience internal state transitions $s \\rightarrow s'$, based on: \n",
    "   - these observations\n",
    "   - idiosyncratic shocks\n",
    "   - previous actions\n",
    " - They experience belief transitions $b \\rightarrow b'$ due to a expectations formation process that so far will vary across different SHARK models.\n",
    "\n",
    "The agents will maintain constant _ex ante_ parameters $p$.\n",
    "\n",
    "They act according to $a = \\pi^*(p, s, b)$.\n",
    "\n",
    "And the cycle continues."
   ]
  },
  {
   "cell_type": "markdown",
   "id": "5c6e8524",
   "metadata": {},
   "source": [
    "## Data Structure\n",
    "\n",
    "One idea is to use a DataFrame like so:"
   ]
  },
  {
   "cell_type": "code",
   "execution_count": 1,
   "id": "fe99d341",
   "metadata": {},
   "outputs": [],
   "source": [
    "import pandas as pd"
   ]
  },
  {
   "cell_type": "code",
   "execution_count": 6,
   "id": "21bbe5cf",
   "metadata": {},
   "outputs": [],
   "source": [
    "class Foo():\n",
    "    \n",
    "    def __init__(self, value):\n",
    "        self.value = value"
   ]
  },
  {
   "cell_type": "code",
   "execution_count": 19,
   "id": "70beb78d",
   "metadata": {},
   "outputs": [],
   "source": [
    "foo = Foo(3)"
   ]
  },
  {
   "cell_type": "code",
   "execution_count": 20,
   "id": "f4c97666",
   "metadata": {},
   "outputs": [],
   "source": [
    "df = pd.DataFrame.from_records([('a', 1, Foo(2)), ('b' , 2, foo)])"
   ]
  },
  {
   "cell_type": "code",
   "execution_count": 21,
   "id": "d4db0376",
   "metadata": {},
   "outputs": [
    {
     "data": {
      "text/plain": [
       "<__main__.Foo at 0x7f40805bc490>"
      ]
     },
     "execution_count": 21,
     "metadata": {},
     "output_type": "execute_result"
    }
   ],
   "source": [
    "df[df[1] > 1 ][2][1]"
   ]
  },
  {
   "cell_type": "code",
   "execution_count": 22,
   "id": "2ef554e6",
   "metadata": {},
   "outputs": [
    {
     "data": {
      "text/plain": [
       "<__main__.Foo at 0x7f40805bc490>"
      ]
     },
     "execution_count": 22,
     "metadata": {},
     "output_type": "execute_result"
    }
   ],
   "source": [
    "foo"
   ]
  },
  {
   "cell_type": "code",
   "execution_count": null,
   "id": "daddd97b",
   "metadata": {},
   "outputs": [],
   "source": []
  }
 ],
 "metadata": {
  "kernelspec": {
   "display_name": "ufm",
   "language": "python",
   "name": "ufm"
  },
  "language_info": {
   "codemirror_mode": {
    "name": "ipython",
    "version": 3
   },
   "file_extension": ".py",
   "mimetype": "text/x-python",
   "name": "python",
   "nbconvert_exporter": "python",
   "pygments_lexer": "ipython3",
   "version": "3.9.7"
  }
 },
 "nbformat": 4,
 "nbformat_minor": 5
}
