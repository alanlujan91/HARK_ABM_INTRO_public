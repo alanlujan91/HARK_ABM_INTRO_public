{
 "cells": [
  {
   "cell_type": "markdown",
   "id": "4d65d88b",
   "metadata": {},
   "source": [
    "# Approximate Rational Expectations in FIRE SHARK"
   ]
  },
  {
   "cell_type": "markdown",
   "id": "a1617c76",
   "metadata": {},
   "source": [
    "In the FIRE SHARK model, there are three parameters that are set before the execution of the model:\n",
    " - $\\mu_u$ and $\\sigma_u$, the mean and standard deviation of the lognormal distribution that his the HARK agent's _expectation_ of the market returns under usual conditions.\n",
    " - $\\zeta$, a sensitivity value which determines how unlikely observed market returns must be for agents to doubt their _usual_ expectations and begin to adopt _strange_ beliefs based on recent price history. If $\\zeta = 0$ the agents never adjust their expectations. It higher levels of $\\zeta$ they are more willing to change beliefs.\n",
    "     - TODO: Establish this updating process. Chance of going strange is proportional to the unlikeliness of the returns.\n",
    " \n",
    "Given these parameters, the model can be simulated forward and the mean and standard deviation of returns can be computed from the simulated data. Let $\\mu_s$ and $\\sigma_s$ be variables that stand for the statistics of the simulated returns (derived over many simulations).\n",
    "\n",
    "There are some other parameters to the simulation, including:\n",
    " - Parameters governing the dividend process.\n",
    "     - Based on Lucas Asset Pricing, the RE returns statistics are a function fo these dividend statistics.\n",
    "\n",
    "\n",
    "**CDC's Requirement for the Market process**: That the returns are responsive to the dividend process.\n",
    " - Analyst's forecasts of dividends; what the dividends turn out to be; regressions on the price relative to expected dividends.\n",
    " - Correlation between recent dividend information and prices.\n",
    " - Need to internalize this from where it's sampled (SHARKFin) into the market."
   ]
  },
  {
   "cell_type": "markdown",
   "id": "803e9063",
   "metadata": {},
   "source": [
    "## AREA1\n",
    "\n",
    "- Define the **Simulation Output Step:** $\\mu_s, \\sigma_s \\leftarrow \\text{Simulate}(\\mu_u, \\sigma_u, \\zeta)$ as the update of the simulated return distributions statistics from the results of the simulation under a given set of expectation parameters.\n",
    "    - There is a question of how these statistics are derived from the returns data. I.e, over what time window.\n",
    " \n",
    "Under Rational Expectations (RE) conditions, $(\\mu_u, \\sigma_u) = (\\mu_s, \\sigma_s)$, and achieving this identity is one of the main challenges of this model. It is natural to:\n",
    "\n",
    " - Define the **Expectation Update Step:** $\\mu_u, \\sigma_u \\leftarrow \\mu_s, \\sigma_s$ as the update of the expected returns from the simulation results"
   ]
  },
  {
   "cell_type": "markdown",
   "id": "bda46aaa",
   "metadata": {},
   "source": [
    "Conside the following algorithm:\n",
    "\n",
    " - Begin with $(\\mu_u, \\sigma_u)$ from the Lucas Asset Pricing theory -- as a function of dividend statistics.\n",
    " - **Approximate Rational Expectations Algorithm #1 (AREA1)**: Repeat the Simulation Output Step and Expectation Update Step until the simulation and expected return statistics converge to $(\\hat{\\mu}, \\hat{\\sigma})$\n",
    " \n",
    "This raises the question:\n",
    "\n",
    " - Is there a fixed point for AREA1?\n",
    " - How long does it AREA1 take to find that fixed point?\n",
    " \n",
    "Let $\\text{C-AREA1}$ be the time complexity of finding the fixed point of the AREA1 algorithm.\n",
    "\n",
    "If there is no fixed point, then $\\text{C-AREA1}$ is an unbounded function."
   ]
  },
  {
   "cell_type": "markdown",
   "id": "a0851910",
   "metadata": {},
   "source": [
    "### Comparison with LAP theory\n",
    "\n",
    "LAP assumes a frictionless market with infinite agents.\n",
    "\n",
    "One way FIRE SHARK can systematically deviate from the LAP conditions is by having finite agents and a finite amount of time.\n",
    "\n",
    "This introduces other parameter that we are varying over:\n",
    " - $n$, the population size . (And, more generally, the distribution over the population's ex ante heterogeneity)\n",
    " \n",
    "Also:\n",
    " - The time intervals over which agents make their estimates..."
   ]
  },
  {
   "cell_type": "markdown",
   "id": "ebd6ac39",
   "metadata": {},
   "source": [
    "### Dependence on $\\zeta$\n",
    "\n",
    "As part of the definition of the FIRE SHARK model, we defined $\\zeta$ as a threshold for agents to abandon their rational expectations because of unexpected market returns. When $\\zeta = 0$, the agents do not ever change their expectations from the values of $\\mu_u, \\sigma_u$.\n",
    "\n",
    "As $\\zeta$ is increased, the macroeconomic agents behave less predictably. However, in AREA1, $\\zeta$ does not get updated as a result of the simulation.\n",
    "\n",
    "In other words, under AREA1 the RE return statistics $(\\hat{\\mu}, \\hat{\\sigma})$ area function of $\\zeta$: $(\\hat{\\mu}, \\hat{\\sigma}) \\leftarrow \\text{AREA1}(\\zeta)$.\n",
    "\n",
    "Also, $\\text{C-AREA1}$ is potentially a function of $\\zeta$. It may be possible that there is a fixed point if $\\zeta = 0$, and no fixed point, or a harder to find fixed point, for higher values of $\\zeta$.\n",
    "\n",
    "**CDC's Hypothesis:** Low $\\zeta$ and a long dividend observation process will look like RE/LAP, and it degrade as $\\zeta$ goes up.\n",
    "\n",
    "### Complication: Non-IID Returns\n",
    "\n",
    "The above analysis assumes:\n",
    "\n",
    " - Agents believe market returns are IID\n",
    " - Market returns are close enough to IID for there to be a convergence.\n",
    " \n",
    "But we know that this is not true in the fully generality of modeling possibility because:\n",
    " - Agents interact with the market in ways that allow the possibilty of causal dependence\n",
    " - The Market has some amount of autocorrelation\n",
    " \n",
    "In other words, market results can be path-dependent. Suppose the market systematically diverged into one of two distributional modes with even probability. The computed $(\\mu_s, \\sigma_s)$ would combine the statistics of these two modes, but it would never be observed in practice, and so agents with positive $\\zeta$ would dwell in the \"strange\" belief state even if a fixed point existed for AREA1 convergence.\n",
    "\n",
    "Arguably:\n",
    " - This would not be true RE, because the agents would rarely believe ($\\mu_u, \\sigma_u$).\n",
    " - This would not be true RE, because the agents _shouldn't_ believe $\\mu_u$ and $\\sigma_u$. Rather, they should be using recent information to determine which mode the economy is in.\n",
    "     - CDC: The easiest thing to allow them to think about is _stochastic volatility_. Volatility facts are something they should match.\n",
    " - It is not clear how AREA1 would behave under this condition; $\\text{C-AREA1}$ might be very high."
   ]
  },
  {
   "cell_type": "markdown",
   "id": "fa41a2d9",
   "metadata": {},
   "source": [
    "### Where we got to\n",
    "\n",
    "Let:\n",
    " - $M_t$ be the state of the market at time $t$\n",
    " - $o_t$ be orders from the broker/macro agents\n",
    " - $r_t$ be the returns from the market\n",
    " - $d_t$ be the dividends \n",
    " \n",
    "The market process is:\n",
    " $(r_{t+1}, d_{t+1}, M_{t+1}) \\leftarrow \\text{Trade}(M_t, o_t)$"
   ]
  },
  {
   "cell_type": "markdown",
   "id": "98dc43d7",
   "metadata": {},
   "source": [
    "The time series of orders/returns $\\vec{o},\\vec{r}$ is the proces of interest.\n",
    "\n",
    "The \"stylized facts\" are all conditions on that process. For example: \n",
    " - Low levels of autocorrelation of returns.\n",
    " - Autocorrelation of returns degrades with a long tail."
   ]
  },
  {
   "cell_type": "markdown",
   "id": "0506bb08",
   "metadata": {},
   "source": [
    "Three questions for Chris McComb's team:\n",
    " - Does the ABM meet these stylized facts requirements? (ABM = STY ?)\n",
    " - Can we do what the ABM does faster? (ABM faster)\n",
    " - Can we do something that does the stylized facts, faster? (STY faster)\n",
    " \n",
    "ABM is necessary for explanability.\n",
    "\n",
    "But can it be characterized as statistical transformations?"
   ]
  },
  {
   "cell_type": "markdown",
   "id": "8bdd7a37",
   "metadata": {},
   "source": [
    "#### ...\n",
    "\n",
    " - There are **conditions** on the market, as a time-series of data: returns (output), broker orders (input), order book (endogenous), agent behavior (endogenous), ... (sometimes we call these conditions \"stylized facts\")\n",
    " - There are **configurations** of AMMPS, which identify what agents are included, other parameters.\n",
    " - We need a system that takes a _configuration_ and a _list of conditions_ and tells us whether the conditions are met."
   ]
  },
  {
   "cell_type": "markdown",
   "id": "a4f9fd5f",
   "metadata": {},
   "source": [
    "**KEY QUESTION**: \n",
    " - What are the conditions?\n",
    " - What are the data needed to test if the conditions are being met?\n",
    " - Under what _inputs_ (broker activity) are the conditiosn met?"
   ]
  },
  {
   "cell_type": "markdown",
   "id": "ad7372da",
   "metadata": {},
   "source": [
    "## What are the stylized facts that we need for FIRE SHARK?\n",
    "\n",
    "**CONDITION 1**: \"The price is correlated in a significant way with the dividends.\"\n",
    "  - This is motivated by LAP model.\n",
    "  - Need a citation for this: (a) theoretically, (b) empirically\n",
    "  - Is this correlation with recent dividends (drawn, experienced), or with the process statistics (mean, variance, etc.)?\n",
    "  - If the latter, what does this mean if dividends are IID?\n",
    "\n",
    "**CONDITION 2**: The trading volume (every trade has a buyer and seller) is correlated with all measures of volatility.\n",
    "  - How do we distinguish between endogenous trading and the broker activity?\n",
    "\n",
    "**CONDITION 3**: Daily returns should not be autocorrelated to a significant extent (in the absence of an external signal).\n",
    "  - If broker activity is autocorrelated, then would/should the returns be autocorrelated?\n",
    "  \n",
    "**CONDITION 4**: Daily volatility _is_ autocorrelated.\n",
    "\n",
    "**CONDITION 5**: Trading volatility is autocorrelated.\n",
    "  - Corollary to conditions 3 and 5.\n",
    "  \n",
    "**CONDITION 6**:\n",
    "  - At a highish (daily or higher) sampling rate, the distribution of returns is heavy-tailed (lognormal or worse), as opposed to normal or exponential.\n",
    "  - (At lower sampling rates, the returns get more normal. According to Cont, 2001).\n"
   ]
  },
  {
   "cell_type": "code",
   "execution_count": null,
   "id": "5bf652d1",
   "metadata": {},
   "outputs": [],
   "source": []
  }
 ],
 "metadata": {
  "kernelspec": {
   "display_name": "ufm",
   "language": "python",
   "name": "ufm"
  },
  "language_info": {
   "codemirror_mode": {
    "name": "ipython",
    "version": 3
   },
   "file_extension": ".py",
   "mimetype": "text/x-python",
   "name": "python",
   "nbconvert_exporter": "python",
   "pygments_lexer": "ipython3",
   "version": "3.9.7"
  }
 },
 "nbformat": 4,
 "nbformat_minor": 5
}
