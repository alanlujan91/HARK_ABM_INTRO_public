{
 "cells": [
  {
   "cell_type": "code",
   "execution_count": 1,
   "id": "96a8d04f",
   "metadata": {},
   "outputs": [],
   "source": [
    "import HARK.ConsumptionSaving.ConsPortfolioModel as cpm\n",
    "from HARK.Calibration.Income.IncomeTools import (\n",
    "     sabelhaus_song_var_profile,\n",
    ")\n",
    "from sharkfin.expectations import *\n",
    "from sharkfin.population import *\n",
    "from sharkfin.markets import *\n",
    "from sharkfin.simulation import *\n",
    "import logging\n",
    "import math\n",
    "from math import exp\n",
    "import matplotlib.pyplot as plt\n",
    "import numpy as np\n",
    "import pandas as pd"
   ]
  },
  {
   "cell_type": "code",
   "execution_count": 2,
   "id": "74bba8aa",
   "metadata": {},
   "outputs": [],
   "source": [
    "def run_simulation(agent_parameters, dist_params, n_per_class, a=None, q=None, r=1, fm=None, market=None, dphm=1500):\n",
    "    #initialize population\n",
    "    pop = AgentPopulation(agent_parameters, dist_params, n_per_class)\n",
    "    \n",
    "    market = MockMarket()\n",
    "    \n",
    "    #initialize the financial Fodel\n",
    "    Fm = FinanceModel\n",
    "    \n",
    "    #initialize population model\n",
    "    pop.init_simulation()\n",
    "    \n",
    "    attsim = AttentionSimulation(pop, Fm, a=a, q=q, r=r, market=market, dphm=dphm)\n",
    "    attsim.simulate()\n",
    "    \n",
    "    return attsim, attsim.sim_stats()"
   ]
  },
  {
   "cell_type": "code",
   "execution_count": 3,
   "id": "ef9f8788",
   "metadata": {},
   "outputs": [],
   "source": [
    "dist_params = {\n",
    "    'CRRA' : {'bot' : 2, 'top' : 10, 'n' : 2}, # Chosen for \"interesting\" results\n",
    "    'DiscFac' : {'bot' : 0.936, 'top' : 0.978, 'n' : 2} # from CSTW \"MPC\" results\n",
    "}\n",
    "\n",
    "ssvp = sabelhaus_song_var_profile()\n",
    "\n",
    "#assume all agents are 27\n",
    "idx_40 = ssvp['Age'].index(40)\n",
    "\n",
    "#parameters shared by all agents\n",
    "agent_parameters = {\n",
    "    'aNrmInitStd' : 0.0,\n",
    "    'LivPrb' : [0.98 ** 0.25],\n",
    "    'PermGroFac': [1.01 ** 0.25],\n",
    "    'pLvlInitMean' : 1.0, # initial distribution of permanent income\n",
    "    'pLvlInitStd' : 0.0,\n",
    "    'Rfree' : 1.0,\n",
    "    'TranShkStd' : [ssvp['TranShkStd'][idx_40] / 2],  # Adjust non-multiplicative shock to quarterly\n",
    "    'PermShkStd' : [ssvp['PermShkStd'][idx_40] ** 0.25]\n",
    "}"
   ]
  },
  {
   "cell_type": "code",
   "execution_count": 4,
   "id": "297c3424",
   "metadata": {},
   "outputs": [
    {
     "name": "stderr",
     "output_type": "stream",
     "text": [
      "/home/sb/.local/lib/python3.9/site-packages/numpy/core/_methods.py:261: RuntimeWarning: Degrees of freedom <= 0 for slice\n",
      "  ret = _var(a, axis=axis, dtype=dtype, out=out, ddof=ddof,\n",
      "/home/sb/.local/lib/python3.9/site-packages/numpy/core/_methods.py:221: RuntimeWarning: invalid value encountered in true_divide\n",
      "  arrmean = um.true_divide(arrmean, div, out=arrmean, casting='unsafe',\n",
      "/home/sb/.local/lib/python3.9/site-packages/numpy/core/_methods.py:253: RuntimeWarning: invalid value encountered in double_scalars\n",
      "  ret = ret.dtype.type(ret / rcount)\n"
     ]
    },
    {
     "name": "stdout",
     "output_type": "stream",
     "text": [
      "Q-0\n",
      "ERROR: Agent with CRRA 5.0has negative aNrm after capital gains update.\n",
      "Setting normalize assets and shares to 0.\n",
      "ERROR: Agent with CRRA 5.0has negative aNrm after capital gains update.\n",
      "Setting normalize assets and shares to 0.\n",
      "ERROR: Agent with CRRA 5.0has negative aNrm after capital gains update.\n",
      "Setting normalize assets and shares to 0.\n",
      "ERROR: Agent with CRRA 5.0has negative aNrm after capital gains update.\n",
      "Setting normalize assets and shares to 0.\n",
      "ERROR: Agent with CRRA 5.0has negative aNrm after capital gains update.\n",
      "Setting normalize assets and shares to 0.\n",
      "ERROR: Agent with CRRA 5.0has negative aNrm after capital gains update.\n",
      "Setting normalize assets and shares to 0.\n",
      "ERROR: Agent with CRRA 5.0has negative aNrm after capital gains update.\n",
      "Setting normalize assets and shares to 0.\n",
      "ERROR: Agent with CRRA 5.0has negative aNrm after capital gains update.\n",
      "Setting normalize assets and shares to 0.\n",
      "ERROR: Agent with CRRA 5.0has negative aNrm after capital gains update.\n",
      "Setting normalize assets and shares to 0.\n",
      "ERROR: Agent with CRRA 5.0has negative aNrm after capital gains update.\n",
      "Setting normalize assets and shares to 0.\n",
      "ERROR: Agent with CRRA 5.0has negative aNrm after capital gains update.\n",
      "Setting normalize assets and shares to 0.\n",
      "ERROR: Agent with CRRA 5.0has negative aNrm after capital gains update.\n",
      "Setting normalize assets and shares to 0.\n",
      "ERROR: Agent with CRRA 5.0has negative aNrm after capital gains update.\n",
      "Setting normalize assets and shares to 0.\n",
      "ERROR: Agent with CRRA 5.0has negative aNrm after capital gains update.\n",
      "Setting normalize assets and shares to 0.\n",
      "ERROR: Agent with CRRA 5.0has negative aNrm after capital gains update.\n",
      "Setting normalize assets and shares to 0.\n",
      "ERROR: Agent with CRRA 5.0has negative aNrm after capital gains update.\n",
      "Setting normalize assets and shares to 0.\n",
      "ERROR: Agent with CRRA 5.0has negative aNrm after capital gains update.\n",
      "Setting normalize assets and shares to 0.\n",
      "ERROR: Agent with CRRA 5.0has negative aNrm after capital gains update.\n",
      "Setting normalize assets and shares to 0.\n",
      "ERROR: Agent with CRRA 5.0has negative aNrm after capital gains update.\n",
      "Setting normalize assets and shares to 0.\n",
      "ERROR: Agent with CRRA 5.0has negative aNrm after capital gains update.\n",
      "Setting normalize assets and shares to 0.\n"
     ]
    },
    {
     "ename": "OverflowError",
     "evalue": "(34, 'Numerical result out of range')",
     "output_type": "error",
     "traceback": [
      "\u001b[0;31m---------------------------------------------------------------------------\u001b[0m",
      "\u001b[0;31mOverflowError\u001b[0m                             Traceback (most recent call last)",
      "\u001b[0;32m/tmp/ipykernel_18961/2167305903.py\u001b[0m in \u001b[0;36m<module>\u001b[0;34m\u001b[0m\n\u001b[0;32m----> 1\u001b[0;31m \u001b[0msim\u001b[0m\u001b[0;34m,\u001b[0m \u001b[0msim_stats\u001b[0m \u001b[0;34m=\u001b[0m \u001b[0mrun_simulation\u001b[0m\u001b[0;34m(\u001b[0m\u001b[0magent_parameters\u001b[0m\u001b[0;34m,\u001b[0m \u001b[0mdist_params\u001b[0m\u001b[0;34m,\u001b[0m \u001b[0;36m10\u001b[0m\u001b[0;34m,\u001b[0m \u001b[0ma\u001b[0m\u001b[0;34m=\u001b[0m\u001b[0;36m0.2\u001b[0m\u001b[0;34m,\u001b[0m \u001b[0mq\u001b[0m\u001b[0;34m=\u001b[0m\u001b[0;36m8\u001b[0m\u001b[0;34m,\u001b[0m \u001b[0mr\u001b[0m\u001b[0;34m=\u001b[0m\u001b[0;36m6\u001b[0m\u001b[0;34m,\u001b[0m \u001b[0mdphm\u001b[0m\u001b[0;34m=\u001b[0m\u001b[0;36m10500\u001b[0m\u001b[0;34m)\u001b[0m\u001b[0;34m\u001b[0m\u001b[0;34m\u001b[0m\u001b[0m\n\u001b[0m",
      "\u001b[0;32m/tmp/ipykernel_18961/3437771710.py\u001b[0m in \u001b[0;36mrun_simulation\u001b[0;34m(agent_parameters, dist_params, n_per_class, a, q, r, fm, market, dphm)\u001b[0m\n\u001b[1;32m     12\u001b[0m \u001b[0;34m\u001b[0m\u001b[0m\n\u001b[1;32m     13\u001b[0m     \u001b[0mattsim\u001b[0m \u001b[0;34m=\u001b[0m \u001b[0mAttentionSimulation\u001b[0m\u001b[0;34m(\u001b[0m\u001b[0mpop\u001b[0m\u001b[0;34m,\u001b[0m \u001b[0mFm\u001b[0m\u001b[0;34m,\u001b[0m \u001b[0ma\u001b[0m\u001b[0;34m=\u001b[0m\u001b[0ma\u001b[0m\u001b[0;34m,\u001b[0m \u001b[0mq\u001b[0m\u001b[0;34m=\u001b[0m\u001b[0mq\u001b[0m\u001b[0;34m,\u001b[0m \u001b[0mr\u001b[0m\u001b[0;34m=\u001b[0m\u001b[0mr\u001b[0m\u001b[0;34m,\u001b[0m \u001b[0mmarket\u001b[0m\u001b[0;34m=\u001b[0m\u001b[0mmarket\u001b[0m\u001b[0;34m,\u001b[0m \u001b[0mdphm\u001b[0m\u001b[0;34m=\u001b[0m\u001b[0mdphm\u001b[0m\u001b[0;34m)\u001b[0m\u001b[0;34m\u001b[0m\u001b[0;34m\u001b[0m\u001b[0m\n\u001b[0;32m---> 14\u001b[0;31m     \u001b[0mattsim\u001b[0m\u001b[0;34m.\u001b[0m\u001b[0msimulate\u001b[0m\u001b[0;34m(\u001b[0m\u001b[0;34m)\u001b[0m\u001b[0;34m\u001b[0m\u001b[0;34m\u001b[0m\u001b[0m\n\u001b[0m\u001b[1;32m     15\u001b[0m \u001b[0;34m\u001b[0m\u001b[0m\n\u001b[1;32m     16\u001b[0m     \u001b[0;32mreturn\u001b[0m \u001b[0mattsim\u001b[0m\u001b[0;34m,\u001b[0m \u001b[0mattsim\u001b[0m\u001b[0;34m.\u001b[0m\u001b[0msim_stats\u001b[0m\u001b[0;34m(\u001b[0m\u001b[0;34m)\u001b[0m\u001b[0;34m\u001b[0m\u001b[0;34m\u001b[0m\u001b[0m\n",
      "\u001b[0;32m~/projects/ufm/SHARKFin/sharkfin/simulation.py\u001b[0m in \u001b[0;36msimulate\u001b[0;34m(self, quarters, start)\u001b[0m\n\u001b[1;32m    653\u001b[0m                 \u001b[0;32mfor\u001b[0m \u001b[0magent\u001b[0m \u001b[0;32min\u001b[0m \u001b[0mself\u001b[0m\u001b[0;34m.\u001b[0m\u001b[0magents\u001b[0m\u001b[0;34m:\u001b[0m\u001b[0;34m\u001b[0m\u001b[0;34m\u001b[0m\u001b[0m\n\u001b[1;32m    654\u001b[0m                     \u001b[0;32mif\u001b[0m \u001b[0mrandom\u001b[0m\u001b[0;34m.\u001b[0m\u001b[0mrandom\u001b[0m\u001b[0;34m(\u001b[0m\u001b[0;34m)\u001b[0m \u001b[0;34m<\u001b[0m \u001b[0mself\u001b[0m\u001b[0;34m.\u001b[0m\u001b[0mattention_rate\u001b[0m\u001b[0;34m:\u001b[0m\u001b[0;34m\u001b[0m\u001b[0;34m\u001b[0m\u001b[0m\n\u001b[0;32m--> 655\u001b[0;31m                         \u001b[0mself\u001b[0m\u001b[0;34m.\u001b[0m\u001b[0mbroker\u001b[0m\u001b[0;34m.\u001b[0m\u001b[0mtransact\u001b[0m\u001b[0;34m(\u001b[0m\u001b[0mself\u001b[0m\u001b[0;34m.\u001b[0m\u001b[0mattend\u001b[0m\u001b[0;34m(\u001b[0m\u001b[0magent\u001b[0m\u001b[0;34m)\u001b[0m\u001b[0;34m)\u001b[0m\u001b[0;34m\u001b[0m\u001b[0;34m\u001b[0m\u001b[0m\n\u001b[0m\u001b[1;32m    656\u001b[0m \u001b[0;34m\u001b[0m\u001b[0m\n\u001b[1;32m    657\u001b[0m                 \u001b[0mbuy_sell\u001b[0m\u001b[0;34m,\u001b[0m \u001b[0mror\u001b[0m\u001b[0;34m,\u001b[0m \u001b[0mprice\u001b[0m \u001b[0;34m=\u001b[0m \u001b[0mself\u001b[0m\u001b[0;34m.\u001b[0m\u001b[0mbroker\u001b[0m\u001b[0;34m.\u001b[0m\u001b[0mtrade\u001b[0m\u001b[0;34m(\u001b[0m\u001b[0;34m)\u001b[0m\u001b[0;34m\u001b[0m\u001b[0;34m\u001b[0m\u001b[0m\n",
      "\u001b[0;32m~/projects/ufm/SHARKFin/sharkfin/simulation.py\u001b[0m in \u001b[0;36mattend\u001b[0;34m(self, agent)\u001b[0m\n\u001b[1;32m    138\u001b[0m         \"\"\"\n\u001b[1;32m    139\u001b[0m         \u001b[0;31m# Note: this mutates the underlying agent\u001b[0m\u001b[0;34m\u001b[0m\u001b[0;34m\u001b[0m\u001b[0m\n\u001b[0;32m--> 140\u001b[0;31m         \u001b[0magent\u001b[0m\u001b[0;34m.\u001b[0m\u001b[0massign_parameters\u001b[0m\u001b[0;34m(\u001b[0m\u001b[0;34m**\u001b[0m\u001b[0mself\u001b[0m\u001b[0;34m.\u001b[0m\u001b[0mfm\u001b[0m\u001b[0;34m.\u001b[0m\u001b[0mrisky_expectations\u001b[0m\u001b[0;34m(\u001b[0m\u001b[0;34m)\u001b[0m\u001b[0;34m)\u001b[0m\u001b[0;34m\u001b[0m\u001b[0;34m\u001b[0m\u001b[0m\n\u001b[0m\u001b[1;32m    141\u001b[0m \u001b[0;34m\u001b[0m\u001b[0m\n\u001b[1;32m    142\u001b[0m         \u001b[0md_shares\u001b[0m \u001b[0;34m=\u001b[0m \u001b[0mself\u001b[0m\u001b[0;34m.\u001b[0m\u001b[0mcompute_share_demand\u001b[0m\u001b[0;34m(\u001b[0m\u001b[0magent\u001b[0m\u001b[0;34m)\u001b[0m\u001b[0;34m\u001b[0m\u001b[0;34m\u001b[0m\u001b[0m\n",
      "\u001b[0;32m~/projects/ufm/SHARKFin/sharkfin/expectations.py\u001b[0m in \u001b[0;36mrisky_expectations\u001b[0;34m(self)\u001b[0m\n\u001b[1;32m    199\u001b[0m         \"\"\"\n\u001b[1;32m    200\u001b[0m         \u001b[0;31m# expected capital gains quarterly\u001b[0m\u001b[0;34m\u001b[0m\u001b[0;34m\u001b[0m\u001b[0m\n\u001b[0;32m--> 201\u001b[0;31m         \u001b[0mex_cg_q_ror\u001b[0m \u001b[0;34m=\u001b[0m \u001b[0mror_quarterly\u001b[0m\u001b[0;34m(\u001b[0m\u001b[0mself\u001b[0m\u001b[0;34m.\u001b[0m\u001b[0mexpected_ror_list\u001b[0m\u001b[0;34m[\u001b[0m\u001b[0;34m-\u001b[0m\u001b[0;36m1\u001b[0m\u001b[0;34m]\u001b[0m\u001b[0;34m,\u001b[0m \u001b[0mself\u001b[0m\u001b[0;34m.\u001b[0m\u001b[0mdays_per_quarter\u001b[0m\u001b[0;34m)\u001b[0m\u001b[0;34m\u001b[0m\u001b[0;34m\u001b[0m\u001b[0m\n\u001b[0m\u001b[1;32m    202\u001b[0m         \u001b[0mex_cg_q_std\u001b[0m \u001b[0;34m=\u001b[0m \u001b[0msig_quarterly\u001b[0m\u001b[0;34m(\u001b[0m\u001b[0mself\u001b[0m\u001b[0;34m.\u001b[0m\u001b[0mexpected_std_list\u001b[0m\u001b[0;34m[\u001b[0m\u001b[0;34m-\u001b[0m\u001b[0;36m1\u001b[0m\u001b[0;34m]\u001b[0m\u001b[0;34m,\u001b[0m \u001b[0mself\u001b[0m\u001b[0;34m.\u001b[0m\u001b[0mdays_per_quarter\u001b[0m\u001b[0;34m)\u001b[0m\u001b[0;34m\u001b[0m\u001b[0;34m\u001b[0m\u001b[0m\n\u001b[1;32m    203\u001b[0m \u001b[0;34m\u001b[0m\u001b[0m\n",
      "\u001b[0;32m~/projects/ufm/SHARKFin/sharkfin/utilities.py\u001b[0m in \u001b[0;36mror_quarterly\u001b[0;34m(ror, n_q)\u001b[0m\n\u001b[1;32m    151\u001b[0m     \u001b[0mConvert\u001b[0m \u001b[0ma\u001b[0m \u001b[0mdaily\u001b[0m \u001b[0mrate\u001b[0m \u001b[0mof\u001b[0m \u001b[0;32mreturn\u001b[0m \u001b[0mto\u001b[0m \u001b[0ma\u001b[0m \u001b[0mrate\u001b[0m \u001b[0;32mfor\u001b[0m \u001b[0;34m(\u001b[0m\u001b[0mn_q\u001b[0m\u001b[0;34m)\u001b[0m \u001b[0mdays\u001b[0m\u001b[0;34m.\u001b[0m\u001b[0;34m\u001b[0m\u001b[0;34m\u001b[0m\u001b[0m\n\u001b[1;32m    152\u001b[0m     \"\"\"\n\u001b[0;32m--> 153\u001b[0;31m     \u001b[0;32mreturn\u001b[0m \u001b[0mpow\u001b[0m\u001b[0;34m(\u001b[0m\u001b[0;36m1\u001b[0m \u001b[0;34m+\u001b[0m \u001b[0mror\u001b[0m\u001b[0;34m,\u001b[0m \u001b[0mn_q\u001b[0m\u001b[0;34m)\u001b[0m \u001b[0;34m-\u001b[0m \u001b[0;36m1\u001b[0m\u001b[0;34m\u001b[0m\u001b[0;34m\u001b[0m\u001b[0m\n\u001b[0m\u001b[1;32m    154\u001b[0m \u001b[0;34m\u001b[0m\u001b[0m\n\u001b[1;32m    155\u001b[0m \u001b[0;34m\u001b[0m\u001b[0m\n",
      "\u001b[0;31mOverflowError\u001b[0m: (34, 'Numerical result out of range')"
     ]
    }
   ],
   "source": [
    "sim, sim_stats = run_simulation(agent_parameters, dist_params, 10, a=0.2, q=8, r=6, dphm=10500)"
   ]
  },
  {
   "cell_type": "code",
   "execution_count": null,
   "id": "5f495aca",
   "metadata": {},
   "outputs": [],
   "source": [
    "data = sim.data()"
   ]
  },
  {
   "cell_type": "code",
   "execution_count": null,
   "id": "509a33dc",
   "metadata": {},
   "outputs": [],
   "source": [
    "data"
   ]
  },
  {
   "cell_type": "code",
   "execution_count": null,
   "id": "c08946a9",
   "metadata": {},
   "outputs": [],
   "source": [
    "plt.rcParams.update({\n",
    "    \"text.usetex\": True,\n",
    "    \"font.family\": \"serif\",\n",
    "    \"font.serif\": [\"Palatino\"],\n",
    "})\n",
    "\n",
    "\n",
    "fig, ax = plt.subplots(4,\n",
    "    sharex='col',\n",
    "    figsize=(14,16),\n",
    ")\n",
    "\n",
    "ax[0].plot(data['total_assets'], alpha=0.5, label='Total owned share')\n",
    "ax[0].plot([p * o for (p,o) in zip(data['prices'], data['owned'])], alpha=0.5, label='Owned share value')\n",
    "ax[0].plot([100 * o for (p,o) in zip(data['prices'], data['owned'])], alpha=0.5, label='Owned share quantity * price at time 0')\n",
    "ax[0].legend()\n",
    "\n",
    "ax[1].plot(data['buy'], alpha=0.5, label='Buy limit')\n",
    "ax[1].plot(-data['sell'], alpha=0.5, label='Sell limit')\n",
    "ax[1].plot(data['buy_macro'], alpha=0.5, label='Buy orders from macro updates')\n",
    "ax[1].plot(-data['sell_macro'], alpha=0.5, label='Sell orders from macro updates')\n",
    "ax[1].legend()\n",
    "\n",
    "ax[2].plot(data['ror'], alpha=0.5, label='Market rate-of-return')\n",
    "ax[2].plot(data['expected_ror'], alpha=0.5, label='Expected ror')\n",
    "ax[2].plot(np.zeros(data['expected_ror'].shape), alpha=0.5)\n",
    "ax[2].legend()\n",
    "\n",
    "ax[3].plot(data['prices'], alpha=0.5, label='Price of asset')\n",
    "ax[3].legend()\n",
    "\n",
    "ax[0].set_title(\"Simulation History\")\n",
    "ax[0].set_ylabel(\"Dollars\")\n",
    "ax[1].set_ylabel(\"Shares\")\n",
    "ax[2].set_ylabel(\"Rate of change\")\n",
    "ax[3].set_ylabel(\"Dollars\")\n",
    "ax[3].set_xlabel(\"Time in Days\")\n",
    "\n",
    "plt.tight_layout()\n",
    "plt.savefig(\"asset_bubble_run.png\")\n",
    "plt.show()\n",
    "\n"
   ]
  },
  {
   "cell_type": "code",
   "execution_count": null,
   "id": "e9fee01e",
   "metadata": {},
   "outputs": [],
   "source": []
  },
  {
   "cell_type": "code",
   "execution_count": null,
   "id": "d0b1c2e4",
   "metadata": {},
   "outputs": [],
   "source": []
  },
  {
   "cell_type": "code",
   "execution_count": null,
   "id": "87bb70c6",
   "metadata": {},
   "outputs": [],
   "source": []
  }
 ],
 "metadata": {
  "kernelspec": {
   "display_name": "ufm",
   "language": "python",
   "name": "ufm"
  },
  "language_info": {
   "codemirror_mode": {
    "name": "ipython",
    "version": 3
   },
   "file_extension": ".py",
   "mimetype": "text/x-python",
   "name": "python",
   "nbconvert_exporter": "python",
   "pygments_lexer": "ipython3",
   "version": "3.9.7"
  },
  "latex_envs": {
   "LaTeX_envs_menu_present": true,
   "autoclose": false,
   "autocomplete": true,
   "bibliofile": "biblio.bib",
   "cite_by": "apalike",
   "current_citInitial": 1,
   "eqLabelWithNumbers": true,
   "eqNumInitial": 1,
   "hotkeys": {
    "equation": "Ctrl-E",
    "itemize": "Ctrl-I"
   },
   "labels_anchors": false,
   "latex_user_defs": false,
   "report_style_numbering": false,
   "user_envs_cfg": false
  },
  "toc": {
   "base_numbering": 1,
   "nav_menu": {},
   "number_sections": true,
   "sideBar": true,
   "skip_h1_title": false,
   "title_cell": "Table of Contents",
   "title_sidebar": "Contents",
   "toc_cell": false,
   "toc_position": {},
   "toc_section_display": true,
   "toc_window_display": false
  }
 },
 "nbformat": 4,
 "nbformat_minor": 5
}
