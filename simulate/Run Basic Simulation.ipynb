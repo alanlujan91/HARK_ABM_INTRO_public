{
 "cells": [
  {
   "cell_type": "code",
   "execution_count": 1,
   "id": "96a8d04f",
   "metadata": {},
   "outputs": [],
   "source": [
    "import HARK.ConsumptionSaving.ConsPortfolioModel as cpm\n",
    "from HARK.Calibration.Income.IncomeTools import (\n",
    "     sabelhaus_song_var_profile,\n",
    ")\n",
    "from sharkfin.expectations import *\n",
    "from sharkfin.population import *\n",
    "from sharkfin.markets import *\n",
    "from sharkfin.simulation import *\n",
    "import logging\n",
    "import math\n",
    "from math import exp\n",
    "import matplotlib.pyplot as plt\n",
    "import numpy as np\n",
    "import pandas as pd"
   ]
  },
  {
   "cell_type": "code",
   "execution_count": 2,
   "id": "74bba8aa",
   "metadata": {},
   "outputs": [],
   "source": [
    "def run_simulation(agent_parameters, dist_params, n_per_class, a=None, q=None, r=1, fm=None, market=None, dphm=1500):\n",
    "    #initialize population\n",
    "    pop = sharkfin.population.AgentPopulation(agent_parameters, dist_params, n_per_class)\n",
    "    \n",
    "    market = MockMarket()\n",
    "    \n",
    "    #initialize the financial Fodel\n",
    "    Fm = FinanceModel\n",
    "    \n",
    "    #initialize population model\n",
    "    pop.init_simulation()\n",
    "    \n",
    "    attsim = sharkfin.simulation.AttentionSimulation(pop, Fm, a=a, q=q, r=r, market=market, dphm=dphm)\n",
    "    attsim.simulate()\n",
    "    \n",
    "    return attsim, attsim.sim_stats()"
   ]
  },
  {
   "cell_type": "code",
   "execution_count": 3,
   "id": "ef9f8788",
   "metadata": {},
   "outputs": [],
   "source": [
    "dist_params = {\n",
    "    'CRRA' : {'bot' : 2, 'top' : 10, 'n' : 2}, # Chosen for \"interesting\" results\n",
    "    'DiscFac' : {'bot' : 0.936, 'top' : 0.978, 'n' : 2} # from CSTW \"MPC\" results\n",
    "}\n",
    "\n",
    "ssvp = sabelhaus_song_var_profile()\n",
    "\n",
    "#assume all agents are 27\n",
    "idx_40 = ssvp['Age'].index(40)\n",
    "\n",
    "#parameters shared by all agents\n",
    "agent_parameters = {\n",
    "    'aNrmInitStd' : 0.0,\n",
    "    'LivPrb' : [0.98 ** 0.25],\n",
    "    'PermGroFac': [1.01 ** 0.25],\n",
    "    'pLvlInitMean' : 1.0, # initial distribution of permanent income\n",
    "    'pLvlInitStd' : 0.0,\n",
    "    'Rfree' : 1.0,\n",
    "    'TranShkStd' : [ssvp['TranShkStd'][idx_40] / 2],  # Adjust non-multiplicative shock to quarterly\n",
    "    'PermShkStd' : [ssvp['PermShkStd'][idx_40] ** 0.25]\n",
    "}"
   ]
  },
  {
   "cell_type": "code",
   "execution_count": 4,
   "id": "297c3424",
   "metadata": {},
   "outputs": [
    {
     "ename": "NameError",
     "evalue": "name 'sharkfin' is not defined",
     "output_type": "error",
     "traceback": [
      "\u001b[0;31m---------------------------------------------------------------------------\u001b[0m",
      "\u001b[0;31mNameError\u001b[0m                                 Traceback (most recent call last)",
      "\u001b[0;32m/tmp/ipykernel_18840/2167305903.py\u001b[0m in \u001b[0;36m<module>\u001b[0;34m\u001b[0m\n\u001b[0;32m----> 1\u001b[0;31m \u001b[0msim\u001b[0m\u001b[0;34m,\u001b[0m \u001b[0msim_stats\u001b[0m \u001b[0;34m=\u001b[0m \u001b[0mrun_simulation\u001b[0m\u001b[0;34m(\u001b[0m\u001b[0magent_parameters\u001b[0m\u001b[0;34m,\u001b[0m \u001b[0mdist_params\u001b[0m\u001b[0;34m,\u001b[0m \u001b[0;36m10\u001b[0m\u001b[0;34m,\u001b[0m \u001b[0ma\u001b[0m\u001b[0;34m=\u001b[0m\u001b[0;36m0.2\u001b[0m\u001b[0;34m,\u001b[0m \u001b[0mq\u001b[0m\u001b[0;34m=\u001b[0m\u001b[0;36m8\u001b[0m\u001b[0;34m,\u001b[0m \u001b[0mr\u001b[0m\u001b[0;34m=\u001b[0m\u001b[0;36m6\u001b[0m\u001b[0;34m,\u001b[0m \u001b[0mdphm\u001b[0m\u001b[0;34m=\u001b[0m\u001b[0;36m10500\u001b[0m\u001b[0;34m)\u001b[0m\u001b[0;34m\u001b[0m\u001b[0;34m\u001b[0m\u001b[0m\n\u001b[0m",
      "\u001b[0;32m/tmp/ipykernel_18840/621569555.py\u001b[0m in \u001b[0;36mrun_simulation\u001b[0;34m(agent_parameters, dist_params, n_per_class, a, q, r, fm, market, dphm)\u001b[0m\n\u001b[1;32m      1\u001b[0m \u001b[0;32mdef\u001b[0m \u001b[0mrun_simulation\u001b[0m\u001b[0;34m(\u001b[0m\u001b[0magent_parameters\u001b[0m\u001b[0;34m,\u001b[0m \u001b[0mdist_params\u001b[0m\u001b[0;34m,\u001b[0m \u001b[0mn_per_class\u001b[0m\u001b[0;34m,\u001b[0m \u001b[0ma\u001b[0m\u001b[0;34m=\u001b[0m\u001b[0;32mNone\u001b[0m\u001b[0;34m,\u001b[0m \u001b[0mq\u001b[0m\u001b[0;34m=\u001b[0m\u001b[0;32mNone\u001b[0m\u001b[0;34m,\u001b[0m \u001b[0mr\u001b[0m\u001b[0;34m=\u001b[0m\u001b[0;36m1\u001b[0m\u001b[0;34m,\u001b[0m \u001b[0mfm\u001b[0m\u001b[0;34m=\u001b[0m\u001b[0;32mNone\u001b[0m\u001b[0;34m,\u001b[0m \u001b[0mmarket\u001b[0m\u001b[0;34m=\u001b[0m\u001b[0;32mNone\u001b[0m\u001b[0;34m,\u001b[0m \u001b[0mdphm\u001b[0m\u001b[0;34m=\u001b[0m\u001b[0;36m1500\u001b[0m\u001b[0;34m)\u001b[0m\u001b[0;34m:\u001b[0m\u001b[0;34m\u001b[0m\u001b[0;34m\u001b[0m\u001b[0m\n\u001b[1;32m      2\u001b[0m     \u001b[0;31m#initialize population\u001b[0m\u001b[0;34m\u001b[0m\u001b[0;34m\u001b[0m\u001b[0m\n\u001b[0;32m----> 3\u001b[0;31m     \u001b[0mpop\u001b[0m \u001b[0;34m=\u001b[0m \u001b[0msharkfin\u001b[0m\u001b[0;34m.\u001b[0m\u001b[0mpopulation\u001b[0m\u001b[0;34m.\u001b[0m\u001b[0mAgentPopulation\u001b[0m\u001b[0;34m(\u001b[0m\u001b[0magent_parameters\u001b[0m\u001b[0;34m,\u001b[0m \u001b[0mdist_params\u001b[0m\u001b[0;34m,\u001b[0m \u001b[0mn_per_class\u001b[0m\u001b[0;34m)\u001b[0m\u001b[0;34m\u001b[0m\u001b[0;34m\u001b[0m\u001b[0m\n\u001b[0m\u001b[1;32m      4\u001b[0m \u001b[0;34m\u001b[0m\u001b[0m\n\u001b[1;32m      5\u001b[0m     \u001b[0mmarket\u001b[0m \u001b[0;34m=\u001b[0m \u001b[0mMockMarket\u001b[0m\u001b[0;34m(\u001b[0m\u001b[0;34m)\u001b[0m\u001b[0;34m\u001b[0m\u001b[0;34m\u001b[0m\u001b[0m\n",
      "\u001b[0;31mNameError\u001b[0m: name 'sharkfin' is not defined"
     ]
    }
   ],
   "source": [
    "sim, sim_stats = run_simulation(agent_parameters, dist_params, 10, a=0.2, q=8, r=6, dphm=10500)"
   ]
  },
  {
   "cell_type": "code",
   "execution_count": null,
   "id": "5f495aca",
   "metadata": {},
   "outputs": [],
   "source": [
    "data = sim.data()"
   ]
  },
  {
   "cell_type": "code",
   "execution_count": null,
   "id": "509a33dc",
   "metadata": {},
   "outputs": [],
   "source": [
    "data"
   ]
  },
  {
   "cell_type": "code",
   "execution_count": null,
   "id": "c08946a9",
   "metadata": {},
   "outputs": [],
   "source": [
    "plt.rcParams.update({\n",
    "    \"text.usetex\": True,\n",
    "    \"font.family\": \"serif\",\n",
    "    \"font.serif\": [\"Palatino\"],\n",
    "})\n",
    "\n",
    "\n",
    "fig, ax = plt.subplots(4,\n",
    "    sharex='col',\n",
    "    figsize=(14,16),\n",
    ")\n",
    "\n",
    "ax[0].plot(data['total_assets'], alpha=0.5, label='Total owned share')\n",
    "ax[0].plot([p * o for (p,o) in zip(data['prices'], data['owned'])], alpha=0.5, label='Owned share value')\n",
    "ax[0].plot([100 * o for (p,o) in zip(data['prices'], data['owned'])], alpha=0.5, label='Owned share quantity * price at time 0')\n",
    "ax[0].legend()\n",
    "\n",
    "ax[1].plot(data['buy'], alpha=0.5, label='Buy limit')\n",
    "ax[1].plot(-data['sell'], alpha=0.5, label='Sell limit')\n",
    "ax[1].plot(data['buy_macro'], alpha=0.5, label='Buy orders from macro updates')\n",
    "ax[1].plot(-data['sell_macro'], alpha=0.5, label='Sell orders from macro updates')\n",
    "ax[1].legend()\n",
    "\n",
    "ax[2].plot(data['ror'], alpha=0.5, label='Market rate-of-return')\n",
    "ax[2].plot(data['expected_ror'], alpha=0.5, label='Expected ror')\n",
    "ax[2].plot(np.zeros(data['expected_ror'].shape), alpha=0.5)\n",
    "ax[2].legend()\n",
    "\n",
    "ax[3].plot(data['prices'], alpha=0.5, label='Price of asset')\n",
    "ax[3].legend()\n",
    "\n",
    "ax[0].set_title(\"Simulation History\")\n",
    "ax[0].set_ylabel(\"Dollars\")\n",
    "ax[1].set_ylabel(\"Shares\")\n",
    "ax[2].set_ylabel(\"Rate of change\")\n",
    "ax[3].set_ylabel(\"Dollars\")\n",
    "ax[3].set_xlabel(\"Time in Days\")\n",
    "\n",
    "plt.tight_layout()\n",
    "plt.savefig(\"asset_bubble_run.png\")\n",
    "plt.show()\n",
    "\n"
   ]
  },
  {
   "cell_type": "code",
   "execution_count": null,
   "id": "e9fee01e",
   "metadata": {},
   "outputs": [],
   "source": []
  },
  {
   "cell_type": "code",
   "execution_count": null,
   "id": "d0b1c2e4",
   "metadata": {},
   "outputs": [],
   "source": []
  },
  {
   "cell_type": "code",
   "execution_count": null,
   "id": "87bb70c6",
   "metadata": {},
   "outputs": [],
   "source": []
  }
 ],
 "metadata": {
  "kernelspec": {
   "display_name": "ufm",
   "language": "python",
   "name": "ufm"
  },
  "language_info": {
   "codemirror_mode": {
    "name": "ipython",
    "version": 3
   },
   "file_extension": ".py",
   "mimetype": "text/x-python",
   "name": "python",
   "nbconvert_exporter": "python",
   "pygments_lexer": "ipython3",
   "version": "3.9.7"
  },
  "latex_envs": {
   "LaTeX_envs_menu_present": true,
   "autoclose": false,
   "autocomplete": true,
   "bibliofile": "biblio.bib",
   "cite_by": "apalike",
   "current_citInitial": 1,
   "eqLabelWithNumbers": true,
   "eqNumInitial": 1,
   "hotkeys": {
    "equation": "Ctrl-E",
    "itemize": "Ctrl-I"
   },
   "labels_anchors": false,
   "latex_user_defs": false,
   "report_style_numbering": false,
   "user_envs_cfg": false
  },
  "toc": {
   "base_numbering": 1,
   "nav_menu": {},
   "number_sections": true,
   "sideBar": true,
   "skip_h1_title": false,
   "title_cell": "Table of Contents",
   "title_sidebar": "Contents",
   "toc_cell": false,
   "toc_position": {},
   "toc_section_display": true,
   "toc_window_display": false
  }
 },
 "nbformat": 4,
 "nbformat_minor": 5
}
